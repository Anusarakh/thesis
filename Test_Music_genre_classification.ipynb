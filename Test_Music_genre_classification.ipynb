{
  "nbformat": 4,
  "nbformat_minor": 0,
  "metadata": {
    "colab": {
      "provenance": [],
      "mount_file_id": "1cxinV6dZSaVD5e_OYyTIGhe3pqUyMUlF",
      "authorship_tag": "ABX9TyMHuzYIZfQyTnZAQyAT/Y1o",
      "include_colab_link": true
    },
    "kernelspec": {
      "name": "python3",
      "display_name": "Python 3"
    },
    "language_info": {
      "name": "python"
    }
  },
  "cells": [
    {
      "cell_type": "markdown",
      "metadata": {
        "id": "view-in-github",
        "colab_type": "text"
      },
      "source": [
        "<a href=\"https://colab.research.google.com/github/Anusarakh/thesis/blob/main/Test_Music_genre_classification.ipynb\" target=\"_parent\"><img src=\"https://colab.research.google.com/assets/colab-badge.svg\" alt=\"Open In Colab\"/></a>"
      ]
    },
    {
      "cell_type": "code",
      "execution_count": null,
      "metadata": {
        "id": "dDTHYosRauNc"
      },
      "outputs": [],
      "source": []
    },
    {
      "cell_type": "code",
      "source": [
        "from google.colab import drive\n",
        "drive.mount('/content/drive')"
      ],
      "metadata": {
        "colab": {
          "base_uri": "https://localhost:8080/"
        },
        "id": "NFkio263a9_-",
        "outputId": "e2cf416f-9243-4ed6-e7a8-ae0f48d9aa67"
      },
      "execution_count": 1,
      "outputs": [
        {
          "output_type": "stream",
          "name": "stdout",
          "text": [
            "Mounted at /content/drive\n"
          ]
        }
      ]
    },
    {
      "cell_type": "code",
      "source": [
        "# feature extractoring and preprocessing data\n",
        "import librosa\n",
        "import pandas as pd\n",
        "import numpy as np\n",
        "import matplotlib.pyplot as plt\n",
        "%matplotlib inline\n",
        "import os\n",
        "from PIL import Image\n",
        "import pathlib\n",
        "import csv\n",
        "\n",
        "# Preprocessing\n",
        "from sklearn.model_selection import train_test_split\n",
        "from sklearn.preprocessing import LabelEncoder, StandardScaler\n",
        "\n",
        "#Keras\n",
        "import keras\n",
        "\n",
        "import warnings\n",
        "warnings.filterwarnings('ignore')"
      ],
      "metadata": {
        "id": "NbmGTEcjbJF4"
      },
      "execution_count": 2,
      "outputs": []
    },
    {
      "cell_type": "code",
      "source": [
        "data = pd.read_csv('/content/drive/MyDrive/Thesis/music/features_30_sec_2label.csv')\n",
        "data"
      ],
      "metadata": {
        "colab": {
          "base_uri": "https://localhost:8080/",
          "height": 487
        },
        "id": "3HlBxyX-bJim",
        "outputId": "d5817213-ba8a-478a-dfcf-e640632c1d68"
      },
      "execution_count": 3,
      "outputs": [
        {
          "output_type": "execute_result",
          "data": {
            "text/plain": [
              "     chroma_stft_mean  chroma_stft_var  rms_mean   rms_var  \\\n",
              "0            0.350088         0.088757  0.130228  0.002827   \n",
              "1            0.340914         0.094980  0.095948  0.002373   \n",
              "2            0.363637         0.085275  0.175570  0.002746   \n",
              "3            0.404785         0.093999  0.141093  0.006346   \n",
              "4            0.308526         0.087841  0.091529  0.002303   \n",
              "..                ...              ...       ...       ...   \n",
              "195          0.227693         0.088256  0.013564  0.000229   \n",
              "196          0.293052         0.082874  0.056987  0.000786   \n",
              "197          0.222265         0.083254  0.036720  0.000465   \n",
              "198          0.289919         0.088790  0.029094  0.000332   \n",
              "199          0.333908         0.078685  0.010506  0.000004   \n",
              "\n",
              "     spectral_centroid_mean  spectral_centroid_var  spectral_bandwidth_mean  \\\n",
              "0               1784.165850           129774.06450              2002.449060   \n",
              "1               1530.176679           375850.07360              2039.036516   \n",
              "2               1552.811865           156467.64340              1747.702312   \n",
              "3               1070.106615           184355.94240              1596.412872   \n",
              "4               1835.004266           343399.93930              1748.172116   \n",
              "..                      ...                    ...                      ...   \n",
              "195             1800.888692           285133.98220              1781.068502   \n",
              "196             1933.689602           192223.36290              1740.491088   \n",
              "197             1494.419821            92293.65472              1671.195986   \n",
              "198             1952.495511           166304.03580              1865.737617   \n",
              "199             1525.123851            46679.59000              1869.056261   \n",
              "\n",
              "     spectral_bandwidth_var  rolloff_mean   rolloff_var  ...  mfcc16_var  \\\n",
              "0               85882.76132   3805.839606  9.015054e+05  ...   52.420910   \n",
              "1              213843.75550   3550.522098  2.977893e+06  ...   55.356403   \n",
              "2               76254.19226   3042.260232  7.840345e+05  ...   40.598766   \n",
              "3              166441.49480   2184.745799  1.493194e+06  ...   44.427753   \n",
              "4               88445.20904   3579.757627  1.572978e+06  ...   86.099236   \n",
              "..                      ...           ...           ...  ...         ...   \n",
              "195             62925.51721   3427.243261  8.645783e+05  ...  136.467468   \n",
              "196             27385.87471   3573.962147  4.543625e+05  ...   49.117809   \n",
              "197             31772.32080   2781.813393  3.395294e+05  ...   97.051605   \n",
              "198             22529.55381   3779.826564  4.477117e+05  ...   59.865459   \n",
              "199             21425.26491   3325.680818  3.465919e+05  ...   89.436073   \n",
              "\n",
              "     mfcc17_mean  mfcc17_var  mfcc18_mean  mfcc18_var  mfcc19_mean  \\\n",
              "0      -1.690215   36.524071    -0.408979   41.597103    -2.303523   \n",
              "1      -0.731125   60.314529     0.295073   48.120598    -0.283518   \n",
              "2      -7.729093   47.639427    -1.816407   52.382141    -3.439720   \n",
              "3      -3.319597   50.206673     0.636965   37.319130    -0.619121   \n",
              "4      -5.454034   75.269707    -0.916874   53.613918    -4.404827   \n",
              "..           ...         ...          ...         ...          ...   \n",
              "195     2.417449  125.991013     0.779610   68.256584    -3.415084   \n",
              "196     2.988827   39.963310     3.548611   52.965549    -3.346735   \n",
              "197     0.787177   74.531082    -3.961360   52.424522    -9.148158   \n",
              "198     7.026492   83.698685     8.378774   71.380379    -5.610244   \n",
              "199     2.519061   91.123299     4.399822   57.132504     1.703097   \n",
              "\n",
              "     mfcc19_var  mfcc20_mean  mfcc20_var      label  \n",
              "0     55.062923     1.221291   46.936035      blues  \n",
              "1     51.106190     0.531217   45.786282      blues  \n",
              "2     46.639660    -2.231258   30.573025      blues  \n",
              "3     37.259739    -3.407448   31.949339      blues  \n",
              "4     62.910812   -11.703234   55.195160      blues  \n",
              "..          ...          ...         ...        ...  \n",
              "195  162.598373    -0.739651  160.096695  classical  \n",
              "196   87.178192    -3.686793  108.163559  classical  \n",
              "197  118.060761    -6.935011  104.361465  classical  \n",
              "198   61.358536     1.379220  123.965485  classical  \n",
              "199   74.828583     9.978046  108.066185  classical  \n",
              "\n",
              "[200 rows x 58 columns]"
            ],
            "text/html": [
              "\n",
              "  <div id=\"df-905892bd-161f-4fb3-bbf1-37111f06ebff\">\n",
              "    <div class=\"colab-df-container\">\n",
              "      <div>\n",
              "<style scoped>\n",
              "    .dataframe tbody tr th:only-of-type {\n",
              "        vertical-align: middle;\n",
              "    }\n",
              "\n",
              "    .dataframe tbody tr th {\n",
              "        vertical-align: top;\n",
              "    }\n",
              "\n",
              "    .dataframe thead th {\n",
              "        text-align: right;\n",
              "    }\n",
              "</style>\n",
              "<table border=\"1\" class=\"dataframe\">\n",
              "  <thead>\n",
              "    <tr style=\"text-align: right;\">\n",
              "      <th></th>\n",
              "      <th>chroma_stft_mean</th>\n",
              "      <th>chroma_stft_var</th>\n",
              "      <th>rms_mean</th>\n",
              "      <th>rms_var</th>\n",
              "      <th>spectral_centroid_mean</th>\n",
              "      <th>spectral_centroid_var</th>\n",
              "      <th>spectral_bandwidth_mean</th>\n",
              "      <th>spectral_bandwidth_var</th>\n",
              "      <th>rolloff_mean</th>\n",
              "      <th>rolloff_var</th>\n",
              "      <th>...</th>\n",
              "      <th>mfcc16_var</th>\n",
              "      <th>mfcc17_mean</th>\n",
              "      <th>mfcc17_var</th>\n",
              "      <th>mfcc18_mean</th>\n",
              "      <th>mfcc18_var</th>\n",
              "      <th>mfcc19_mean</th>\n",
              "      <th>mfcc19_var</th>\n",
              "      <th>mfcc20_mean</th>\n",
              "      <th>mfcc20_var</th>\n",
              "      <th>label</th>\n",
              "    </tr>\n",
              "  </thead>\n",
              "  <tbody>\n",
              "    <tr>\n",
              "      <th>0</th>\n",
              "      <td>0.350088</td>\n",
              "      <td>0.088757</td>\n",
              "      <td>0.130228</td>\n",
              "      <td>0.002827</td>\n",
              "      <td>1784.165850</td>\n",
              "      <td>129774.06450</td>\n",
              "      <td>2002.449060</td>\n",
              "      <td>85882.76132</td>\n",
              "      <td>3805.839606</td>\n",
              "      <td>9.015054e+05</td>\n",
              "      <td>...</td>\n",
              "      <td>52.420910</td>\n",
              "      <td>-1.690215</td>\n",
              "      <td>36.524071</td>\n",
              "      <td>-0.408979</td>\n",
              "      <td>41.597103</td>\n",
              "      <td>-2.303523</td>\n",
              "      <td>55.062923</td>\n",
              "      <td>1.221291</td>\n",
              "      <td>46.936035</td>\n",
              "      <td>blues</td>\n",
              "    </tr>\n",
              "    <tr>\n",
              "      <th>1</th>\n",
              "      <td>0.340914</td>\n",
              "      <td>0.094980</td>\n",
              "      <td>0.095948</td>\n",
              "      <td>0.002373</td>\n",
              "      <td>1530.176679</td>\n",
              "      <td>375850.07360</td>\n",
              "      <td>2039.036516</td>\n",
              "      <td>213843.75550</td>\n",
              "      <td>3550.522098</td>\n",
              "      <td>2.977893e+06</td>\n",
              "      <td>...</td>\n",
              "      <td>55.356403</td>\n",
              "      <td>-0.731125</td>\n",
              "      <td>60.314529</td>\n",
              "      <td>0.295073</td>\n",
              "      <td>48.120598</td>\n",
              "      <td>-0.283518</td>\n",
              "      <td>51.106190</td>\n",
              "      <td>0.531217</td>\n",
              "      <td>45.786282</td>\n",
              "      <td>blues</td>\n",
              "    </tr>\n",
              "    <tr>\n",
              "      <th>2</th>\n",
              "      <td>0.363637</td>\n",
              "      <td>0.085275</td>\n",
              "      <td>0.175570</td>\n",
              "      <td>0.002746</td>\n",
              "      <td>1552.811865</td>\n",
              "      <td>156467.64340</td>\n",
              "      <td>1747.702312</td>\n",
              "      <td>76254.19226</td>\n",
              "      <td>3042.260232</td>\n",
              "      <td>7.840345e+05</td>\n",
              "      <td>...</td>\n",
              "      <td>40.598766</td>\n",
              "      <td>-7.729093</td>\n",
              "      <td>47.639427</td>\n",
              "      <td>-1.816407</td>\n",
              "      <td>52.382141</td>\n",
              "      <td>-3.439720</td>\n",
              "      <td>46.639660</td>\n",
              "      <td>-2.231258</td>\n",
              "      <td>30.573025</td>\n",
              "      <td>blues</td>\n",
              "    </tr>\n",
              "    <tr>\n",
              "      <th>3</th>\n",
              "      <td>0.404785</td>\n",
              "      <td>0.093999</td>\n",
              "      <td>0.141093</td>\n",
              "      <td>0.006346</td>\n",
              "      <td>1070.106615</td>\n",
              "      <td>184355.94240</td>\n",
              "      <td>1596.412872</td>\n",
              "      <td>166441.49480</td>\n",
              "      <td>2184.745799</td>\n",
              "      <td>1.493194e+06</td>\n",
              "      <td>...</td>\n",
              "      <td>44.427753</td>\n",
              "      <td>-3.319597</td>\n",
              "      <td>50.206673</td>\n",
              "      <td>0.636965</td>\n",
              "      <td>37.319130</td>\n",
              "      <td>-0.619121</td>\n",
              "      <td>37.259739</td>\n",
              "      <td>-3.407448</td>\n",
              "      <td>31.949339</td>\n",
              "      <td>blues</td>\n",
              "    </tr>\n",
              "    <tr>\n",
              "      <th>4</th>\n",
              "      <td>0.308526</td>\n",
              "      <td>0.087841</td>\n",
              "      <td>0.091529</td>\n",
              "      <td>0.002303</td>\n",
              "      <td>1835.004266</td>\n",
              "      <td>343399.93930</td>\n",
              "      <td>1748.172116</td>\n",
              "      <td>88445.20904</td>\n",
              "      <td>3579.757627</td>\n",
              "      <td>1.572978e+06</td>\n",
              "      <td>...</td>\n",
              "      <td>86.099236</td>\n",
              "      <td>-5.454034</td>\n",
              "      <td>75.269707</td>\n",
              "      <td>-0.916874</td>\n",
              "      <td>53.613918</td>\n",
              "      <td>-4.404827</td>\n",
              "      <td>62.910812</td>\n",
              "      <td>-11.703234</td>\n",
              "      <td>55.195160</td>\n",
              "      <td>blues</td>\n",
              "    </tr>\n",
              "    <tr>\n",
              "      <th>...</th>\n",
              "      <td>...</td>\n",
              "      <td>...</td>\n",
              "      <td>...</td>\n",
              "      <td>...</td>\n",
              "      <td>...</td>\n",
              "      <td>...</td>\n",
              "      <td>...</td>\n",
              "      <td>...</td>\n",
              "      <td>...</td>\n",
              "      <td>...</td>\n",
              "      <td>...</td>\n",
              "      <td>...</td>\n",
              "      <td>...</td>\n",
              "      <td>...</td>\n",
              "      <td>...</td>\n",
              "      <td>...</td>\n",
              "      <td>...</td>\n",
              "      <td>...</td>\n",
              "      <td>...</td>\n",
              "      <td>...</td>\n",
              "      <td>...</td>\n",
              "    </tr>\n",
              "    <tr>\n",
              "      <th>195</th>\n",
              "      <td>0.227693</td>\n",
              "      <td>0.088256</td>\n",
              "      <td>0.013564</td>\n",
              "      <td>0.000229</td>\n",
              "      <td>1800.888692</td>\n",
              "      <td>285133.98220</td>\n",
              "      <td>1781.068502</td>\n",
              "      <td>62925.51721</td>\n",
              "      <td>3427.243261</td>\n",
              "      <td>8.645783e+05</td>\n",
              "      <td>...</td>\n",
              "      <td>136.467468</td>\n",
              "      <td>2.417449</td>\n",
              "      <td>125.991013</td>\n",
              "      <td>0.779610</td>\n",
              "      <td>68.256584</td>\n",
              "      <td>-3.415084</td>\n",
              "      <td>162.598373</td>\n",
              "      <td>-0.739651</td>\n",
              "      <td>160.096695</td>\n",
              "      <td>classical</td>\n",
              "    </tr>\n",
              "    <tr>\n",
              "      <th>196</th>\n",
              "      <td>0.293052</td>\n",
              "      <td>0.082874</td>\n",
              "      <td>0.056987</td>\n",
              "      <td>0.000786</td>\n",
              "      <td>1933.689602</td>\n",
              "      <td>192223.36290</td>\n",
              "      <td>1740.491088</td>\n",
              "      <td>27385.87471</td>\n",
              "      <td>3573.962147</td>\n",
              "      <td>4.543625e+05</td>\n",
              "      <td>...</td>\n",
              "      <td>49.117809</td>\n",
              "      <td>2.988827</td>\n",
              "      <td>39.963310</td>\n",
              "      <td>3.548611</td>\n",
              "      <td>52.965549</td>\n",
              "      <td>-3.346735</td>\n",
              "      <td>87.178192</td>\n",
              "      <td>-3.686793</td>\n",
              "      <td>108.163559</td>\n",
              "      <td>classical</td>\n",
              "    </tr>\n",
              "    <tr>\n",
              "      <th>197</th>\n",
              "      <td>0.222265</td>\n",
              "      <td>0.083254</td>\n",
              "      <td>0.036720</td>\n",
              "      <td>0.000465</td>\n",
              "      <td>1494.419821</td>\n",
              "      <td>92293.65472</td>\n",
              "      <td>1671.195986</td>\n",
              "      <td>31772.32080</td>\n",
              "      <td>2781.813393</td>\n",
              "      <td>3.395294e+05</td>\n",
              "      <td>...</td>\n",
              "      <td>97.051605</td>\n",
              "      <td>0.787177</td>\n",
              "      <td>74.531082</td>\n",
              "      <td>-3.961360</td>\n",
              "      <td>52.424522</td>\n",
              "      <td>-9.148158</td>\n",
              "      <td>118.060761</td>\n",
              "      <td>-6.935011</td>\n",
              "      <td>104.361465</td>\n",
              "      <td>classical</td>\n",
              "    </tr>\n",
              "    <tr>\n",
              "      <th>198</th>\n",
              "      <td>0.289919</td>\n",
              "      <td>0.088790</td>\n",
              "      <td>0.029094</td>\n",
              "      <td>0.000332</td>\n",
              "      <td>1952.495511</td>\n",
              "      <td>166304.03580</td>\n",
              "      <td>1865.737617</td>\n",
              "      <td>22529.55381</td>\n",
              "      <td>3779.826564</td>\n",
              "      <td>4.477117e+05</td>\n",
              "      <td>...</td>\n",
              "      <td>59.865459</td>\n",
              "      <td>7.026492</td>\n",
              "      <td>83.698685</td>\n",
              "      <td>8.378774</td>\n",
              "      <td>71.380379</td>\n",
              "      <td>-5.610244</td>\n",
              "      <td>61.358536</td>\n",
              "      <td>1.379220</td>\n",
              "      <td>123.965485</td>\n",
              "      <td>classical</td>\n",
              "    </tr>\n",
              "    <tr>\n",
              "      <th>199</th>\n",
              "      <td>0.333908</td>\n",
              "      <td>0.078685</td>\n",
              "      <td>0.010506</td>\n",
              "      <td>0.000004</td>\n",
              "      <td>1525.123851</td>\n",
              "      <td>46679.59000</td>\n",
              "      <td>1869.056261</td>\n",
              "      <td>21425.26491</td>\n",
              "      <td>3325.680818</td>\n",
              "      <td>3.465919e+05</td>\n",
              "      <td>...</td>\n",
              "      <td>89.436073</td>\n",
              "      <td>2.519061</td>\n",
              "      <td>91.123299</td>\n",
              "      <td>4.399822</td>\n",
              "      <td>57.132504</td>\n",
              "      <td>1.703097</td>\n",
              "      <td>74.828583</td>\n",
              "      <td>9.978046</td>\n",
              "      <td>108.066185</td>\n",
              "      <td>classical</td>\n",
              "    </tr>\n",
              "  </tbody>\n",
              "</table>\n",
              "<p>200 rows × 58 columns</p>\n",
              "</div>\n",
              "      <button class=\"colab-df-convert\" onclick=\"convertToInteractive('df-905892bd-161f-4fb3-bbf1-37111f06ebff')\"\n",
              "              title=\"Convert this dataframe to an interactive table.\"\n",
              "              style=\"display:none;\">\n",
              "        \n",
              "  <svg xmlns=\"http://www.w3.org/2000/svg\" height=\"24px\"viewBox=\"0 0 24 24\"\n",
              "       width=\"24px\">\n",
              "    <path d=\"M0 0h24v24H0V0z\" fill=\"none\"/>\n",
              "    <path d=\"M18.56 5.44l.94 2.06.94-2.06 2.06-.94-2.06-.94-.94-2.06-.94 2.06-2.06.94zm-11 1L8.5 8.5l.94-2.06 2.06-.94-2.06-.94L8.5 2.5l-.94 2.06-2.06.94zm10 10l.94 2.06.94-2.06 2.06-.94-2.06-.94-.94-2.06-.94 2.06-2.06.94z\"/><path d=\"M17.41 7.96l-1.37-1.37c-.4-.4-.92-.59-1.43-.59-.52 0-1.04.2-1.43.59L10.3 9.45l-7.72 7.72c-.78.78-.78 2.05 0 2.83L4 21.41c.39.39.9.59 1.41.59.51 0 1.02-.2 1.41-.59l7.78-7.78 2.81-2.81c.8-.78.8-2.07 0-2.86zM5.41 20L4 18.59l7.72-7.72 1.47 1.35L5.41 20z\"/>\n",
              "  </svg>\n",
              "      </button>\n",
              "      \n",
              "  <style>\n",
              "    .colab-df-container {\n",
              "      display:flex;\n",
              "      flex-wrap:wrap;\n",
              "      gap: 12px;\n",
              "    }\n",
              "\n",
              "    .colab-df-convert {\n",
              "      background-color: #E8F0FE;\n",
              "      border: none;\n",
              "      border-radius: 50%;\n",
              "      cursor: pointer;\n",
              "      display: none;\n",
              "      fill: #1967D2;\n",
              "      height: 32px;\n",
              "      padding: 0 0 0 0;\n",
              "      width: 32px;\n",
              "    }\n",
              "\n",
              "    .colab-df-convert:hover {\n",
              "      background-color: #E2EBFA;\n",
              "      box-shadow: 0px 1px 2px rgba(60, 64, 67, 0.3), 0px 1px 3px 1px rgba(60, 64, 67, 0.15);\n",
              "      fill: #174EA6;\n",
              "    }\n",
              "\n",
              "    [theme=dark] .colab-df-convert {\n",
              "      background-color: #3B4455;\n",
              "      fill: #D2E3FC;\n",
              "    }\n",
              "\n",
              "    [theme=dark] .colab-df-convert:hover {\n",
              "      background-color: #434B5C;\n",
              "      box-shadow: 0px 1px 3px 1px rgba(0, 0, 0, 0.15);\n",
              "      filter: drop-shadow(0px 1px 2px rgba(0, 0, 0, 0.3));\n",
              "      fill: #FFFFFF;\n",
              "    }\n",
              "  </style>\n",
              "\n",
              "      <script>\n",
              "        const buttonEl =\n",
              "          document.querySelector('#df-905892bd-161f-4fb3-bbf1-37111f06ebff button.colab-df-convert');\n",
              "        buttonEl.style.display =\n",
              "          google.colab.kernel.accessAllowed ? 'block' : 'none';\n",
              "\n",
              "        async function convertToInteractive(key) {\n",
              "          const element = document.querySelector('#df-905892bd-161f-4fb3-bbf1-37111f06ebff');\n",
              "          const dataTable =\n",
              "            await google.colab.kernel.invokeFunction('convertToInteractive',\n",
              "                                                     [key], {});\n",
              "          if (!dataTable) return;\n",
              "\n",
              "          const docLinkHtml = 'Like what you see? Visit the ' +\n",
              "            '<a target=\"_blank\" href=https://colab.research.google.com/notebooks/data_table.ipynb>data table notebook</a>'\n",
              "            + ' to learn more about interactive tables.';\n",
              "          element.innerHTML = '';\n",
              "          dataTable['output_type'] = 'display_data';\n",
              "          await google.colab.output.renderOutput(dataTable, element);\n",
              "          const docLink = document.createElement('div');\n",
              "          docLink.innerHTML = docLinkHtml;\n",
              "          element.appendChild(docLink);\n",
              "        }\n",
              "      </script>\n",
              "    </div>\n",
              "  </div>\n",
              "  "
            ]
          },
          "metadata": {},
          "execution_count": 3
        }
      ]
    },
    {
      "cell_type": "code",
      "source": [
        "data.shape"
      ],
      "metadata": {
        "colab": {
          "base_uri": "https://localhost:8080/"
        },
        "id": "P0gXC_m2cljC",
        "outputId": "956d36f8-d2c0-4bc1-cd51-bd51caf38e9f"
      },
      "execution_count": 4,
      "outputs": [
        {
          "output_type": "execute_result",
          "data": {
            "text/plain": [
              "(200, 58)"
            ]
          },
          "metadata": {},
          "execution_count": 4
        }
      ]
    },
    {
      "cell_type": "markdown",
      "source": [
        "##Encoding the Labels"
      ],
      "metadata": {
        "id": "YQhwuCNTeF4J"
      }
    },
    {
      "cell_type": "code",
      "source": [
        "genre_list = data.iloc[:, -1]\n",
        "encoder = LabelEncoder()\n",
        "y = encoder.fit_transform(genre_list)\n",
        "y "
      ],
      "metadata": {
        "colab": {
          "base_uri": "https://localhost:8080/"
        },
        "id": "EBftHyfXdxYA",
        "outputId": "a1c67303-8333-4c50-b759-781c93846dc6"
      },
      "execution_count": 5,
      "outputs": [
        {
          "output_type": "execute_result",
          "data": {
            "text/plain": [
              "array([0, 0, 0, 0, 0, 0, 0, 0, 0, 0, 0, 0, 0, 0, 0, 0, 0, 0, 0, 0, 0, 0,\n",
              "       0, 0, 0, 0, 0, 0, 0, 0, 0, 0, 0, 0, 0, 0, 0, 0, 0, 0, 0, 0, 0, 0,\n",
              "       0, 0, 0, 0, 0, 0, 0, 0, 0, 0, 0, 0, 0, 0, 0, 0, 0, 0, 0, 0, 0, 0,\n",
              "       0, 0, 0, 0, 0, 0, 0, 0, 0, 0, 0, 0, 0, 0, 0, 0, 0, 0, 0, 0, 0, 0,\n",
              "       0, 0, 0, 0, 0, 0, 0, 0, 0, 0, 0, 0, 1, 1, 1, 1, 1, 1, 1, 1, 1, 1,\n",
              "       1, 1, 1, 1, 1, 1, 1, 1, 1, 1, 1, 1, 1, 1, 1, 1, 1, 1, 1, 1, 1, 1,\n",
              "       1, 1, 1, 1, 1, 1, 1, 1, 1, 1, 1, 1, 1, 1, 1, 1, 1, 1, 1, 1, 1, 1,\n",
              "       1, 1, 1, 1, 1, 1, 1, 1, 1, 1, 1, 1, 1, 1, 1, 1, 1, 1, 1, 1, 1, 1,\n",
              "       1, 1, 1, 1, 1, 1, 1, 1, 1, 1, 1, 1, 1, 1, 1, 1, 1, 1, 1, 1, 1, 1,\n",
              "       1, 1])"
            ]
          },
          "metadata": {},
          "execution_count": 5
        }
      ]
    },
    {
      "cell_type": "code",
      "source": [
        "y.shape"
      ],
      "metadata": {
        "colab": {
          "base_uri": "https://localhost:8080/"
        },
        "id": "TbSnQc1SeojY",
        "outputId": "fbbaf74f-f3c1-497c-c7a2-79529f80fdbf"
      },
      "execution_count": 6,
      "outputs": [
        {
          "output_type": "execute_result",
          "data": {
            "text/plain": [
              "(200,)"
            ]
          },
          "metadata": {},
          "execution_count": 6
        }
      ]
    },
    {
      "cell_type": "markdown",
      "source": [
        "##Scaling the Feature columns\n"
      ],
      "metadata": {
        "id": "4pm05Xe2eId6"
      }
    },
    {
      "cell_type": "code",
      "source": [
        "scaler = StandardScaler()\n",
        "X = scaler.fit_transform(np.array(data.iloc[:, :-1], dtype = float))\n",
        "X"
      ],
      "metadata": {
        "colab": {
          "base_uri": "https://localhost:8080/"
        },
        "id": "yYkfYNdReDJb",
        "outputId": "66ca7b25-3198-446e-98bb-971e1caee010"
      },
      "execution_count": 7,
      "outputs": [
        {
          "output_type": "execute_result",
          "data": {
            "text/plain": [
              "array([[ 0.73728741,  0.14400498,  0.63020804, ..., -0.62101218,\n",
              "         0.67385914, -0.82467388],\n",
              "       [ 0.59518898,  1.20096841,  0.09985569, ..., -0.71352288,\n",
              "         0.52629703, -0.84561476],\n",
              "       [ 0.94714023, -0.44723371,  1.33170795, ..., -0.8179529 ,\n",
              "        -0.06441715, -1.12269925],\n",
              "       ...,\n",
              "       [-1.24248287, -0.79047867, -0.81646493, ...,  0.85191327,\n",
              "        -1.07024479,  0.22123602],\n",
              "       [-0.19462869,  0.14961664, -0.93445298, ..., -0.47381717,\n",
              "         0.70763007,  0.57829104],\n",
              "       [ 0.48669101, -1.56651324, -1.22203362, ..., -0.15887977,\n",
              "         2.54636115,  0.28871141]])"
            ]
          },
          "metadata": {},
          "execution_count": 7
        }
      ]
    },
    {
      "cell_type": "code",
      "source": [
        "X.shape"
      ],
      "metadata": {
        "colab": {
          "base_uri": "https://localhost:8080/"
        },
        "id": "o0DY5lHehHkB",
        "outputId": "c15ff67a-aeeb-496f-be85-87265e9d9766"
      },
      "execution_count": 8,
      "outputs": [
        {
          "output_type": "execute_result",
          "data": {
            "text/plain": [
              "(200, 57)"
            ]
          },
          "metadata": {},
          "execution_count": 8
        }
      ]
    },
    {
      "cell_type": "markdown",
      "source": [
        "##Dividing data into training and Testing set"
      ],
      "metadata": {
        "id": "r1kC-HFEeUmx"
      }
    },
    {
      "cell_type": "code",
      "source": [
        "\n",
        "from sklearn.model_selection import train_test_split\n",
        "X_train, X_test, y_train, y_test = train_test_split(X, y, test_size=0.2, random_state=6)\n",
        "X_traintrain, X_val, y_traintrain, y_val = train_test_split(X_train, y_train, test_size=0.2, random_state=6)"
      ],
      "metadata": {
        "id": "0PRlDAyPl1Vf"
      },
      "execution_count": 9,
      "outputs": []
    },
    {
      "cell_type": "code",
      "source": [
        "len(y_train)"
      ],
      "metadata": {
        "colab": {
          "base_uri": "https://localhost:8080/"
        },
        "id": "lxOrrrD4eYZJ",
        "outputId": "32290e70-9b31-4e7f-f9bb-3d0b86c25bbd"
      },
      "execution_count": 10,
      "outputs": [
        {
          "output_type": "execute_result",
          "data": {
            "text/plain": [
              "160"
            ]
          },
          "metadata": {},
          "execution_count": 10
        }
      ]
    },
    {
      "cell_type": "code",
      "source": [
        "len(y_test)"
      ],
      "metadata": {
        "colab": {
          "base_uri": "https://localhost:8080/"
        },
        "id": "jQ87hFd-hRPv",
        "outputId": "f837be67-e4e6-4e4b-d9b7-a8f8299111d0"
      },
      "execution_count": 11,
      "outputs": [
        {
          "output_type": "execute_result",
          "data": {
            "text/plain": [
              "40"
            ]
          },
          "metadata": {},
          "execution_count": 11
        }
      ]
    },
    {
      "cell_type": "code",
      "source": [
        "len(X_traintrain)"
      ],
      "metadata": {
        "colab": {
          "base_uri": "https://localhost:8080/"
        },
        "id": "xt87W5PKhS7l",
        "outputId": "29ea6d0e-adad-449a-8fea-f0d60989155a"
      },
      "execution_count": 12,
      "outputs": [
        {
          "output_type": "execute_result",
          "data": {
            "text/plain": [
              "128"
            ]
          },
          "metadata": {},
          "execution_count": 12
        }
      ]
    },
    {
      "cell_type": "markdown",
      "source": [
        "#สร้าง Model "
      ],
      "metadata": {
        "id": "pqjkWeYoi0Fw"
      }
    },
    {
      "cell_type": "markdown",
      "source": [
        "##KNN"
      ],
      "metadata": {
        "id": "MK1LlZEci_nh"
      }
    },
    {
      "cell_type": "code",
      "source": [
        "from sklearn.neighbors import KNeighborsClassifier"
      ],
      "metadata": {
        "id": "ooNSkJbdhcpm"
      },
      "execution_count": 13,
      "outputs": []
    },
    {
      "cell_type": "markdown",
      "source": [
        "###Define-Train Model"
      ],
      "metadata": {
        "id": "gV9F2xmAmLw7"
      }
    },
    {
      "cell_type": "code",
      "source": [
        "neigh = KNeighborsClassifier(n_neighbors=5, weights='distance') #กำหนด n=5 และอ้างอิงจากข้อมูลที่ใกล้เคียงที่สุด\n",
        "neigh.fit(X_traintrain,y_traintrain)"
      ],
      "metadata": {
        "colab": {
          "base_uri": "https://localhost:8080/",
          "height": 74
        },
        "id": "dGk-_l2PjJo4",
        "outputId": "0a194059-d5e3-4600-d728-5a395cfe5317"
      },
      "execution_count": 18,
      "outputs": [
        {
          "output_type": "execute_result",
          "data": {
            "text/plain": [
              "KNeighborsClassifier(weights='distance')"
            ],
            "text/html": [
              "<style>#sk-container-id-2 {color: black;background-color: white;}#sk-container-id-2 pre{padding: 0;}#sk-container-id-2 div.sk-toggleable {background-color: white;}#sk-container-id-2 label.sk-toggleable__label {cursor: pointer;display: block;width: 100%;margin-bottom: 0;padding: 0.3em;box-sizing: border-box;text-align: center;}#sk-container-id-2 label.sk-toggleable__label-arrow:before {content: \"▸\";float: left;margin-right: 0.25em;color: #696969;}#sk-container-id-2 label.sk-toggleable__label-arrow:hover:before {color: black;}#sk-container-id-2 div.sk-estimator:hover label.sk-toggleable__label-arrow:before {color: black;}#sk-container-id-2 div.sk-toggleable__content {max-height: 0;max-width: 0;overflow: hidden;text-align: left;background-color: #f0f8ff;}#sk-container-id-2 div.sk-toggleable__content pre {margin: 0.2em;color: black;border-radius: 0.25em;background-color: #f0f8ff;}#sk-container-id-2 input.sk-toggleable__control:checked~div.sk-toggleable__content {max-height: 200px;max-width: 100%;overflow: auto;}#sk-container-id-2 input.sk-toggleable__control:checked~label.sk-toggleable__label-arrow:before {content: \"▾\";}#sk-container-id-2 div.sk-estimator input.sk-toggleable__control:checked~label.sk-toggleable__label {background-color: #d4ebff;}#sk-container-id-2 div.sk-label input.sk-toggleable__control:checked~label.sk-toggleable__label {background-color: #d4ebff;}#sk-container-id-2 input.sk-hidden--visually {border: 0;clip: rect(1px 1px 1px 1px);clip: rect(1px, 1px, 1px, 1px);height: 1px;margin: -1px;overflow: hidden;padding: 0;position: absolute;width: 1px;}#sk-container-id-2 div.sk-estimator {font-family: monospace;background-color: #f0f8ff;border: 1px dotted black;border-radius: 0.25em;box-sizing: border-box;margin-bottom: 0.5em;}#sk-container-id-2 div.sk-estimator:hover {background-color: #d4ebff;}#sk-container-id-2 div.sk-parallel-item::after {content: \"\";width: 100%;border-bottom: 1px solid gray;flex-grow: 1;}#sk-container-id-2 div.sk-label:hover label.sk-toggleable__label {background-color: #d4ebff;}#sk-container-id-2 div.sk-serial::before {content: \"\";position: absolute;border-left: 1px solid gray;box-sizing: border-box;top: 0;bottom: 0;left: 50%;z-index: 0;}#sk-container-id-2 div.sk-serial {display: flex;flex-direction: column;align-items: center;background-color: white;padding-right: 0.2em;padding-left: 0.2em;position: relative;}#sk-container-id-2 div.sk-item {position: relative;z-index: 1;}#sk-container-id-2 div.sk-parallel {display: flex;align-items: stretch;justify-content: center;background-color: white;position: relative;}#sk-container-id-2 div.sk-item::before, #sk-container-id-2 div.sk-parallel-item::before {content: \"\";position: absolute;border-left: 1px solid gray;box-sizing: border-box;top: 0;bottom: 0;left: 50%;z-index: -1;}#sk-container-id-2 div.sk-parallel-item {display: flex;flex-direction: column;z-index: 1;position: relative;background-color: white;}#sk-container-id-2 div.sk-parallel-item:first-child::after {align-self: flex-end;width: 50%;}#sk-container-id-2 div.sk-parallel-item:last-child::after {align-self: flex-start;width: 50%;}#sk-container-id-2 div.sk-parallel-item:only-child::after {width: 0;}#sk-container-id-2 div.sk-dashed-wrapped {border: 1px dashed gray;margin: 0 0.4em 0.5em 0.4em;box-sizing: border-box;padding-bottom: 0.4em;background-color: white;}#sk-container-id-2 div.sk-label label {font-family: monospace;font-weight: bold;display: inline-block;line-height: 1.2em;}#sk-container-id-2 div.sk-label-container {text-align: center;}#sk-container-id-2 div.sk-container {/* jupyter's `normalize.less` sets `[hidden] { display: none; }` but bootstrap.min.css set `[hidden] { display: none !important; }` so we also need the `!important` here to be able to override the default hidden behavior on the sphinx rendered scikit-learn.org. See: https://github.com/scikit-learn/scikit-learn/issues/21755 */display: inline-block !important;position: relative;}#sk-container-id-2 div.sk-text-repr-fallback {display: none;}</style><div id=\"sk-container-id-2\" class=\"sk-top-container\"><div class=\"sk-text-repr-fallback\"><pre>KNeighborsClassifier(weights=&#x27;distance&#x27;)</pre><b>In a Jupyter environment, please rerun this cell to show the HTML representation or trust the notebook. <br />On GitHub, the HTML representation is unable to render, please try loading this page with nbviewer.org.</b></div><div class=\"sk-container\" hidden><div class=\"sk-item\"><div class=\"sk-estimator sk-toggleable\"><input class=\"sk-toggleable__control sk-hidden--visually\" id=\"sk-estimator-id-2\" type=\"checkbox\" checked><label for=\"sk-estimator-id-2\" class=\"sk-toggleable__label sk-toggleable__label-arrow\">KNeighborsClassifier</label><div class=\"sk-toggleable__content\"><pre>KNeighborsClassifier(weights=&#x27;distance&#x27;)</pre></div></div></div></div></div>"
            ]
          },
          "metadata": {},
          "execution_count": 18
        }
      ]
    },
    {
      "cell_type": "markdown",
      "source": [
        "##Validate model"
      ],
      "metadata": {
        "id": "NPgC63E-mHNK"
      }
    },
    {
      "cell_type": "code",
      "source": [
        "from sklearn.metrics import accuracy_score\n",
        "knn_result = neigh.predict(X_val)\n",
        "accuracy_score(y_val,knn_result)"
      ],
      "metadata": {
        "colab": {
          "base_uri": "https://localhost:8080/"
        },
        "id": "fiX8qY_Qkb6y",
        "outputId": "45acf1bd-8ec5-440c-8f80-566239963b3d"
      },
      "execution_count": 43,
      "outputs": [
        {
          "output_type": "execute_result",
          "data": {
            "text/plain": [
              "0.96875"
            ]
          },
          "metadata": {},
          "execution_count": 43
        }
      ]
    },
    {
      "cell_type": "code",
      "source": [
        "from sklearn.metrics import classification_report, confusion_matrix"
      ],
      "metadata": {
        "id": "dAdkjYUAmT1r"
      },
      "execution_count": 44,
      "outputs": []
    },
    {
      "cell_type": "code",
      "source": [
        "cm_kNN = confusion_matrix(y_val,knn_result)\n",
        "cm_kNN"
      ],
      "metadata": {
        "colab": {
          "base_uri": "https://localhost:8080/"
        },
        "id": "taxZ1PlhmfBk",
        "outputId": "8f820077-8be3-49e4-9fc5-cf88ae0e817e"
      },
      "execution_count": 45,
      "outputs": [
        {
          "output_type": "execute_result",
          "data": {
            "text/plain": [
              "array([[20,  1],\n",
              "       [ 0, 11]])"
            ]
          },
          "metadata": {},
          "execution_count": 45
        }
      ]
    },
    {
      "cell_type": "code",
      "source": [
        "print(classification_report(knn_result, y_val))"
      ],
      "metadata": {
        "id": "cdNaYfPBoa_z",
        "outputId": "05fcd6d1-036e-446f-dbdc-3c95ae808db1",
        "colab": {
          "base_uri": "https://localhost:8080/"
        }
      },
      "execution_count": 46,
      "outputs": [
        {
          "output_type": "stream",
          "name": "stdout",
          "text": [
            "              precision    recall  f1-score   support\n",
            "\n",
            "           0       0.95      1.00      0.98        20\n",
            "           1       1.00      0.92      0.96        12\n",
            "\n",
            "    accuracy                           0.97        32\n",
            "   macro avg       0.98      0.96      0.97        32\n",
            "weighted avg       0.97      0.97      0.97        32\n",
            "\n"
          ]
        }
      ]
    },
    {
      "cell_type": "markdown",
      "source": [
        "##SVM"
      ],
      "metadata": {
        "id": "b2iGmjLbj1Ob"
      }
    },
    {
      "cell_type": "code",
      "source": [
        "from sklearn import svm"
      ],
      "metadata": {
        "id": "LLuSbySQoI9t"
      },
      "execution_count": 19,
      "outputs": []
    },
    {
      "cell_type": "code",
      "source": [
        "#Create a svm Classifier\n",
        "clf = svm.SVC(kernel='linear') # Linear Kernel\n",
        "\n",
        "#Train the model using the training sets\n",
        "clf.fit(X_traintrain,y_traintrain)\n",
        "\n",
        "#Predict the response for test dataset\n",
        "svm_result = clf.predict(X_val)"
      ],
      "metadata": {
        "id": "-mD43abHj55u"
      },
      "execution_count": 53,
      "outputs": []
    },
    {
      "cell_type": "code",
      "source": [
        "svm_result"
      ],
      "metadata": {
        "id": "TcSojO1GnJUr",
        "outputId": "f4c92dd2-d38a-45dc-94bd-c4553b16eec6",
        "colab": {
          "base_uri": "https://localhost:8080/"
        }
      },
      "execution_count": 54,
      "outputs": [
        {
          "output_type": "execute_result",
          "data": {
            "text/plain": [
              "array([1, 0, 0, 1, 1, 1, 0, 0, 1, 0, 0, 0, 0, 0, 0, 1, 0, 0, 0, 1, 0, 1,\n",
              "       1, 0, 0, 1, 0, 0, 1, 0, 0, 0])"
            ]
          },
          "metadata": {},
          "execution_count": 54
        }
      ]
    },
    {
      "cell_type": "code",
      "source": [
        "from sklearn import metrics\n",
        "\n",
        "print(\"Accuracy:\",metrics.accuracy_score(y_test, y_pred))\n",
        "print(\"Precision:\",metrics.precision_score(y_test, y_pred))\n",
        "print(\"Recall:\",metrics.recall_score(y_test, y_pred))"
      ],
      "metadata": {
        "id": "dtKX8AbPmyHO",
        "outputId": "ec5f61f3-8e8d-47bd-d30b-befa89f06019",
        "colab": {
          "base_uri": "https://localhost:8080/"
        }
      },
      "execution_count": 40,
      "outputs": [
        {
          "output_type": "stream",
          "name": "stdout",
          "text": [
            "Accuracy: 0.95\n",
            "Precision: 0.9444444444444444\n",
            "Recall: 0.9444444444444444\n"
          ]
        }
      ]
    },
    {
      "cell_type": "code",
      "source": [
        "cm_svm = confusion_matrix(y_val,svm_result)\n",
        "cm_svm"
      ],
      "metadata": {
        "id": "wdNTCNGBnCh_",
        "outputId": "4b9442eb-fa89-4652-9a1b-3f602b4721d4",
        "colab": {
          "base_uri": "https://localhost:8080/"
        }
      },
      "execution_count": 55,
      "outputs": [
        {
          "output_type": "execute_result",
          "data": {
            "text/plain": [
              "array([[21,  0],\n",
              "       [ 0, 11]])"
            ]
          },
          "metadata": {},
          "execution_count": 55
        }
      ]
    },
    {
      "cell_type": "code",
      "source": [
        "print(classification_report(svm_result, y_val))"
      ],
      "metadata": {
        "id": "AMNf0yCSnY5R",
        "outputId": "589727f3-d4ca-4e99-d56b-1215b453bc45",
        "colab": {
          "base_uri": "https://localhost:8080/"
        }
      },
      "execution_count": 56,
      "outputs": [
        {
          "output_type": "stream",
          "name": "stdout",
          "text": [
            "              precision    recall  f1-score   support\n",
            "\n",
            "           0       1.00      1.00      1.00        21\n",
            "           1       1.00      1.00      1.00        11\n",
            "\n",
            "    accuracy                           1.00        32\n",
            "   macro avg       1.00      1.00      1.00        32\n",
            "weighted avg       1.00      1.00      1.00        32\n",
            "\n"
          ]
        }
      ]
    },
    {
      "cell_type": "code",
      "source": [],
      "metadata": {
        "id": "cXtTvLODpkTq"
      },
      "execution_count": null,
      "outputs": []
    }
  ]
}