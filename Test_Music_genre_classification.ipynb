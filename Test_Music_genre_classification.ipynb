{
  "nbformat": 4,
  "nbformat_minor": 0,
  "metadata": {
    "colab": {
      "provenance": [],
      "mount_file_id": "1cxinV6dZSaVD5e_OYyTIGhe3pqUyMUlF",
      "authorship_tag": "ABX9TyPSNHo88lt9cdj9IJ/A/0EY",
      "include_colab_link": true
    },
    "kernelspec": {
      "name": "python3",
      "display_name": "Python 3"
    },
    "language_info": {
      "name": "python"
    }
  },
  "cells": [
    {
      "cell_type": "markdown",
      "metadata": {
        "id": "view-in-github",
        "colab_type": "text"
      },
      "source": [
        "<a href=\"https://colab.research.google.com/github/Anusarakh/thesis/blob/main/Test_Music_genre_classification.ipynb\" target=\"_parent\"><img src=\"https://colab.research.google.com/assets/colab-badge.svg\" alt=\"Open In Colab\"/></a>"
      ]
    },
    {
      "cell_type": "code",
      "execution_count": null,
      "metadata": {
        "id": "dDTHYosRauNc"
      },
      "outputs": [],
      "source": []
    },
    {
      "cell_type": "code",
      "source": [
        "from google.colab import drive\n",
        "drive.mount('/content/drive')"
      ],
      "metadata": {
        "colab": {
          "base_uri": "https://localhost:8080/"
        },
        "id": "NFkio263a9_-",
        "outputId": "6e5dacef-9b65-4857-d9ab-1d6464499892"
      },
      "execution_count": 1,
      "outputs": [
        {
          "output_type": "stream",
          "name": "stdout",
          "text": [
            "Mounted at /content/drive\n"
          ]
        }
      ]
    },
    {
      "cell_type": "code",
      "source": [
        "# feature extractoring and preprocessing data\n",
        "import librosa\n",
        "import pandas as pd\n",
        "import numpy as np\n",
        "import matplotlib.pyplot as plt\n",
        "%matplotlib inline\n",
        "import os\n",
        "from PIL import Image\n",
        "import pathlib\n",
        "import csv\n",
        "\n",
        "# Preprocessing\n",
        "from sklearn.model_selection import train_test_split\n",
        "from sklearn.preprocessing import LabelEncoder, StandardScaler\n",
        "\n",
        "#Keras\n",
        "import keras\n",
        "\n",
        "import warnings\n",
        "warnings.filterwarnings('ignore')"
      ],
      "metadata": {
        "id": "NbmGTEcjbJF4"
      },
      "execution_count": 2,
      "outputs": []
    },
    {
      "cell_type": "code",
      "source": [
        "data = pd.read_csv('/content/drive/MyDrive/Thesis/music/features_30_sec_2label.csv')\n",
        "data"
      ],
      "metadata": {
        "colab": {
          "base_uri": "https://localhost:8080/",
          "height": 487
        },
        "id": "3HlBxyX-bJim",
        "outputId": "087f9d13-4704-449b-b8f7-485605516138"
      },
      "execution_count": 3,
      "outputs": [
        {
          "output_type": "execute_result",
          "data": {
            "text/plain": [
              "     chroma_stft_mean  chroma_stft_var  rms_mean   rms_var  \\\n",
              "0            0.350088         0.088757  0.130228  0.002827   \n",
              "1            0.340914         0.094980  0.095948  0.002373   \n",
              "2            0.363637         0.085275  0.175570  0.002746   \n",
              "3            0.404785         0.093999  0.141093  0.006346   \n",
              "4            0.308526         0.087841  0.091529  0.002303   \n",
              "..                ...              ...       ...       ...   \n",
              "195          0.227693         0.088256  0.013564  0.000229   \n",
              "196          0.293052         0.082874  0.056987  0.000786   \n",
              "197          0.222265         0.083254  0.036720  0.000465   \n",
              "198          0.289919         0.088790  0.029094  0.000332   \n",
              "199          0.333908         0.078685  0.010506  0.000004   \n",
              "\n",
              "     spectral_centroid_mean  spectral_centroid_var  spectral_bandwidth_mean  \\\n",
              "0               1784.165850           129774.06450              2002.449060   \n",
              "1               1530.176679           375850.07360              2039.036516   \n",
              "2               1552.811865           156467.64340              1747.702312   \n",
              "3               1070.106615           184355.94240              1596.412872   \n",
              "4               1835.004266           343399.93930              1748.172116   \n",
              "..                      ...                    ...                      ...   \n",
              "195             1800.888692           285133.98220              1781.068502   \n",
              "196             1933.689602           192223.36290              1740.491088   \n",
              "197             1494.419821            92293.65472              1671.195986   \n",
              "198             1952.495511           166304.03580              1865.737617   \n",
              "199             1525.123851            46679.59000              1869.056261   \n",
              "\n",
              "     spectral_bandwidth_var  rolloff_mean   rolloff_var  ...  mfcc16_var  \\\n",
              "0               85882.76132   3805.839606  9.015054e+05  ...   52.420910   \n",
              "1              213843.75550   3550.522098  2.977893e+06  ...   55.356403   \n",
              "2               76254.19226   3042.260232  7.840345e+05  ...   40.598766   \n",
              "3              166441.49480   2184.745799  1.493194e+06  ...   44.427753   \n",
              "4               88445.20904   3579.757627  1.572978e+06  ...   86.099236   \n",
              "..                      ...           ...           ...  ...         ...   \n",
              "195             62925.51721   3427.243261  8.645783e+05  ...  136.467468   \n",
              "196             27385.87471   3573.962147  4.543625e+05  ...   49.117809   \n",
              "197             31772.32080   2781.813393  3.395294e+05  ...   97.051605   \n",
              "198             22529.55381   3779.826564  4.477117e+05  ...   59.865459   \n",
              "199             21425.26491   3325.680818  3.465919e+05  ...   89.436073   \n",
              "\n",
              "     mfcc17_mean  mfcc17_var  mfcc18_mean  mfcc18_var  mfcc19_mean  \\\n",
              "0      -1.690215   36.524071    -0.408979   41.597103    -2.303523   \n",
              "1      -0.731125   60.314529     0.295073   48.120598    -0.283518   \n",
              "2      -7.729093   47.639427    -1.816407   52.382141    -3.439720   \n",
              "3      -3.319597   50.206673     0.636965   37.319130    -0.619121   \n",
              "4      -5.454034   75.269707    -0.916874   53.613918    -4.404827   \n",
              "..           ...         ...          ...         ...          ...   \n",
              "195     2.417449  125.991013     0.779610   68.256584    -3.415084   \n",
              "196     2.988827   39.963310     3.548611   52.965549    -3.346735   \n",
              "197     0.787177   74.531082    -3.961360   52.424522    -9.148158   \n",
              "198     7.026492   83.698685     8.378774   71.380379    -5.610244   \n",
              "199     2.519061   91.123299     4.399822   57.132504     1.703097   \n",
              "\n",
              "     mfcc19_var  mfcc20_mean  mfcc20_var      label  \n",
              "0     55.062923     1.221291   46.936035      blues  \n",
              "1     51.106190     0.531217   45.786282      blues  \n",
              "2     46.639660    -2.231258   30.573025      blues  \n",
              "3     37.259739    -3.407448   31.949339      blues  \n",
              "4     62.910812   -11.703234   55.195160      blues  \n",
              "..          ...          ...         ...        ...  \n",
              "195  162.598373    -0.739651  160.096695  classical  \n",
              "196   87.178192    -3.686793  108.163559  classical  \n",
              "197  118.060761    -6.935011  104.361465  classical  \n",
              "198   61.358536     1.379220  123.965485  classical  \n",
              "199   74.828583     9.978046  108.066185  classical  \n",
              "\n",
              "[200 rows x 58 columns]"
            ],
            "text/html": [
              "\n",
              "  <div id=\"df-470e3695-ebda-41a9-89ea-d0150c50bee0\">\n",
              "    <div class=\"colab-df-container\">\n",
              "      <div>\n",
              "<style scoped>\n",
              "    .dataframe tbody tr th:only-of-type {\n",
              "        vertical-align: middle;\n",
              "    }\n",
              "\n",
              "    .dataframe tbody tr th {\n",
              "        vertical-align: top;\n",
              "    }\n",
              "\n",
              "    .dataframe thead th {\n",
              "        text-align: right;\n",
              "    }\n",
              "</style>\n",
              "<table border=\"1\" class=\"dataframe\">\n",
              "  <thead>\n",
              "    <tr style=\"text-align: right;\">\n",
              "      <th></th>\n",
              "      <th>chroma_stft_mean</th>\n",
              "      <th>chroma_stft_var</th>\n",
              "      <th>rms_mean</th>\n",
              "      <th>rms_var</th>\n",
              "      <th>spectral_centroid_mean</th>\n",
              "      <th>spectral_centroid_var</th>\n",
              "      <th>spectral_bandwidth_mean</th>\n",
              "      <th>spectral_bandwidth_var</th>\n",
              "      <th>rolloff_mean</th>\n",
              "      <th>rolloff_var</th>\n",
              "      <th>...</th>\n",
              "      <th>mfcc16_var</th>\n",
              "      <th>mfcc17_mean</th>\n",
              "      <th>mfcc17_var</th>\n",
              "      <th>mfcc18_mean</th>\n",
              "      <th>mfcc18_var</th>\n",
              "      <th>mfcc19_mean</th>\n",
              "      <th>mfcc19_var</th>\n",
              "      <th>mfcc20_mean</th>\n",
              "      <th>mfcc20_var</th>\n",
              "      <th>label</th>\n",
              "    </tr>\n",
              "  </thead>\n",
              "  <tbody>\n",
              "    <tr>\n",
              "      <th>0</th>\n",
              "      <td>0.350088</td>\n",
              "      <td>0.088757</td>\n",
              "      <td>0.130228</td>\n",
              "      <td>0.002827</td>\n",
              "      <td>1784.165850</td>\n",
              "      <td>129774.06450</td>\n",
              "      <td>2002.449060</td>\n",
              "      <td>85882.76132</td>\n",
              "      <td>3805.839606</td>\n",
              "      <td>9.015054e+05</td>\n",
              "      <td>...</td>\n",
              "      <td>52.420910</td>\n",
              "      <td>-1.690215</td>\n",
              "      <td>36.524071</td>\n",
              "      <td>-0.408979</td>\n",
              "      <td>41.597103</td>\n",
              "      <td>-2.303523</td>\n",
              "      <td>55.062923</td>\n",
              "      <td>1.221291</td>\n",
              "      <td>46.936035</td>\n",
              "      <td>blues</td>\n",
              "    </tr>\n",
              "    <tr>\n",
              "      <th>1</th>\n",
              "      <td>0.340914</td>\n",
              "      <td>0.094980</td>\n",
              "      <td>0.095948</td>\n",
              "      <td>0.002373</td>\n",
              "      <td>1530.176679</td>\n",
              "      <td>375850.07360</td>\n",
              "      <td>2039.036516</td>\n",
              "      <td>213843.75550</td>\n",
              "      <td>3550.522098</td>\n",
              "      <td>2.977893e+06</td>\n",
              "      <td>...</td>\n",
              "      <td>55.356403</td>\n",
              "      <td>-0.731125</td>\n",
              "      <td>60.314529</td>\n",
              "      <td>0.295073</td>\n",
              "      <td>48.120598</td>\n",
              "      <td>-0.283518</td>\n",
              "      <td>51.106190</td>\n",
              "      <td>0.531217</td>\n",
              "      <td>45.786282</td>\n",
              "      <td>blues</td>\n",
              "    </tr>\n",
              "    <tr>\n",
              "      <th>2</th>\n",
              "      <td>0.363637</td>\n",
              "      <td>0.085275</td>\n",
              "      <td>0.175570</td>\n",
              "      <td>0.002746</td>\n",
              "      <td>1552.811865</td>\n",
              "      <td>156467.64340</td>\n",
              "      <td>1747.702312</td>\n",
              "      <td>76254.19226</td>\n",
              "      <td>3042.260232</td>\n",
              "      <td>7.840345e+05</td>\n",
              "      <td>...</td>\n",
              "      <td>40.598766</td>\n",
              "      <td>-7.729093</td>\n",
              "      <td>47.639427</td>\n",
              "      <td>-1.816407</td>\n",
              "      <td>52.382141</td>\n",
              "      <td>-3.439720</td>\n",
              "      <td>46.639660</td>\n",
              "      <td>-2.231258</td>\n",
              "      <td>30.573025</td>\n",
              "      <td>blues</td>\n",
              "    </tr>\n",
              "    <tr>\n",
              "      <th>3</th>\n",
              "      <td>0.404785</td>\n",
              "      <td>0.093999</td>\n",
              "      <td>0.141093</td>\n",
              "      <td>0.006346</td>\n",
              "      <td>1070.106615</td>\n",
              "      <td>184355.94240</td>\n",
              "      <td>1596.412872</td>\n",
              "      <td>166441.49480</td>\n",
              "      <td>2184.745799</td>\n",
              "      <td>1.493194e+06</td>\n",
              "      <td>...</td>\n",
              "      <td>44.427753</td>\n",
              "      <td>-3.319597</td>\n",
              "      <td>50.206673</td>\n",
              "      <td>0.636965</td>\n",
              "      <td>37.319130</td>\n",
              "      <td>-0.619121</td>\n",
              "      <td>37.259739</td>\n",
              "      <td>-3.407448</td>\n",
              "      <td>31.949339</td>\n",
              "      <td>blues</td>\n",
              "    </tr>\n",
              "    <tr>\n",
              "      <th>4</th>\n",
              "      <td>0.308526</td>\n",
              "      <td>0.087841</td>\n",
              "      <td>0.091529</td>\n",
              "      <td>0.002303</td>\n",
              "      <td>1835.004266</td>\n",
              "      <td>343399.93930</td>\n",
              "      <td>1748.172116</td>\n",
              "      <td>88445.20904</td>\n",
              "      <td>3579.757627</td>\n",
              "      <td>1.572978e+06</td>\n",
              "      <td>...</td>\n",
              "      <td>86.099236</td>\n",
              "      <td>-5.454034</td>\n",
              "      <td>75.269707</td>\n",
              "      <td>-0.916874</td>\n",
              "      <td>53.613918</td>\n",
              "      <td>-4.404827</td>\n",
              "      <td>62.910812</td>\n",
              "      <td>-11.703234</td>\n",
              "      <td>55.195160</td>\n",
              "      <td>blues</td>\n",
              "    </tr>\n",
              "    <tr>\n",
              "      <th>...</th>\n",
              "      <td>...</td>\n",
              "      <td>...</td>\n",
              "      <td>...</td>\n",
              "      <td>...</td>\n",
              "      <td>...</td>\n",
              "      <td>...</td>\n",
              "      <td>...</td>\n",
              "      <td>...</td>\n",
              "      <td>...</td>\n",
              "      <td>...</td>\n",
              "      <td>...</td>\n",
              "      <td>...</td>\n",
              "      <td>...</td>\n",
              "      <td>...</td>\n",
              "      <td>...</td>\n",
              "      <td>...</td>\n",
              "      <td>...</td>\n",
              "      <td>...</td>\n",
              "      <td>...</td>\n",
              "      <td>...</td>\n",
              "      <td>...</td>\n",
              "    </tr>\n",
              "    <tr>\n",
              "      <th>195</th>\n",
              "      <td>0.227693</td>\n",
              "      <td>0.088256</td>\n",
              "      <td>0.013564</td>\n",
              "      <td>0.000229</td>\n",
              "      <td>1800.888692</td>\n",
              "      <td>285133.98220</td>\n",
              "      <td>1781.068502</td>\n",
              "      <td>62925.51721</td>\n",
              "      <td>3427.243261</td>\n",
              "      <td>8.645783e+05</td>\n",
              "      <td>...</td>\n",
              "      <td>136.467468</td>\n",
              "      <td>2.417449</td>\n",
              "      <td>125.991013</td>\n",
              "      <td>0.779610</td>\n",
              "      <td>68.256584</td>\n",
              "      <td>-3.415084</td>\n",
              "      <td>162.598373</td>\n",
              "      <td>-0.739651</td>\n",
              "      <td>160.096695</td>\n",
              "      <td>classical</td>\n",
              "    </tr>\n",
              "    <tr>\n",
              "      <th>196</th>\n",
              "      <td>0.293052</td>\n",
              "      <td>0.082874</td>\n",
              "      <td>0.056987</td>\n",
              "      <td>0.000786</td>\n",
              "      <td>1933.689602</td>\n",
              "      <td>192223.36290</td>\n",
              "      <td>1740.491088</td>\n",
              "      <td>27385.87471</td>\n",
              "      <td>3573.962147</td>\n",
              "      <td>4.543625e+05</td>\n",
              "      <td>...</td>\n",
              "      <td>49.117809</td>\n",
              "      <td>2.988827</td>\n",
              "      <td>39.963310</td>\n",
              "      <td>3.548611</td>\n",
              "      <td>52.965549</td>\n",
              "      <td>-3.346735</td>\n",
              "      <td>87.178192</td>\n",
              "      <td>-3.686793</td>\n",
              "      <td>108.163559</td>\n",
              "      <td>classical</td>\n",
              "    </tr>\n",
              "    <tr>\n",
              "      <th>197</th>\n",
              "      <td>0.222265</td>\n",
              "      <td>0.083254</td>\n",
              "      <td>0.036720</td>\n",
              "      <td>0.000465</td>\n",
              "      <td>1494.419821</td>\n",
              "      <td>92293.65472</td>\n",
              "      <td>1671.195986</td>\n",
              "      <td>31772.32080</td>\n",
              "      <td>2781.813393</td>\n",
              "      <td>3.395294e+05</td>\n",
              "      <td>...</td>\n",
              "      <td>97.051605</td>\n",
              "      <td>0.787177</td>\n",
              "      <td>74.531082</td>\n",
              "      <td>-3.961360</td>\n",
              "      <td>52.424522</td>\n",
              "      <td>-9.148158</td>\n",
              "      <td>118.060761</td>\n",
              "      <td>-6.935011</td>\n",
              "      <td>104.361465</td>\n",
              "      <td>classical</td>\n",
              "    </tr>\n",
              "    <tr>\n",
              "      <th>198</th>\n",
              "      <td>0.289919</td>\n",
              "      <td>0.088790</td>\n",
              "      <td>0.029094</td>\n",
              "      <td>0.000332</td>\n",
              "      <td>1952.495511</td>\n",
              "      <td>166304.03580</td>\n",
              "      <td>1865.737617</td>\n",
              "      <td>22529.55381</td>\n",
              "      <td>3779.826564</td>\n",
              "      <td>4.477117e+05</td>\n",
              "      <td>...</td>\n",
              "      <td>59.865459</td>\n",
              "      <td>7.026492</td>\n",
              "      <td>83.698685</td>\n",
              "      <td>8.378774</td>\n",
              "      <td>71.380379</td>\n",
              "      <td>-5.610244</td>\n",
              "      <td>61.358536</td>\n",
              "      <td>1.379220</td>\n",
              "      <td>123.965485</td>\n",
              "      <td>classical</td>\n",
              "    </tr>\n",
              "    <tr>\n",
              "      <th>199</th>\n",
              "      <td>0.333908</td>\n",
              "      <td>0.078685</td>\n",
              "      <td>0.010506</td>\n",
              "      <td>0.000004</td>\n",
              "      <td>1525.123851</td>\n",
              "      <td>46679.59000</td>\n",
              "      <td>1869.056261</td>\n",
              "      <td>21425.26491</td>\n",
              "      <td>3325.680818</td>\n",
              "      <td>3.465919e+05</td>\n",
              "      <td>...</td>\n",
              "      <td>89.436073</td>\n",
              "      <td>2.519061</td>\n",
              "      <td>91.123299</td>\n",
              "      <td>4.399822</td>\n",
              "      <td>57.132504</td>\n",
              "      <td>1.703097</td>\n",
              "      <td>74.828583</td>\n",
              "      <td>9.978046</td>\n",
              "      <td>108.066185</td>\n",
              "      <td>classical</td>\n",
              "    </tr>\n",
              "  </tbody>\n",
              "</table>\n",
              "<p>200 rows × 58 columns</p>\n",
              "</div>\n",
              "      <button class=\"colab-df-convert\" onclick=\"convertToInteractive('df-470e3695-ebda-41a9-89ea-d0150c50bee0')\"\n",
              "              title=\"Convert this dataframe to an interactive table.\"\n",
              "              style=\"display:none;\">\n",
              "        \n",
              "  <svg xmlns=\"http://www.w3.org/2000/svg\" height=\"24px\"viewBox=\"0 0 24 24\"\n",
              "       width=\"24px\">\n",
              "    <path d=\"M0 0h24v24H0V0z\" fill=\"none\"/>\n",
              "    <path d=\"M18.56 5.44l.94 2.06.94-2.06 2.06-.94-2.06-.94-.94-2.06-.94 2.06-2.06.94zm-11 1L8.5 8.5l.94-2.06 2.06-.94-2.06-.94L8.5 2.5l-.94 2.06-2.06.94zm10 10l.94 2.06.94-2.06 2.06-.94-2.06-.94-.94-2.06-.94 2.06-2.06.94z\"/><path d=\"M17.41 7.96l-1.37-1.37c-.4-.4-.92-.59-1.43-.59-.52 0-1.04.2-1.43.59L10.3 9.45l-7.72 7.72c-.78.78-.78 2.05 0 2.83L4 21.41c.39.39.9.59 1.41.59.51 0 1.02-.2 1.41-.59l7.78-7.78 2.81-2.81c.8-.78.8-2.07 0-2.86zM5.41 20L4 18.59l7.72-7.72 1.47 1.35L5.41 20z\"/>\n",
              "  </svg>\n",
              "      </button>\n",
              "      \n",
              "  <style>\n",
              "    .colab-df-container {\n",
              "      display:flex;\n",
              "      flex-wrap:wrap;\n",
              "      gap: 12px;\n",
              "    }\n",
              "\n",
              "    .colab-df-convert {\n",
              "      background-color: #E8F0FE;\n",
              "      border: none;\n",
              "      border-radius: 50%;\n",
              "      cursor: pointer;\n",
              "      display: none;\n",
              "      fill: #1967D2;\n",
              "      height: 32px;\n",
              "      padding: 0 0 0 0;\n",
              "      width: 32px;\n",
              "    }\n",
              "\n",
              "    .colab-df-convert:hover {\n",
              "      background-color: #E2EBFA;\n",
              "      box-shadow: 0px 1px 2px rgba(60, 64, 67, 0.3), 0px 1px 3px 1px rgba(60, 64, 67, 0.15);\n",
              "      fill: #174EA6;\n",
              "    }\n",
              "\n",
              "    [theme=dark] .colab-df-convert {\n",
              "      background-color: #3B4455;\n",
              "      fill: #D2E3FC;\n",
              "    }\n",
              "\n",
              "    [theme=dark] .colab-df-convert:hover {\n",
              "      background-color: #434B5C;\n",
              "      box-shadow: 0px 1px 3px 1px rgba(0, 0, 0, 0.15);\n",
              "      filter: drop-shadow(0px 1px 2px rgba(0, 0, 0, 0.3));\n",
              "      fill: #FFFFFF;\n",
              "    }\n",
              "  </style>\n",
              "\n",
              "      <script>\n",
              "        const buttonEl =\n",
              "          document.querySelector('#df-470e3695-ebda-41a9-89ea-d0150c50bee0 button.colab-df-convert');\n",
              "        buttonEl.style.display =\n",
              "          google.colab.kernel.accessAllowed ? 'block' : 'none';\n",
              "\n",
              "        async function convertToInteractive(key) {\n",
              "          const element = document.querySelector('#df-470e3695-ebda-41a9-89ea-d0150c50bee0');\n",
              "          const dataTable =\n",
              "            await google.colab.kernel.invokeFunction('convertToInteractive',\n",
              "                                                     [key], {});\n",
              "          if (!dataTable) return;\n",
              "\n",
              "          const docLinkHtml = 'Like what you see? Visit the ' +\n",
              "            '<a target=\"_blank\" href=https://colab.research.google.com/notebooks/data_table.ipynb>data table notebook</a>'\n",
              "            + ' to learn more about interactive tables.';\n",
              "          element.innerHTML = '';\n",
              "          dataTable['output_type'] = 'display_data';\n",
              "          await google.colab.output.renderOutput(dataTable, element);\n",
              "          const docLink = document.createElement('div');\n",
              "          docLink.innerHTML = docLinkHtml;\n",
              "          element.appendChild(docLink);\n",
              "        }\n",
              "      </script>\n",
              "    </div>\n",
              "  </div>\n",
              "  "
            ]
          },
          "metadata": {},
          "execution_count": 3
        }
      ]
    },
    {
      "cell_type": "code",
      "source": [
        "data.shape"
      ],
      "metadata": {
        "colab": {
          "base_uri": "https://localhost:8080/"
        },
        "id": "P0gXC_m2cljC",
        "outputId": "8d6bc452-f0e7-4bf6-fc03-d90acfac2204"
      },
      "execution_count": 4,
      "outputs": [
        {
          "output_type": "execute_result",
          "data": {
            "text/plain": [
              "(200, 58)"
            ]
          },
          "metadata": {},
          "execution_count": 4
        }
      ]
    },
    {
      "cell_type": "markdown",
      "source": [
        "##Encoding the Labels"
      ],
      "metadata": {
        "id": "YQhwuCNTeF4J"
      }
    },
    {
      "cell_type": "code",
      "source": [
        "genre_list = data.iloc[:, -1]\n",
        "encoder = LabelEncoder()\n",
        "y = encoder.fit_transform(genre_list)\n",
        "y "
      ],
      "metadata": {
        "colab": {
          "base_uri": "https://localhost:8080/"
        },
        "id": "EBftHyfXdxYA",
        "outputId": "5d59c46b-432e-4541-efa1-36697b67f928"
      },
      "execution_count": 5,
      "outputs": [
        {
          "output_type": "execute_result",
          "data": {
            "text/plain": [
              "array([0, 0, 0, 0, 0, 0, 0, 0, 0, 0, 0, 0, 0, 0, 0, 0, 0, 0, 0, 0, 0, 0,\n",
              "       0, 0, 0, 0, 0, 0, 0, 0, 0, 0, 0, 0, 0, 0, 0, 0, 0, 0, 0, 0, 0, 0,\n",
              "       0, 0, 0, 0, 0, 0, 0, 0, 0, 0, 0, 0, 0, 0, 0, 0, 0, 0, 0, 0, 0, 0,\n",
              "       0, 0, 0, 0, 0, 0, 0, 0, 0, 0, 0, 0, 0, 0, 0, 0, 0, 0, 0, 0, 0, 0,\n",
              "       0, 0, 0, 0, 0, 0, 0, 0, 0, 0, 0, 0, 1, 1, 1, 1, 1, 1, 1, 1, 1, 1,\n",
              "       1, 1, 1, 1, 1, 1, 1, 1, 1, 1, 1, 1, 1, 1, 1, 1, 1, 1, 1, 1, 1, 1,\n",
              "       1, 1, 1, 1, 1, 1, 1, 1, 1, 1, 1, 1, 1, 1, 1, 1, 1, 1, 1, 1, 1, 1,\n",
              "       1, 1, 1, 1, 1, 1, 1, 1, 1, 1, 1, 1, 1, 1, 1, 1, 1, 1, 1, 1, 1, 1,\n",
              "       1, 1, 1, 1, 1, 1, 1, 1, 1, 1, 1, 1, 1, 1, 1, 1, 1, 1, 1, 1, 1, 1,\n",
              "       1, 1])"
            ]
          },
          "metadata": {},
          "execution_count": 5
        }
      ]
    },
    {
      "cell_type": "code",
      "source": [
        "y.shape"
      ],
      "metadata": {
        "colab": {
          "base_uri": "https://localhost:8080/"
        },
        "id": "TbSnQc1SeojY",
        "outputId": "4dfddc01-e151-46f8-f17e-f9353b2b182e"
      },
      "execution_count": 6,
      "outputs": [
        {
          "output_type": "execute_result",
          "data": {
            "text/plain": [
              "(200,)"
            ]
          },
          "metadata": {},
          "execution_count": 6
        }
      ]
    },
    {
      "cell_type": "markdown",
      "source": [
        "##Scaling the Feature columns\n"
      ],
      "metadata": {
        "id": "4pm05Xe2eId6"
      }
    },
    {
      "cell_type": "code",
      "source": [
        "scaler = StandardScaler()\n",
        "X = scaler.fit_transform(np.array(data.iloc[:, :-1], dtype = float))\n",
        "X"
      ],
      "metadata": {
        "colab": {
          "base_uri": "https://localhost:8080/"
        },
        "id": "yYkfYNdReDJb",
        "outputId": "15858826-f283-49f0-a168-1caa83d4da8f"
      },
      "execution_count": 7,
      "outputs": [
        {
          "output_type": "execute_result",
          "data": {
            "text/plain": [
              "array([[ 0.73728741,  0.14400498,  0.63020804, ..., -0.62101218,\n",
              "         0.67385914, -0.82467388],\n",
              "       [ 0.59518898,  1.20096841,  0.09985569, ..., -0.71352288,\n",
              "         0.52629703, -0.84561476],\n",
              "       [ 0.94714023, -0.44723371,  1.33170795, ..., -0.8179529 ,\n",
              "        -0.06441715, -1.12269925],\n",
              "       ...,\n",
              "       [-1.24248287, -0.79047867, -0.81646493, ...,  0.85191327,\n",
              "        -1.07024479,  0.22123602],\n",
              "       [-0.19462869,  0.14961664, -0.93445298, ..., -0.47381717,\n",
              "         0.70763007,  0.57829104],\n",
              "       [ 0.48669101, -1.56651324, -1.22203362, ..., -0.15887977,\n",
              "         2.54636115,  0.28871141]])"
            ]
          },
          "metadata": {},
          "execution_count": 7
        }
      ]
    },
    {
      "cell_type": "code",
      "source": [
        "X.shape"
      ],
      "metadata": {
        "colab": {
          "base_uri": "https://localhost:8080/"
        },
        "id": "o0DY5lHehHkB",
        "outputId": "aaecf8c2-584b-4c73-d20f-e0dff56d9ed6"
      },
      "execution_count": 8,
      "outputs": [
        {
          "output_type": "execute_result",
          "data": {
            "text/plain": [
              "(200, 57)"
            ]
          },
          "metadata": {},
          "execution_count": 8
        }
      ]
    },
    {
      "cell_type": "markdown",
      "source": [
        "##Dividing data into training and Testing set"
      ],
      "metadata": {
        "id": "r1kC-HFEeUmx"
      }
    },
    {
      "cell_type": "code",
      "source": [
        "\n",
        "from sklearn.model_selection import train_test_split\n",
        "X_train, X_test, y_train, y_test = train_test_split(X, y, test_size=0.2, random_state=0)"
      ],
      "metadata": {
        "id": "0PRlDAyPl1Vf"
      },
      "execution_count": 32,
      "outputs": []
    },
    {
      "cell_type": "code",
      "source": [
        "len(y_train)"
      ],
      "metadata": {
        "colab": {
          "base_uri": "https://localhost:8080/"
        },
        "id": "lxOrrrD4eYZJ",
        "outputId": "dcd468d0-8305-4b5b-a3fd-18693cd496ee"
      },
      "execution_count": 33,
      "outputs": [
        {
          "output_type": "execute_result",
          "data": {
            "text/plain": [
              "160"
            ]
          },
          "metadata": {},
          "execution_count": 33
        }
      ]
    },
    {
      "cell_type": "code",
      "source": [
        "\n",
        "len(y_test)"
      ],
      "metadata": {
        "colab": {
          "base_uri": "https://localhost:8080/"
        },
        "id": "jQ87hFd-hRPv",
        "outputId": "ec75b71a-e7d1-45ea-9030-6ca10fbaae50"
      },
      "execution_count": 34,
      "outputs": [
        {
          "output_type": "execute_result",
          "data": {
            "text/plain": [
              "40"
            ]
          },
          "metadata": {},
          "execution_count": 34
        }
      ]
    },
    {
      "cell_type": "markdown",
      "source": [
        "#สร้าง Model "
      ],
      "metadata": {
        "id": "pqjkWeYoi0Fw"
      }
    },
    {
      "cell_type": "markdown",
      "source": [
        "##KNN"
      ],
      "metadata": {
        "id": "MK1LlZEci_nh"
      }
    },
    {
      "cell_type": "code",
      "source": [
        "from sklearn.neighbors import KNeighborsClassifier"
      ],
      "metadata": {
        "id": "ooNSkJbdhcpm"
      },
      "execution_count": 13,
      "outputs": []
    },
    {
      "cell_type": "markdown",
      "source": [
        "###Define-Train Model"
      ],
      "metadata": {
        "id": "gV9F2xmAmLw7"
      }
    },
    {
      "cell_type": "code",
      "source": [
        "neigh = KNeighborsClassifier(n_neighbors=5, weights='distance') #กำหนด n=5 และอ้างอิงจากข้อมูลที่ใกล้เคียงที่สุด\n",
        "neigh.fit(X_train,y_train)"
      ],
      "metadata": {
        "colab": {
          "base_uri": "https://localhost:8080/",
          "height": 74
        },
        "id": "dGk-_l2PjJo4",
        "outputId": "1fb359c7-557a-4703-d3ad-98767082298f"
      },
      "execution_count": 36,
      "outputs": [
        {
          "output_type": "execute_result",
          "data": {
            "text/plain": [
              "KNeighborsClassifier(weights='distance')"
            ],
            "text/html": [
              "<style>#sk-container-id-2 {color: black;background-color: white;}#sk-container-id-2 pre{padding: 0;}#sk-container-id-2 div.sk-toggleable {background-color: white;}#sk-container-id-2 label.sk-toggleable__label {cursor: pointer;display: block;width: 100%;margin-bottom: 0;padding: 0.3em;box-sizing: border-box;text-align: center;}#sk-container-id-2 label.sk-toggleable__label-arrow:before {content: \"▸\";float: left;margin-right: 0.25em;color: #696969;}#sk-container-id-2 label.sk-toggleable__label-arrow:hover:before {color: black;}#sk-container-id-2 div.sk-estimator:hover label.sk-toggleable__label-arrow:before {color: black;}#sk-container-id-2 div.sk-toggleable__content {max-height: 0;max-width: 0;overflow: hidden;text-align: left;background-color: #f0f8ff;}#sk-container-id-2 div.sk-toggleable__content pre {margin: 0.2em;color: black;border-radius: 0.25em;background-color: #f0f8ff;}#sk-container-id-2 input.sk-toggleable__control:checked~div.sk-toggleable__content {max-height: 200px;max-width: 100%;overflow: auto;}#sk-container-id-2 input.sk-toggleable__control:checked~label.sk-toggleable__label-arrow:before {content: \"▾\";}#sk-container-id-2 div.sk-estimator input.sk-toggleable__control:checked~label.sk-toggleable__label {background-color: #d4ebff;}#sk-container-id-2 div.sk-label input.sk-toggleable__control:checked~label.sk-toggleable__label {background-color: #d4ebff;}#sk-container-id-2 input.sk-hidden--visually {border: 0;clip: rect(1px 1px 1px 1px);clip: rect(1px, 1px, 1px, 1px);height: 1px;margin: -1px;overflow: hidden;padding: 0;position: absolute;width: 1px;}#sk-container-id-2 div.sk-estimator {font-family: monospace;background-color: #f0f8ff;border: 1px dotted black;border-radius: 0.25em;box-sizing: border-box;margin-bottom: 0.5em;}#sk-container-id-2 div.sk-estimator:hover {background-color: #d4ebff;}#sk-container-id-2 div.sk-parallel-item::after {content: \"\";width: 100%;border-bottom: 1px solid gray;flex-grow: 1;}#sk-container-id-2 div.sk-label:hover label.sk-toggleable__label {background-color: #d4ebff;}#sk-container-id-2 div.sk-serial::before {content: \"\";position: absolute;border-left: 1px solid gray;box-sizing: border-box;top: 0;bottom: 0;left: 50%;z-index: 0;}#sk-container-id-2 div.sk-serial {display: flex;flex-direction: column;align-items: center;background-color: white;padding-right: 0.2em;padding-left: 0.2em;position: relative;}#sk-container-id-2 div.sk-item {position: relative;z-index: 1;}#sk-container-id-2 div.sk-parallel {display: flex;align-items: stretch;justify-content: center;background-color: white;position: relative;}#sk-container-id-2 div.sk-item::before, #sk-container-id-2 div.sk-parallel-item::before {content: \"\";position: absolute;border-left: 1px solid gray;box-sizing: border-box;top: 0;bottom: 0;left: 50%;z-index: -1;}#sk-container-id-2 div.sk-parallel-item {display: flex;flex-direction: column;z-index: 1;position: relative;background-color: white;}#sk-container-id-2 div.sk-parallel-item:first-child::after {align-self: flex-end;width: 50%;}#sk-container-id-2 div.sk-parallel-item:last-child::after {align-self: flex-start;width: 50%;}#sk-container-id-2 div.sk-parallel-item:only-child::after {width: 0;}#sk-container-id-2 div.sk-dashed-wrapped {border: 1px dashed gray;margin: 0 0.4em 0.5em 0.4em;box-sizing: border-box;padding-bottom: 0.4em;background-color: white;}#sk-container-id-2 div.sk-label label {font-family: monospace;font-weight: bold;display: inline-block;line-height: 1.2em;}#sk-container-id-2 div.sk-label-container {text-align: center;}#sk-container-id-2 div.sk-container {/* jupyter's `normalize.less` sets `[hidden] { display: none; }` but bootstrap.min.css set `[hidden] { display: none !important; }` so we also need the `!important` here to be able to override the default hidden behavior on the sphinx rendered scikit-learn.org. See: https://github.com/scikit-learn/scikit-learn/issues/21755 */display: inline-block !important;position: relative;}#sk-container-id-2 div.sk-text-repr-fallback {display: none;}</style><div id=\"sk-container-id-2\" class=\"sk-top-container\"><div class=\"sk-text-repr-fallback\"><pre>KNeighborsClassifier(weights=&#x27;distance&#x27;)</pre><b>In a Jupyter environment, please rerun this cell to show the HTML representation or trust the notebook. <br />On GitHub, the HTML representation is unable to render, please try loading this page with nbviewer.org.</b></div><div class=\"sk-container\" hidden><div class=\"sk-item\"><div class=\"sk-estimator sk-toggleable\"><input class=\"sk-toggleable__control sk-hidden--visually\" id=\"sk-estimator-id-2\" type=\"checkbox\" checked><label for=\"sk-estimator-id-2\" class=\"sk-toggleable__label sk-toggleable__label-arrow\">KNeighborsClassifier</label><div class=\"sk-toggleable__content\"><pre>KNeighborsClassifier(weights=&#x27;distance&#x27;)</pre></div></div></div></div></div>"
            ]
          },
          "metadata": {},
          "execution_count": 36
        }
      ]
    },
    {
      "cell_type": "markdown",
      "source": [
        "##Validate model"
      ],
      "metadata": {
        "id": "NPgC63E-mHNK"
      }
    },
    {
      "cell_type": "code",
      "source": [
        "from sklearn.metrics import accuracy_score\n",
        "knn_result = neigh.predict(X_test)\n",
        "accuracy_score(y_test,knn_result)"
      ],
      "metadata": {
        "colab": {
          "base_uri": "https://localhost:8080/"
        },
        "id": "fiX8qY_Qkb6y",
        "outputId": "81c4a6bb-cd0a-4aa0-b2ed-e7941b5a00ed"
      },
      "execution_count": 38,
      "outputs": [
        {
          "output_type": "execute_result",
          "data": {
            "text/plain": [
              "0.975"
            ]
          },
          "metadata": {},
          "execution_count": 38
        }
      ]
    },
    {
      "cell_type": "code",
      "source": [
        "from sklearn.metrics import classification_report, confusion_matrix"
      ],
      "metadata": {
        "id": "dAdkjYUAmT1r"
      },
      "execution_count": 39,
      "outputs": []
    },
    {
      "cell_type": "code",
      "source": [
        "cm_kNN = confusion_matrix(y_test,knn_result)\n",
        "cm_kNN"
      ],
      "metadata": {
        "colab": {
          "base_uri": "https://localhost:8080/"
        },
        "id": "taxZ1PlhmfBk",
        "outputId": "cea0b453-69f1-4f23-e219-b6097f7303f8"
      },
      "execution_count": 41,
      "outputs": [
        {
          "output_type": "execute_result",
          "data": {
            "text/plain": [
              "array([[17,  1],\n",
              "       [ 0, 22]])"
            ]
          },
          "metadata": {},
          "execution_count": 41
        }
      ]
    },
    {
      "cell_type": "code",
      "source": [
        "print(classification_report(knn_result, y_test))"
      ],
      "metadata": {
        "colab": {
          "base_uri": "https://localhost:8080/"
        },
        "id": "cdNaYfPBoa_z",
        "outputId": "f75ff4de-9721-4333-a2e4-d5df25c650fb"
      },
      "execution_count": 43,
      "outputs": [
        {
          "output_type": "stream",
          "name": "stdout",
          "text": [
            "              precision    recall  f1-score   support\n",
            "\n",
            "           0       0.94      1.00      0.97        17\n",
            "           1       1.00      0.96      0.98        23\n",
            "\n",
            "    accuracy                           0.97        40\n",
            "   macro avg       0.97      0.98      0.97        40\n",
            "weighted avg       0.98      0.97      0.98        40\n",
            "\n"
          ]
        }
      ]
    },
    {
      "cell_type": "markdown",
      "source": [
        "##SVM"
      ],
      "metadata": {
        "id": "b2iGmjLbj1Ob"
      }
    },
    {
      "cell_type": "code",
      "source": [
        "from sklearn import svm"
      ],
      "metadata": {
        "id": "LLuSbySQoI9t"
      },
      "execution_count": 19,
      "outputs": []
    },
    {
      "cell_type": "code",
      "source": [
        "#Create a svm Classifier\n",
        "clf = svm.SVC(kernel='linear') # Linear Kernel\n",
        "\n",
        "#Train the model using the training sets\n",
        "clf.fit(X_train,y_train)\n",
        "\n",
        "#Predict the response for test dataset\n",
        "svm_result = clf.predict(X_test)"
      ],
      "metadata": {
        "id": "-mD43abHj55u"
      },
      "execution_count": 71,
      "outputs": []
    },
    {
      "cell_type": "code",
      "source": [
        "svm_result"
      ],
      "metadata": {
        "colab": {
          "base_uri": "https://localhost:8080/"
        },
        "id": "TcSojO1GnJUr",
        "outputId": "26ceb739-67dc-47dc-9f1c-4d542d71f4c5"
      },
      "execution_count": 72,
      "outputs": [
        {
          "output_type": "execute_result",
          "data": {
            "text/plain": [
              "array([0, 1, 1, 0, 1, 1, 0, 1, 0, 1, 0, 1, 1, 1, 0, 0, 0, 1, 0, 0, 1, 1,\n",
              "       0, 1, 0, 1, 1, 1, 1, 0, 0, 0, 1, 1, 0, 1, 1, 1, 0, 1])"
            ]
          },
          "metadata": {},
          "execution_count": 72
        }
      ]
    },
    {
      "cell_type": "code",
      "source": [
        "from sklearn import metrics\n",
        "#กรณี train 1 รอบ\n",
        "print(\"Accuracy:\",metrics.accuracy_score(y_test, svm_result))\n",
        "print(\"Precision:\",metrics.precision_score(y_test, svm_result))\n",
        "print(\"Recall:\",metrics.recall_score(y_test, svm_result))"
      ],
      "metadata": {
        "colab": {
          "base_uri": "https://localhost:8080/"
        },
        "id": "dtKX8AbPmyHO",
        "outputId": "52379386-2890-4b88-c5dc-06c443e45f68"
      },
      "execution_count": 73,
      "outputs": [
        {
          "output_type": "stream",
          "name": "stdout",
          "text": [
            "Accuracy: 0.975\n",
            "Precision: 0.9565217391304348\n",
            "Recall: 1.0\n"
          ]
        }
      ]
    },
    {
      "cell_type": "code",
      "source": [
        "cm_svm = confusion_matrix(svm_result, y_test)\n",
        "cm_svm"
      ],
      "metadata": {
        "colab": {
          "base_uri": "https://localhost:8080/"
        },
        "id": "wdNTCNGBnCh_",
        "outputId": "1d984895-b6b4-4dbf-c33d-35b5d206947f"
      },
      "execution_count": 74,
      "outputs": [
        {
          "output_type": "execute_result",
          "data": {
            "text/plain": [
              "array([[17,  0],\n",
              "       [ 1, 22]])"
            ]
          },
          "metadata": {},
          "execution_count": 74
        }
      ]
    },
    {
      "cell_type": "code",
      "source": [
        "print(classification_report(svm_result, y_test))"
      ],
      "metadata": {
        "colab": {
          "base_uri": "https://localhost:8080/"
        },
        "id": "AMNf0yCSnY5R",
        "outputId": "92258432-4c1e-4988-d6f4-f309fffefc3a"
      },
      "execution_count": 76,
      "outputs": [
        {
          "output_type": "stream",
          "name": "stdout",
          "text": [
            "              precision    recall  f1-score   support\n",
            "\n",
            "           0       0.94      1.00      0.97        17\n",
            "           1       1.00      0.96      0.98        23\n",
            "\n",
            "    accuracy                           0.97        40\n",
            "   macro avg       0.97      0.98      0.97        40\n",
            "weighted avg       0.98      0.97      0.98        40\n",
            "\n"
          ]
        }
      ]
    },
    {
      "cell_type": "markdown",
      "source": [
        "##RandomForest"
      ],
      "metadata": {
        "id": "I9PSvFSax38N"
      }
    },
    {
      "cell_type": "code",
      "source": [
        "from sklearn.ensemble import RandomForestClassifier"
      ],
      "metadata": {
        "id": "cXtTvLODpkTq"
      },
      "execution_count": 53,
      "outputs": []
    },
    {
      "cell_type": "code",
      "source": [
        "from sklearn.tree import export_graphviz\n",
        "from IPython.display import Image\n",
        "import graphviz"
      ],
      "metadata": {
        "id": "pMAr3-HAzSmm"
      },
      "execution_count": 54,
      "outputs": []
    },
    {
      "cell_type": "code",
      "source": [
        "rf = RandomForestClassifier(max_depth=2, random_state=0)\n",
        "rf.fit(X_train, y_train)\n",
        "rf_result = rf.predict(X_test)"
      ],
      "metadata": {
        "id": "m1EUSEDEx8Qb"
      },
      "execution_count": 77,
      "outputs": []
    },
    {
      "cell_type": "code",
      "source": [
        "for i in range(20):\n",
        "    tree = rf.estimators_[i]\n",
        "    dot_data = export_graphviz(tree,\n",
        "                               feature_names=None,  \n",
        "                               filled=True,  \n",
        "                               max_depth=5, \n",
        "                               impurity=False, \n",
        "                               proportion=True)\n",
        "    graph = graphviz.Source(dot_data)\n",
        "    display(graph)"
      ],
      "metadata": {
        "id": "5LWWOT0XyPFe",
        "outputId": "71600e3e-4413-45c0-c26d-8af38b0ab476",
        "colab": {
          "base_uri": "https://localhost:8080/",
          "height": 1000
        }
      },
      "execution_count": 79,
      "outputs": [
        {
          "output_type": "display_data",
          "data": {
            "image/svg+xml": "<?xml version=\"1.0\" encoding=\"UTF-8\" standalone=\"no\"?>\n<!DOCTYPE svg PUBLIC \"-//W3C//DTD SVG 1.1//EN\"\n \"http://www.w3.org/Graphics/SVG/1.1/DTD/svg11.dtd\">\n<!-- Generated by graphviz version 2.43.0 (0)\n -->\n<!-- Title: Tree Pages: 1 -->\n<svg width=\"567pt\" height=\"224pt\"\n viewBox=\"0.00 0.00 567.00 224.00\" xmlns=\"http://www.w3.org/2000/svg\" xmlns:xlink=\"http://www.w3.org/1999/xlink\">\n<g id=\"graph0\" class=\"graph\" transform=\"scale(1 1) rotate(0) translate(4 220)\">\n<title>Tree</title>\n<polygon fill=\"white\" stroke=\"transparent\" points=\"-4,4 -4,-220 563,-220 563,4 -4,4\"/>\n<!-- 0 -->\n<g id=\"node1\" class=\"node\">\n<title>0</title>\n<polygon fill=\"#d7ebfa\" stroke=\"black\" points=\"355.5,-216 208.5,-216 208.5,-163 355.5,-163 355.5,-216\"/>\n<text text-anchor=\"middle\" x=\"282\" y=\"-200.8\" font-family=\"Helvetica,sans-Serif\" font-size=\"14.00\">x[31] &lt;= 0.362</text>\n<text text-anchor=\"middle\" x=\"282\" y=\"-185.8\" font-family=\"Helvetica,sans-Serif\" font-size=\"14.00\">samples = 100.0%</text>\n<text text-anchor=\"middle\" x=\"282\" y=\"-170.8\" font-family=\"Helvetica,sans-Serif\" font-size=\"14.00\">value = [0.444, 0.556]</text>\n</g>\n<!-- 1 -->\n<g id=\"node2\" class=\"node\">\n<title>1</title>\n<polygon fill=\"#61b1ea\" stroke=\"black\" points=\"273.5,-127 126.5,-127 126.5,-74 273.5,-74 273.5,-127\"/>\n<text text-anchor=\"middle\" x=\"200\" y=\"-111.8\" font-family=\"Helvetica,sans-Serif\" font-size=\"14.00\">x[2] &lt;= &#45;0.412</text>\n<text text-anchor=\"middle\" x=\"200\" y=\"-96.8\" font-family=\"Helvetica,sans-Serif\" font-size=\"14.00\">samples = 63.7%</text>\n<text text-anchor=\"middle\" x=\"200\" y=\"-81.8\" font-family=\"Helvetica,sans-Serif\" font-size=\"14.00\">value = [0.167, 0.833]</text>\n</g>\n<!-- 0&#45;&gt;1 -->\n<g id=\"edge1\" class=\"edge\">\n<title>0&#45;&gt;1</title>\n<path fill=\"none\" stroke=\"black\" d=\"M257.84,-162.87C249.49,-154.01 240.01,-143.95 231.18,-134.58\"/>\n<polygon fill=\"black\" stroke=\"black\" points=\"233.68,-132.13 224.27,-127.25 228.58,-136.93 233.68,-132.13\"/>\n<text text-anchor=\"middle\" x=\"223.53\" y=\"-148.54\" font-family=\"Helvetica,sans-Serif\" font-size=\"14.00\">True</text>\n</g>\n<!-- 4 -->\n<g id=\"node5\" class=\"node\">\n<title>4</title>\n<polygon fill=\"#e78a48\" stroke=\"black\" points=\"438.5,-127 291.5,-127 291.5,-74 438.5,-74 438.5,-127\"/>\n<text text-anchor=\"middle\" x=\"365\" y=\"-111.8\" font-family=\"Helvetica,sans-Serif\" font-size=\"14.00\">x[15] &lt;= &#45;0.528</text>\n<text text-anchor=\"middle\" x=\"365\" y=\"-96.8\" font-family=\"Helvetica,sans-Serif\" font-size=\"14.00\">samples = 36.3%</text>\n<text text-anchor=\"middle\" x=\"365\" y=\"-81.8\" font-family=\"Helvetica,sans-Serif\" font-size=\"14.00\">value = [0.931, 0.069]</text>\n</g>\n<!-- 0&#45;&gt;4 -->\n<g id=\"edge4\" class=\"edge\">\n<title>0&#45;&gt;4</title>\n<path fill=\"none\" stroke=\"black\" d=\"M306.45,-162.87C314.91,-154.01 324.5,-143.95 333.44,-134.58\"/>\n<polygon fill=\"black\" stroke=\"black\" points=\"336.06,-136.9 340.43,-127.25 331,-132.07 336.06,-136.9\"/>\n<text text-anchor=\"middle\" x=\"341.02\" y=\"-148.54\" font-family=\"Helvetica,sans-Serif\" font-size=\"14.00\">False</text>\n</g>\n<!-- 2 -->\n<g id=\"node3\" class=\"node\">\n<title>2</title>\n<polygon fill=\"#399de5\" stroke=\"black\" points=\"122,-38 0,-38 0,0 122,0 122,-38\"/>\n<text text-anchor=\"middle\" x=\"61\" y=\"-22.8\" font-family=\"Helvetica,sans-Serif\" font-size=\"14.00\">samples = 43.1%</text>\n<text text-anchor=\"middle\" x=\"61\" y=\"-7.8\" font-family=\"Helvetica,sans-Serif\" font-size=\"14.00\">value = [0.0, 1.0]</text>\n</g>\n<!-- 1&#45;&gt;2 -->\n<g id=\"edge2\" class=\"edge\">\n<title>1&#45;&gt;2</title>\n<path fill=\"none\" stroke=\"black\" d=\"M155.25,-73.91C138.11,-64.1 118.66,-52.98 101.89,-43.39\"/>\n<polygon fill=\"black\" stroke=\"black\" points=\"103.31,-40.17 92.89,-38.24 99.83,-46.24 103.31,-40.17\"/>\n</g>\n<!-- 3 -->\n<g id=\"node4\" class=\"node\">\n<title>3</title>\n<polygon fill=\"#f4cbad\" stroke=\"black\" points=\"272,-38 140,-38 140,0 272,0 272,-38\"/>\n<text text-anchor=\"middle\" x=\"206\" y=\"-22.8\" font-family=\"Helvetica,sans-Serif\" font-size=\"14.00\">samples = 20.6%</text>\n<text text-anchor=\"middle\" x=\"206\" y=\"-7.8\" font-family=\"Helvetica,sans-Serif\" font-size=\"14.00\">value = [0.63, 0.37]</text>\n</g>\n<!-- 1&#45;&gt;3 -->\n<g id=\"edge3\" class=\"edge\">\n<title>1&#45;&gt;3</title>\n<path fill=\"none\" stroke=\"black\" d=\"M201.93,-73.91C202.55,-65.74 203.23,-56.65 203.86,-48.3\"/>\n<polygon fill=\"black\" stroke=\"black\" points=\"207.36,-48.47 204.62,-38.24 200.38,-47.95 207.36,-48.47\"/>\n</g>\n<!-- 5 -->\n<g id=\"node6\" class=\"node\">\n<title>5</title>\n<polygon fill=\"#399de5\" stroke=\"black\" points=\"418.5,-38 301.5,-38 301.5,0 418.5,0 418.5,-38\"/>\n<text text-anchor=\"middle\" x=\"360\" y=\"-22.8\" font-family=\"Helvetica,sans-Serif\" font-size=\"14.00\">samples = 2.9%</text>\n<text text-anchor=\"middle\" x=\"360\" y=\"-7.8\" font-family=\"Helvetica,sans-Serif\" font-size=\"14.00\">value = [0.0, 1.0]</text>\n</g>\n<!-- 4&#45;&gt;5 -->\n<g id=\"edge5\" class=\"edge\">\n<title>4&#45;&gt;5</title>\n<path fill=\"none\" stroke=\"black\" d=\"M363.39,-73.91C362.88,-65.74 362.3,-56.65 361.78,-48.3\"/>\n<polygon fill=\"black\" stroke=\"black\" points=\"365.27,-48 361.15,-38.24 358.28,-48.44 365.27,-48\"/>\n</g>\n<!-- 6 -->\n<g id=\"node7\" class=\"node\">\n<title>6</title>\n<polygon fill=\"#e58139\" stroke=\"black\" points=\"559,-38 437,-38 437,0 559,0 559,-38\"/>\n<text text-anchor=\"middle\" x=\"498\" y=\"-22.8\" font-family=\"Helvetica,sans-Serif\" font-size=\"14.00\">samples = 33.3%</text>\n<text text-anchor=\"middle\" x=\"498\" y=\"-7.8\" font-family=\"Helvetica,sans-Serif\" font-size=\"14.00\">value = [1.0, 0.0]</text>\n</g>\n<!-- 4&#45;&gt;6 -->\n<g id=\"edge6\" class=\"edge\">\n<title>4&#45;&gt;6</title>\n<path fill=\"none\" stroke=\"black\" d=\"M407.81,-73.91C424.22,-64.1 442.83,-52.98 458.87,-43.39\"/>\n<polygon fill=\"black\" stroke=\"black\" points=\"460.7,-46.37 467.49,-38.24 457.11,-40.37 460.7,-46.37\"/>\n</g>\n</g>\n</svg>\n",
            "text/plain": [
              "<graphviz.sources.Source at 0x7f08a9d8b340>"
            ]
          },
          "metadata": {}
        },
        {
          "output_type": "display_data",
          "data": {
            "image/svg+xml": "<?xml version=\"1.0\" encoding=\"UTF-8\" standalone=\"no\"?>\n<!DOCTYPE svg PUBLIC \"-//W3C//DTD SVG 1.1//EN\"\n \"http://www.w3.org/Graphics/SVG/1.1/DTD/svg11.dtd\">\n<!-- Generated by graphviz version 2.43.0 (0)\n -->\n<!-- Title: Tree Pages: 1 -->\n<svg width=\"606pt\" height=\"224pt\"\n viewBox=\"0.00 0.00 605.50 224.00\" xmlns=\"http://www.w3.org/2000/svg\" xmlns:xlink=\"http://www.w3.org/1999/xlink\">\n<g id=\"graph0\" class=\"graph\" transform=\"scale(1 1) rotate(0) translate(4 220)\">\n<title>Tree</title>\n<polygon fill=\"white\" stroke=\"transparent\" points=\"-4,4 -4,-220 601.5,-220 601.5,4 -4,4\"/>\n<!-- 0 -->\n<g id=\"node1\" class=\"node\">\n<title>0</title>\n<polygon fill=\"#fdf3ec\" stroke=\"black\" points=\"364,-216 217,-216 217,-163 364,-163 364,-216\"/>\n<text text-anchor=\"middle\" x=\"290.5\" y=\"-200.8\" font-family=\"Helvetica,sans-Serif\" font-size=\"14.00\">x[23] &lt;= 0.176</text>\n<text text-anchor=\"middle\" x=\"290.5\" y=\"-185.8\" font-family=\"Helvetica,sans-Serif\" font-size=\"14.00\">samples = 100.0%</text>\n<text text-anchor=\"middle\" x=\"290.5\" y=\"-170.8\" font-family=\"Helvetica,sans-Serif\" font-size=\"14.00\">value = [0.525, 0.475]</text>\n</g>\n<!-- 1 -->\n<g id=\"node2\" class=\"node\">\n<title>1</title>\n<polygon fill=\"#6ab5eb\" stroke=\"black\" points=\"282,-127 135,-127 135,-74 282,-74 282,-127\"/>\n<text text-anchor=\"middle\" x=\"208.5\" y=\"-111.8\" font-family=\"Helvetica,sans-Serif\" font-size=\"14.00\">x[45] &lt;= &#45;0.963</text>\n<text text-anchor=\"middle\" x=\"208.5\" y=\"-96.8\" font-family=\"Helvetica,sans-Serif\" font-size=\"14.00\">samples = 56.1%</text>\n<text text-anchor=\"middle\" x=\"208.5\" y=\"-81.8\" font-family=\"Helvetica,sans-Serif\" font-size=\"14.00\">value = [0.198, 0.802]</text>\n</g>\n<!-- 0&#45;&gt;1 -->\n<g id=\"edge1\" class=\"edge\">\n<title>0&#45;&gt;1</title>\n<path fill=\"none\" stroke=\"black\" d=\"M266.34,-162.87C257.99,-154.01 248.51,-143.95 239.68,-134.58\"/>\n<polygon fill=\"black\" stroke=\"black\" points=\"242.18,-132.13 232.77,-127.25 237.08,-136.93 242.18,-132.13\"/>\n<text text-anchor=\"middle\" x=\"232.03\" y=\"-148.54\" font-family=\"Helvetica,sans-Serif\" font-size=\"14.00\">True</text>\n</g>\n<!-- 4 -->\n<g id=\"node5\" class=\"node\">\n<title>4</title>\n<polygon fill=\"#e88e4e\" stroke=\"black\" points=\"447,-127 300,-127 300,-74 447,-74 447,-127\"/>\n<text text-anchor=\"middle\" x=\"373.5\" y=\"-111.8\" font-family=\"Helvetica,sans-Serif\" font-size=\"14.00\">x[9] &lt;= &#45;0.567</text>\n<text text-anchor=\"middle\" x=\"373.5\" y=\"-96.8\" font-family=\"Helvetica,sans-Serif\" font-size=\"14.00\">samples = 43.9%</text>\n<text text-anchor=\"middle\" x=\"373.5\" y=\"-81.8\" font-family=\"Helvetica,sans-Serif\" font-size=\"14.00\">value = [0.905, 0.095]</text>\n</g>\n<!-- 0&#45;&gt;4 -->\n<g id=\"edge4\" class=\"edge\">\n<title>0&#45;&gt;4</title>\n<path fill=\"none\" stroke=\"black\" d=\"M314.95,-162.87C323.41,-154.01 333,-143.95 341.94,-134.58\"/>\n<polygon fill=\"black\" stroke=\"black\" points=\"344.56,-136.9 348.93,-127.25 339.5,-132.07 344.56,-136.9\"/>\n<text text-anchor=\"middle\" x=\"349.52\" y=\"-148.54\" font-family=\"Helvetica,sans-Serif\" font-size=\"14.00\">False</text>\n</g>\n<!-- 2 -->\n<g id=\"node3\" class=\"node\">\n<title>2</title>\n<polygon fill=\"#e58139\" stroke=\"black\" points=\"117,-38 0,-38 0,0 117,0 117,-38\"/>\n<text text-anchor=\"middle\" x=\"58.5\" y=\"-22.8\" font-family=\"Helvetica,sans-Serif\" font-size=\"14.00\">samples = 4.7%</text>\n<text text-anchor=\"middle\" x=\"58.5\" y=\"-7.8\" font-family=\"Helvetica,sans-Serif\" font-size=\"14.00\">value = [1.0, 0.0]</text>\n</g>\n<!-- 1&#45;&gt;2 -->\n<g id=\"edge2\" class=\"edge\">\n<title>1&#45;&gt;2</title>\n<path fill=\"none\" stroke=\"black\" d=\"M160.21,-73.91C141.46,-63.97 120.14,-52.67 101.88,-42.99\"/>\n<polygon fill=\"black\" stroke=\"black\" points=\"103.39,-39.83 92.91,-38.24 100.11,-46.01 103.39,-39.83\"/>\n</g>\n<!-- 3 -->\n<g id=\"node4\" class=\"node\">\n<title>3</title>\n<polygon fill=\"#4da7e8\" stroke=\"black\" points=\"282,-38 135,-38 135,0 282,0 282,-38\"/>\n<text text-anchor=\"middle\" x=\"208.5\" y=\"-22.8\" font-family=\"Helvetica,sans-Serif\" font-size=\"14.00\">samples = 51.4%</text>\n<text text-anchor=\"middle\" x=\"208.5\" y=\"-7.8\" font-family=\"Helvetica,sans-Serif\" font-size=\"14.00\">value = [0.092, 0.908]</text>\n</g>\n<!-- 1&#45;&gt;3 -->\n<g id=\"edge3\" class=\"edge\">\n<title>1&#45;&gt;3</title>\n<path fill=\"none\" stroke=\"black\" d=\"M208.5,-73.91C208.5,-65.74 208.5,-56.65 208.5,-48.3\"/>\n<polygon fill=\"black\" stroke=\"black\" points=\"212,-48.24 208.5,-38.24 205,-48.24 212,-48.24\"/>\n</g>\n<!-- 5 -->\n<g id=\"node6\" class=\"node\">\n<title>5</title>\n<polygon fill=\"#b0d8f5\" stroke=\"black\" points=\"447,-38 300,-38 300,0 447,0 447,-38\"/>\n<text text-anchor=\"middle\" x=\"373.5\" y=\"-22.8\" font-family=\"Helvetica,sans-Serif\" font-size=\"14.00\">samples = 4.7%</text>\n<text text-anchor=\"middle\" x=\"373.5\" y=\"-7.8\" font-family=\"Helvetica,sans-Serif\" font-size=\"14.00\">value = [0.375, 0.625]</text>\n</g>\n<!-- 4&#45;&gt;5 -->\n<g id=\"edge5\" class=\"edge\">\n<title>4&#45;&gt;5</title>\n<path fill=\"none\" stroke=\"black\" d=\"M373.5,-73.91C373.5,-65.74 373.5,-56.65 373.5,-48.3\"/>\n<polygon fill=\"black\" stroke=\"black\" points=\"377,-48.24 373.5,-38.24 370,-48.24 377,-48.24\"/>\n</g>\n<!-- 6 -->\n<g id=\"node7\" class=\"node\">\n<title>6</title>\n<polygon fill=\"#e6853f\" stroke=\"black\" points=\"597.5,-38 465.5,-38 465.5,0 597.5,0 597.5,-38\"/>\n<text text-anchor=\"middle\" x=\"531.5\" y=\"-22.8\" font-family=\"Helvetica,sans-Serif\" font-size=\"14.00\">samples = 39.3%</text>\n<text text-anchor=\"middle\" x=\"531.5\" y=\"-7.8\" font-family=\"Helvetica,sans-Serif\" font-size=\"14.00\">value = [0.97, 0.03]</text>\n</g>\n<!-- 4&#45;&gt;6 -->\n<g id=\"edge6\" class=\"edge\">\n<title>4&#45;&gt;6</title>\n<path fill=\"none\" stroke=\"black\" d=\"M424.36,-73.91C444.21,-63.92 466.78,-52.56 486.07,-42.86\"/>\n<polygon fill=\"black\" stroke=\"black\" points=\"487.89,-45.86 495.25,-38.24 484.75,-39.61 487.89,-45.86\"/>\n</g>\n</g>\n</svg>\n",
            "text/plain": [
              "<graphviz.sources.Source at 0x7f08a5c25d20>"
            ]
          },
          "metadata": {}
        },
        {
          "output_type": "display_data",
          "data": {
            "image/svg+xml": "<?xml version=\"1.0\" encoding=\"UTF-8\" standalone=\"no\"?>\n<!DOCTYPE svg PUBLIC \"-//W3C//DTD SVG 1.1//EN\"\n \"http://www.w3.org/Graphics/SVG/1.1/DTD/svg11.dtd\">\n<!-- Generated by graphviz version 2.43.0 (0)\n -->\n<!-- Title: Tree Pages: 1 -->\n<svg width=\"613pt\" height=\"224pt\"\n viewBox=\"0.00 0.00 612.50 224.00\" xmlns=\"http://www.w3.org/2000/svg\" xmlns:xlink=\"http://www.w3.org/1999/xlink\">\n<g id=\"graph0\" class=\"graph\" transform=\"scale(1 1) rotate(0) translate(4 220)\">\n<title>Tree</title>\n<polygon fill=\"white\" stroke=\"transparent\" points=\"-4,4 -4,-220 608.5,-220 608.5,4 -4,4\"/>\n<!-- 0 -->\n<g id=\"node1\" class=\"node\">\n<title>0</title>\n<polygon fill=\"#fae8db\" stroke=\"black\" points=\"368,-216 236,-216 236,-163 368,-163 368,-216\"/>\n<text text-anchor=\"middle\" x=\"302\" y=\"-200.8\" font-family=\"Helvetica,sans-Serif\" font-size=\"14.00\">x[17] &lt;= 0.126</text>\n<text text-anchor=\"middle\" x=\"302\" y=\"-185.8\" font-family=\"Helvetica,sans-Serif\" font-size=\"14.00\">samples = 100.0%</text>\n<text text-anchor=\"middle\" x=\"302\" y=\"-170.8\" font-family=\"Helvetica,sans-Serif\" font-size=\"14.00\">value = [0.55, 0.45]</text>\n</g>\n<!-- 1 -->\n<g id=\"node2\" class=\"node\">\n<title>1</title>\n<polygon fill=\"#78bced\" stroke=\"black\" points=\"293.5,-127 146.5,-127 146.5,-74 293.5,-74 293.5,-127\"/>\n<text text-anchor=\"middle\" x=\"220\" y=\"-111.8\" font-family=\"Helvetica,sans-Serif\" font-size=\"14.00\">x[3] &lt;= &#45;0.088</text>\n<text text-anchor=\"middle\" x=\"220\" y=\"-96.8\" font-family=\"Helvetica,sans-Serif\" font-size=\"14.00\">samples = 55.2%</text>\n<text text-anchor=\"middle\" x=\"220\" y=\"-81.8\" font-family=\"Helvetica,sans-Serif\" font-size=\"14.00\">value = [0.241, 0.759]</text>\n</g>\n<!-- 0&#45;&gt;1 -->\n<g id=\"edge1\" class=\"edge\">\n<title>0&#45;&gt;1</title>\n<path fill=\"none\" stroke=\"black\" d=\"M277.84,-162.87C269.49,-154.01 260.01,-143.95 251.18,-134.58\"/>\n<polygon fill=\"black\" stroke=\"black\" points=\"253.68,-132.13 244.27,-127.25 248.58,-136.93 253.68,-132.13\"/>\n<text text-anchor=\"middle\" x=\"243.53\" y=\"-148.54\" font-family=\"Helvetica,sans-Serif\" font-size=\"14.00\">True</text>\n</g>\n<!-- 4 -->\n<g id=\"node5\" class=\"node\">\n<title>4</title>\n<polygon fill=\"#e78c4b\" stroke=\"black\" points=\"458.5,-127 311.5,-127 311.5,-74 458.5,-74 458.5,-127\"/>\n<text text-anchor=\"middle\" x=\"385\" y=\"-111.8\" font-family=\"Helvetica,sans-Serif\" font-size=\"14.00\">x[48] &lt;= &#45;1.033</text>\n<text text-anchor=\"middle\" x=\"385\" y=\"-96.8\" font-family=\"Helvetica,sans-Serif\" font-size=\"14.00\">samples = 44.8%</text>\n<text text-anchor=\"middle\" x=\"385\" y=\"-81.8\" font-family=\"Helvetica,sans-Serif\" font-size=\"14.00\">value = [0.918, 0.082]</text>\n</g>\n<!-- 0&#45;&gt;4 -->\n<g id=\"edge4\" class=\"edge\">\n<title>0&#45;&gt;4</title>\n<path fill=\"none\" stroke=\"black\" d=\"M326.45,-162.87C334.91,-154.01 344.5,-143.95 353.44,-134.58\"/>\n<polygon fill=\"black\" stroke=\"black\" points=\"356.06,-136.9 360.43,-127.25 351,-132.07 356.06,-136.9\"/>\n<text text-anchor=\"middle\" x=\"361.02\" y=\"-148.54\" font-family=\"Helvetica,sans-Serif\" font-size=\"14.00\">False</text>\n</g>\n<!-- 2 -->\n<g id=\"node3\" class=\"node\">\n<title>2</title>\n<polygon fill=\"#3fa0e6\" stroke=\"black\" points=\"132,-38 0,-38 0,0 132,0 132,-38\"/>\n<text text-anchor=\"middle\" x=\"66\" y=\"-22.8\" font-family=\"Helvetica,sans-Serif\" font-size=\"14.00\">samples = 42.9%</text>\n<text text-anchor=\"middle\" x=\"66\" y=\"-7.8\" font-family=\"Helvetica,sans-Serif\" font-size=\"14.00\">value = [0.03, 0.97]</text>\n</g>\n<!-- 1&#45;&gt;2 -->\n<g id=\"edge2\" class=\"edge\">\n<title>1&#45;&gt;2</title>\n<path fill=\"none\" stroke=\"black\" d=\"M170.43,-73.91C151.08,-63.92 129.08,-52.56 110.28,-42.86\"/>\n<polygon fill=\"black\" stroke=\"black\" points=\"111.82,-39.72 101.33,-38.24 108.61,-45.94 111.82,-39.72\"/>\n</g>\n<!-- 3 -->\n<g id=\"node4\" class=\"node\">\n<title>3</title>\n<polygon fill=\"#e88e4e\" stroke=\"black\" points=\"297.5,-38 150.5,-38 150.5,0 297.5,0 297.5,-38\"/>\n<text text-anchor=\"middle\" x=\"224\" y=\"-22.8\" font-family=\"Helvetica,sans-Serif\" font-size=\"14.00\">samples = 12.4%</text>\n<text text-anchor=\"middle\" x=\"224\" y=\"-7.8\" font-family=\"Helvetica,sans-Serif\" font-size=\"14.00\">value = [0.905, 0.095]</text>\n</g>\n<!-- 1&#45;&gt;3 -->\n<g id=\"edge3\" class=\"edge\">\n<title>1&#45;&gt;3</title>\n<path fill=\"none\" stroke=\"black\" d=\"M221.29,-73.91C221.7,-65.74 222.16,-56.65 222.58,-48.3\"/>\n<polygon fill=\"black\" stroke=\"black\" points=\"226.08,-48.4 223.08,-38.24 219.08,-48.05 226.08,-48.4\"/>\n</g>\n<!-- 5 -->\n<g id=\"node6\" class=\"node\">\n<title>5</title>\n<polygon fill=\"#6ab6ec\" stroke=\"black\" points=\"439.5,-38 322.5,-38 322.5,0 439.5,0 439.5,-38\"/>\n<text text-anchor=\"middle\" x=\"381\" y=\"-22.8\" font-family=\"Helvetica,sans-Serif\" font-size=\"14.00\">samples = 2.9%</text>\n<text text-anchor=\"middle\" x=\"381\" y=\"-7.8\" font-family=\"Helvetica,sans-Serif\" font-size=\"14.00\">value = [0.2, 0.8]</text>\n</g>\n<!-- 4&#45;&gt;5 -->\n<g id=\"edge5\" class=\"edge\">\n<title>4&#45;&gt;5</title>\n<path fill=\"none\" stroke=\"black\" d=\"M383.71,-73.91C383.3,-65.74 382.84,-56.65 382.42,-48.3\"/>\n<polygon fill=\"black\" stroke=\"black\" points=\"385.92,-48.05 381.92,-38.24 378.92,-48.4 385.92,-48.05\"/>\n</g>\n<!-- 6 -->\n<g id=\"node7\" class=\"node\">\n<title>6</title>\n<polygon fill=\"#e6853f\" stroke=\"black\" points=\"604.5,-38 457.5,-38 457.5,0 604.5,0 604.5,-38\"/>\n<text text-anchor=\"middle\" x=\"531\" y=\"-22.8\" font-family=\"Helvetica,sans-Serif\" font-size=\"14.00\">samples = 41.9%</text>\n<text text-anchor=\"middle\" x=\"531\" y=\"-7.8\" font-family=\"Helvetica,sans-Serif\" font-size=\"14.00\">value = [0.971, 0.029]</text>\n</g>\n<!-- 4&#45;&gt;6 -->\n<g id=\"edge6\" class=\"edge\">\n<title>4&#45;&gt;6</title>\n<path fill=\"none\" stroke=\"black\" d=\"M432,-73.91C450.17,-64.01 470.82,-52.77 488.53,-43.12\"/>\n<polygon fill=\"black\" stroke=\"black\" points=\"490.4,-46.09 497.5,-38.24 487.05,-39.95 490.4,-46.09\"/>\n</g>\n</g>\n</svg>\n",
            "text/plain": [
              "<graphviz.sources.Source at 0x7f08a9d8b340>"
            ]
          },
          "metadata": {}
        },
        {
          "output_type": "display_data",
          "data": {
            "image/svg+xml": "<?xml version=\"1.0\" encoding=\"UTF-8\" standalone=\"no\"?>\n<!DOCTYPE svg PUBLIC \"-//W3C//DTD SVG 1.1//EN\"\n \"http://www.w3.org/Graphics/SVG/1.1/DTD/svg11.dtd\">\n<!-- Generated by graphviz version 2.43.0 (0)\n -->\n<!-- Title: Tree Pages: 1 -->\n<svg width=\"378pt\" height=\"224pt\"\n viewBox=\"0.00 0.00 377.50 224.00\" xmlns=\"http://www.w3.org/2000/svg\" xmlns:xlink=\"http://www.w3.org/1999/xlink\">\n<g id=\"graph0\" class=\"graph\" transform=\"scale(1 1) rotate(0) translate(4 220)\">\n<title>Tree</title>\n<polygon fill=\"white\" stroke=\"transparent\" points=\"-4,4 -4,-220 373.5,-220 373.5,4 -4,4\"/>\n<!-- 0 -->\n<g id=\"node1\" class=\"node\">\n<title>0</title>\n<polygon fill=\"#fae8db\" stroke=\"black\" points=\"203,-216 71,-216 71,-163 203,-163 203,-216\"/>\n<text text-anchor=\"middle\" x=\"137\" y=\"-200.8\" font-family=\"Helvetica,sans-Serif\" font-size=\"14.00\">x[2] &lt;= &#45;0.614</text>\n<text text-anchor=\"middle\" x=\"137\" y=\"-185.8\" font-family=\"Helvetica,sans-Serif\" font-size=\"14.00\">samples = 100.0%</text>\n<text text-anchor=\"middle\" x=\"137\" y=\"-170.8\" font-family=\"Helvetica,sans-Serif\" font-size=\"14.00\">value = [0.55, 0.45]</text>\n</g>\n<!-- 1 -->\n<g id=\"node2\" class=\"node\">\n<title>1</title>\n<polygon fill=\"#399de5\" stroke=\"black\" points=\"122,-119.5 0,-119.5 0,-81.5 122,-81.5 122,-119.5\"/>\n<text text-anchor=\"middle\" x=\"61\" y=\"-104.3\" font-family=\"Helvetica,sans-Serif\" font-size=\"14.00\">samples = 36.6%</text>\n<text text-anchor=\"middle\" x=\"61\" y=\"-89.3\" font-family=\"Helvetica,sans-Serif\" font-size=\"14.00\">value = [0.0, 1.0]</text>\n</g>\n<!-- 0&#45;&gt;1 -->\n<g id=\"edge1\" class=\"edge\">\n<title>0&#45;&gt;1</title>\n<path fill=\"none\" stroke=\"black\" d=\"M114.61,-162.87C104.81,-151.66 93.34,-138.53 83.53,-127.29\"/>\n<polygon fill=\"black\" stroke=\"black\" points=\"85.94,-124.74 76.73,-119.51 80.67,-129.34 85.94,-124.74\"/>\n<text text-anchor=\"middle\" x=\"75.05\" y=\"-140.75\" font-family=\"Helvetica,sans-Serif\" font-size=\"14.00\">True</text>\n</g>\n<!-- 2 -->\n<g id=\"node3\" class=\"node\">\n<title>2</title>\n<polygon fill=\"#e88f50\" stroke=\"black\" points=\"287.5,-127 140.5,-127 140.5,-74 287.5,-74 287.5,-127\"/>\n<text text-anchor=\"middle\" x=\"214\" y=\"-111.8\" font-family=\"Helvetica,sans-Serif\" font-size=\"14.00\">x[15] &lt;= &#45;0.496</text>\n<text text-anchor=\"middle\" x=\"214\" y=\"-96.8\" font-family=\"Helvetica,sans-Serif\" font-size=\"14.00\">samples = 63.4%</text>\n<text text-anchor=\"middle\" x=\"214\" y=\"-81.8\" font-family=\"Helvetica,sans-Serif\" font-size=\"14.00\">value = [0.898, 0.102]</text>\n</g>\n<!-- 0&#45;&gt;2 -->\n<g id=\"edge2\" class=\"edge\">\n<title>0&#45;&gt;2</title>\n<path fill=\"none\" stroke=\"black\" d=\"M159.69,-162.87C167.45,-154.1 176.25,-144.15 184.47,-134.86\"/>\n<polygon fill=\"black\" stroke=\"black\" points=\"187.2,-137.06 191.21,-127.25 181.96,-132.42 187.2,-137.06\"/>\n<text text-anchor=\"middle\" x=\"192.73\" y=\"-148.5\" font-family=\"Helvetica,sans-Serif\" font-size=\"14.00\">False</text>\n</g>\n<!-- 3 -->\n<g id=\"node4\" class=\"node\">\n<title>3</title>\n<polygon fill=\"#b5daf5\" stroke=\"black\" points=\"204.5,-38 57.5,-38 57.5,0 204.5,0 204.5,-38\"/>\n<text text-anchor=\"middle\" x=\"131\" y=\"-22.8\" font-family=\"Helvetica,sans-Serif\" font-size=\"14.00\">samples = 8.9%</text>\n<text text-anchor=\"middle\" x=\"131\" y=\"-7.8\" font-family=\"Helvetica,sans-Serif\" font-size=\"14.00\">value = [0.385, 0.615]</text>\n</g>\n<!-- 2&#45;&gt;3 -->\n<g id=\"edge3\" class=\"edge\">\n<title>2&#45;&gt;3</title>\n<path fill=\"none\" stroke=\"black\" d=\"M187.28,-73.91C177.71,-64.74 166.93,-54.41 157.38,-45.27\"/>\n<polygon fill=\"black\" stroke=\"black\" points=\"159.68,-42.63 150.04,-38.24 154.84,-47.68 159.68,-42.63\"/>\n</g>\n<!-- 4 -->\n<g id=\"node5\" class=\"node\">\n<title>4</title>\n<polygon fill=\"#e6843e\" stroke=\"black\" points=\"369.5,-38 222.5,-38 222.5,0 369.5,0 369.5,-38\"/>\n<text text-anchor=\"middle\" x=\"296\" y=\"-22.8\" font-family=\"Helvetica,sans-Serif\" font-size=\"14.00\">samples = 54.5%</text>\n<text text-anchor=\"middle\" x=\"296\" y=\"-7.8\" font-family=\"Helvetica,sans-Serif\" font-size=\"14.00\">value = [0.976, 0.024]</text>\n</g>\n<!-- 2&#45;&gt;4 -->\n<g id=\"edge4\" class=\"edge\">\n<title>2&#45;&gt;4</title>\n<path fill=\"none\" stroke=\"black\" d=\"M240.4,-73.91C249.85,-64.74 260.5,-54.41 269.93,-45.27\"/>\n<polygon fill=\"black\" stroke=\"black\" points=\"272.44,-47.71 277.19,-38.24 267.57,-42.69 272.44,-47.71\"/>\n</g>\n</g>\n</svg>\n",
            "text/plain": [
              "<graphviz.sources.Source at 0x7f08a5c25d20>"
            ]
          },
          "metadata": {}
        },
        {
          "output_type": "display_data",
          "data": {
            "image/svg+xml": "<?xml version=\"1.0\" encoding=\"UTF-8\" standalone=\"no\"?>\n<!DOCTYPE svg PUBLIC \"-//W3C//DTD SVG 1.1//EN\"\n \"http://www.w3.org/Graphics/SVG/1.1/DTD/svg11.dtd\">\n<!-- Generated by graphviz version 2.43.0 (0)\n -->\n<!-- Title: Tree Pages: 1 -->\n<svg width=\"559pt\" height=\"224pt\"\n viewBox=\"0.00 0.00 559.00 224.00\" xmlns=\"http://www.w3.org/2000/svg\" xmlns:xlink=\"http://www.w3.org/1999/xlink\">\n<g id=\"graph0\" class=\"graph\" transform=\"scale(1 1) rotate(0) translate(4 220)\">\n<title>Tree</title>\n<polygon fill=\"white\" stroke=\"transparent\" points=\"-4,4 -4,-220 555,-220 555,4 -4,4\"/>\n<!-- 0 -->\n<g id=\"node1\" class=\"node\">\n<title>0</title>\n<polygon fill=\"#f9e1cf\" stroke=\"black\" points=\"349.5,-216 202.5,-216 202.5,-163 349.5,-163 349.5,-216\"/>\n<text text-anchor=\"middle\" x=\"276\" y=\"-200.8\" font-family=\"Helvetica,sans-Serif\" font-size=\"14.00\">x[26] &lt;= 0.093</text>\n<text text-anchor=\"middle\" x=\"276\" y=\"-185.8\" font-family=\"Helvetica,sans-Serif\" font-size=\"14.00\">samples = 100.0%</text>\n<text text-anchor=\"middle\" x=\"276\" y=\"-170.8\" font-family=\"Helvetica,sans-Serif\" font-size=\"14.00\">value = [0.569, 0.431]</text>\n</g>\n<!-- 1 -->\n<g id=\"node2\" class=\"node\">\n<title>1</title>\n<polygon fill=\"#abd6f4\" stroke=\"black\" points=\"267.5,-127 120.5,-127 120.5,-74 267.5,-74 267.5,-127\"/>\n<text text-anchor=\"middle\" x=\"194\" y=\"-111.8\" font-family=\"Helvetica,sans-Serif\" font-size=\"14.00\">x[15] &lt;= &#45;0.261</text>\n<text text-anchor=\"middle\" x=\"194\" y=\"-96.8\" font-family=\"Helvetica,sans-Serif\" font-size=\"14.00\">samples = 63.4%</text>\n<text text-anchor=\"middle\" x=\"194\" y=\"-81.8\" font-family=\"Helvetica,sans-Serif\" font-size=\"14.00\">value = [0.366, 0.634]</text>\n</g>\n<!-- 0&#45;&gt;1 -->\n<g id=\"edge1\" class=\"edge\">\n<title>0&#45;&gt;1</title>\n<path fill=\"none\" stroke=\"black\" d=\"M251.84,-162.87C243.49,-154.01 234.01,-143.95 225.18,-134.58\"/>\n<polygon fill=\"black\" stroke=\"black\" points=\"227.68,-132.13 218.27,-127.25 222.58,-136.93 227.68,-132.13\"/>\n<text text-anchor=\"middle\" x=\"217.53\" y=\"-148.54\" font-family=\"Helvetica,sans-Serif\" font-size=\"14.00\">True</text>\n</g>\n<!-- 4 -->\n<g id=\"node5\" class=\"node\">\n<title>4</title>\n<polygon fill=\"#e78d4b\" stroke=\"black\" points=\"432.5,-127 285.5,-127 285.5,-74 432.5,-74 432.5,-127\"/>\n<text text-anchor=\"middle\" x=\"359\" y=\"-111.8\" font-family=\"Helvetica,sans-Serif\" font-size=\"14.00\">x[13] &lt;= &#45;0.62</text>\n<text text-anchor=\"middle\" x=\"359\" y=\"-96.8\" font-family=\"Helvetica,sans-Serif\" font-size=\"14.00\">samples = 36.6%</text>\n<text text-anchor=\"middle\" x=\"359\" y=\"-81.8\" font-family=\"Helvetica,sans-Serif\" font-size=\"14.00\">value = [0.915, 0.085]</text>\n</g>\n<!-- 0&#45;&gt;4 -->\n<g id=\"edge4\" class=\"edge\">\n<title>0&#45;&gt;4</title>\n<path fill=\"none\" stroke=\"black\" d=\"M300.45,-162.87C308.91,-154.01 318.5,-143.95 327.44,-134.58\"/>\n<polygon fill=\"black\" stroke=\"black\" points=\"330.06,-136.9 334.43,-127.25 325,-132.07 330.06,-136.9\"/>\n<text text-anchor=\"middle\" x=\"335.02\" y=\"-148.54\" font-family=\"Helvetica,sans-Serif\" font-size=\"14.00\">False</text>\n</g>\n<!-- 2 -->\n<g id=\"node3\" class=\"node\">\n<title>2</title>\n<polygon fill=\"#399de5\" stroke=\"black\" points=\"122,-38 0,-38 0,0 122,0 122,-38\"/>\n<text text-anchor=\"middle\" x=\"61\" y=\"-22.8\" font-family=\"Helvetica,sans-Serif\" font-size=\"14.00\">samples = 40.6%</text>\n<text text-anchor=\"middle\" x=\"61\" y=\"-7.8\" font-family=\"Helvetica,sans-Serif\" font-size=\"14.00\">value = [0.0, 1.0]</text>\n</g>\n<!-- 1&#45;&gt;2 -->\n<g id=\"edge2\" class=\"edge\">\n<title>1&#45;&gt;2</title>\n<path fill=\"none\" stroke=\"black\" d=\"M151.19,-73.91C134.78,-64.1 116.17,-52.98 100.13,-43.39\"/>\n<polygon fill=\"black\" stroke=\"black\" points=\"101.89,-40.37 91.51,-38.24 98.3,-46.37 101.89,-40.37\"/>\n</g>\n<!-- 3 -->\n<g id=\"node4\" class=\"node\">\n<title>3</title>\n<polygon fill=\"#e58139\" stroke=\"black\" points=\"262,-38 140,-38 140,0 262,0 262,-38\"/>\n<text text-anchor=\"middle\" x=\"201\" y=\"-22.8\" font-family=\"Helvetica,sans-Serif\" font-size=\"14.00\">samples = 22.8%</text>\n<text text-anchor=\"middle\" x=\"201\" y=\"-7.8\" font-family=\"Helvetica,sans-Serif\" font-size=\"14.00\">value = [1.0, 0.0]</text>\n</g>\n<!-- 1&#45;&gt;3 -->\n<g id=\"edge3\" class=\"edge\">\n<title>1&#45;&gt;3</title>\n<path fill=\"none\" stroke=\"black\" d=\"M196.25,-73.91C196.97,-65.74 197.77,-56.65 198.51,-48.3\"/>\n<polygon fill=\"black\" stroke=\"black\" points=\"202,-48.51 199.39,-38.24 195.03,-47.89 202,-48.51\"/>\n</g>\n<!-- 5 -->\n<g id=\"node6\" class=\"node\">\n<title>5</title>\n<polygon fill=\"#399de5\" stroke=\"black\" points=\"410.5,-38 293.5,-38 293.5,0 410.5,0 410.5,-38\"/>\n<text text-anchor=\"middle\" x=\"352\" y=\"-22.8\" font-family=\"Helvetica,sans-Serif\" font-size=\"14.00\">samples = 3.0%</text>\n<text text-anchor=\"middle\" x=\"352\" y=\"-7.8\" font-family=\"Helvetica,sans-Serif\" font-size=\"14.00\">value = [0.0, 1.0]</text>\n</g>\n<!-- 4&#45;&gt;5 -->\n<g id=\"edge5\" class=\"edge\">\n<title>4&#45;&gt;5</title>\n<path fill=\"none\" stroke=\"black\" d=\"M356.75,-73.91C356.03,-65.74 355.23,-56.65 354.49,-48.3\"/>\n<polygon fill=\"black\" stroke=\"black\" points=\"357.97,-47.89 353.61,-38.24 351,-48.51 357.97,-47.89\"/>\n</g>\n<!-- 6 -->\n<g id=\"node7\" class=\"node\">\n<title>6</title>\n<polygon fill=\"#e58139\" stroke=\"black\" points=\"551,-38 429,-38 429,0 551,0 551,-38\"/>\n<text text-anchor=\"middle\" x=\"490\" y=\"-22.8\" font-family=\"Helvetica,sans-Serif\" font-size=\"14.00\">samples = 33.7%</text>\n<text text-anchor=\"middle\" x=\"490\" y=\"-7.8\" font-family=\"Helvetica,sans-Serif\" font-size=\"14.00\">value = [1.0, 0.0]</text>\n</g>\n<!-- 4&#45;&gt;6 -->\n<g id=\"edge6\" class=\"edge\">\n<title>4&#45;&gt;6</title>\n<path fill=\"none\" stroke=\"black\" d=\"M401.17,-73.91C417.18,-64.19 435.32,-53.18 451.02,-43.66\"/>\n<polygon fill=\"black\" stroke=\"black\" points=\"453.21,-46.42 459.95,-38.24 449.58,-40.43 453.21,-46.42\"/>\n</g>\n</g>\n</svg>\n",
            "text/plain": [
              "<graphviz.sources.Source at 0x7f08a9d8b340>"
            ]
          },
          "metadata": {}
        },
        {
          "output_type": "display_data",
          "data": {
            "image/svg+xml": "<?xml version=\"1.0\" encoding=\"UTF-8\" standalone=\"no\"?>\n<!DOCTYPE svg PUBLIC \"-//W3C//DTD SVG 1.1//EN\"\n \"http://www.w3.org/Graphics/SVG/1.1/DTD/svg11.dtd\">\n<!-- Generated by graphviz version 2.43.0 (0)\n -->\n<!-- Title: Tree Pages: 1 -->\n<svg width=\"603pt\" height=\"224pt\"\n viewBox=\"0.00 0.00 602.50 224.00\" xmlns=\"http://www.w3.org/2000/svg\" xmlns:xlink=\"http://www.w3.org/1999/xlink\">\n<g id=\"graph0\" class=\"graph\" transform=\"scale(1 1) rotate(0) translate(4 220)\">\n<title>Tree</title>\n<polygon fill=\"white\" stroke=\"transparent\" points=\"-4,4 -4,-220 598.5,-220 598.5,4 -4,4\"/>\n<!-- 0 -->\n<g id=\"node1\" class=\"node\">\n<title>0</title>\n<polygon fill=\"#fdf6f1\" stroke=\"black\" points=\"365.5,-216 218.5,-216 218.5,-163 365.5,-163 365.5,-216\"/>\n<text text-anchor=\"middle\" x=\"292\" y=\"-200.8\" font-family=\"Helvetica,sans-Serif\" font-size=\"14.00\">x[13] &lt;= &#45;0.511</text>\n<text text-anchor=\"middle\" x=\"292\" y=\"-185.8\" font-family=\"Helvetica,sans-Serif\" font-size=\"14.00\">samples = 100.0%</text>\n<text text-anchor=\"middle\" x=\"292\" y=\"-170.8\" font-family=\"Helvetica,sans-Serif\" font-size=\"14.00\">value = [0.519, 0.481]</text>\n</g>\n<!-- 1 -->\n<g id=\"node2\" class=\"node\">\n<title>1</title>\n<polygon fill=\"#3c9ee5\" stroke=\"black\" points=\"283.5,-127 136.5,-127 136.5,-74 283.5,-74 283.5,-127\"/>\n<text text-anchor=\"middle\" x=\"210\" y=\"-111.8\" font-family=\"Helvetica,sans-Serif\" font-size=\"14.00\">x[21] &lt;= 1.205</text>\n<text text-anchor=\"middle\" x=\"210\" y=\"-96.8\" font-family=\"Helvetica,sans-Serif\" font-size=\"14.00\">samples = 45.0%</text>\n<text text-anchor=\"middle\" x=\"210\" y=\"-81.8\" font-family=\"Helvetica,sans-Serif\" font-size=\"14.00\">value = [0.014, 0.986]</text>\n</g>\n<!-- 0&#45;&gt;1 -->\n<g id=\"edge1\" class=\"edge\">\n<title>0&#45;&gt;1</title>\n<path fill=\"none\" stroke=\"black\" d=\"M267.84,-162.87C259.49,-154.01 250.01,-143.95 241.18,-134.58\"/>\n<polygon fill=\"black\" stroke=\"black\" points=\"243.68,-132.13 234.27,-127.25 238.58,-136.93 243.68,-132.13\"/>\n<text text-anchor=\"middle\" x=\"233.53\" y=\"-148.54\" font-family=\"Helvetica,sans-Serif\" font-size=\"14.00\">True</text>\n</g>\n<!-- 4 -->\n<g id=\"node5\" class=\"node\">\n<title>4</title>\n<polygon fill=\"#e78a47\" stroke=\"black\" points=\"448.5,-127 301.5,-127 301.5,-74 448.5,-74 448.5,-127\"/>\n<text text-anchor=\"middle\" x=\"375\" y=\"-111.8\" font-family=\"Helvetica,sans-Serif\" font-size=\"14.00\">x[31] &lt;= &#45;0.926</text>\n<text text-anchor=\"middle\" x=\"375\" y=\"-96.8\" font-family=\"Helvetica,sans-Serif\" font-size=\"14.00\">samples = 55.0%</text>\n<text text-anchor=\"middle\" x=\"375\" y=\"-81.8\" font-family=\"Helvetica,sans-Serif\" font-size=\"14.00\">value = [0.932, 0.068]</text>\n</g>\n<!-- 0&#45;&gt;4 -->\n<g id=\"edge4\" class=\"edge\">\n<title>0&#45;&gt;4</title>\n<path fill=\"none\" stroke=\"black\" d=\"M316.45,-162.87C324.91,-154.01 334.5,-143.95 343.44,-134.58\"/>\n<polygon fill=\"black\" stroke=\"black\" points=\"346.06,-136.9 350.43,-127.25 341,-132.07 346.06,-136.9\"/>\n<text text-anchor=\"middle\" x=\"351.02\" y=\"-148.54\" font-family=\"Helvetica,sans-Serif\" font-size=\"14.00\">False</text>\n</g>\n<!-- 2 -->\n<g id=\"node3\" class=\"node\">\n<title>2</title>\n<polygon fill=\"#399de5\" stroke=\"black\" points=\"122,-38 0,-38 0,0 122,0 122,-38\"/>\n<text text-anchor=\"middle\" x=\"61\" y=\"-22.8\" font-family=\"Helvetica,sans-Serif\" font-size=\"14.00\">samples = 40.0%</text>\n<text text-anchor=\"middle\" x=\"61\" y=\"-7.8\" font-family=\"Helvetica,sans-Serif\" font-size=\"14.00\">value = [0.0, 1.0]</text>\n</g>\n<!-- 1&#45;&gt;2 -->\n<g id=\"edge2\" class=\"edge\">\n<title>1&#45;&gt;2</title>\n<path fill=\"none\" stroke=\"black\" d=\"M162.04,-73.91C143.49,-64.01 122.42,-52.77 104.34,-43.12\"/>\n<polygon fill=\"black\" stroke=\"black\" points=\"105.65,-39.86 95.18,-38.24 102.36,-46.03 105.65,-39.86\"/>\n</g>\n<!-- 3 -->\n<g id=\"node4\" class=\"node\">\n<title>3</title>\n<polygon fill=\"#5aade9\" stroke=\"black\" points=\"287.5,-38 140.5,-38 140.5,0 287.5,0 287.5,-38\"/>\n<text text-anchor=\"middle\" x=\"214\" y=\"-22.8\" font-family=\"Helvetica,sans-Serif\" font-size=\"14.00\">samples = 5.0%</text>\n<text text-anchor=\"middle\" x=\"214\" y=\"-7.8\" font-family=\"Helvetica,sans-Serif\" font-size=\"14.00\">value = [0.143, 0.857]</text>\n</g>\n<!-- 1&#45;&gt;3 -->\n<g id=\"edge3\" class=\"edge\">\n<title>1&#45;&gt;3</title>\n<path fill=\"none\" stroke=\"black\" d=\"M211.29,-73.91C211.7,-65.74 212.16,-56.65 212.58,-48.3\"/>\n<polygon fill=\"black\" stroke=\"black\" points=\"216.08,-48.4 213.08,-38.24 209.08,-48.05 216.08,-48.4\"/>\n</g>\n<!-- 5 -->\n<g id=\"node6\" class=\"node\">\n<title>5</title>\n<polygon fill=\"#399de5\" stroke=\"black\" points=\"429.5,-38 312.5,-38 312.5,0 429.5,0 429.5,-38\"/>\n<text text-anchor=\"middle\" x=\"371\" y=\"-22.8\" font-family=\"Helvetica,sans-Serif\" font-size=\"14.00\">samples = 2.0%</text>\n<text text-anchor=\"middle\" x=\"371\" y=\"-7.8\" font-family=\"Helvetica,sans-Serif\" font-size=\"14.00\">value = [0.0, 1.0]</text>\n</g>\n<!-- 4&#45;&gt;5 -->\n<g id=\"edge5\" class=\"edge\">\n<title>4&#45;&gt;5</title>\n<path fill=\"none\" stroke=\"black\" d=\"M373.71,-73.91C373.3,-65.74 372.84,-56.65 372.42,-48.3\"/>\n<polygon fill=\"black\" stroke=\"black\" points=\"375.92,-48.05 371.92,-38.24 368.92,-48.4 375.92,-48.05\"/>\n</g>\n<!-- 6 -->\n<g id=\"node7\" class=\"node\">\n<title>6</title>\n<polygon fill=\"#e68743\" stroke=\"black\" points=\"594.5,-38 447.5,-38 447.5,0 594.5,0 594.5,-38\"/>\n<text text-anchor=\"middle\" x=\"521\" y=\"-22.8\" font-family=\"Helvetica,sans-Serif\" font-size=\"14.00\">samples = 53.0%</text>\n<text text-anchor=\"middle\" x=\"521\" y=\"-7.8\" font-family=\"Helvetica,sans-Serif\" font-size=\"14.00\">value = [0.953, 0.047]</text>\n</g>\n<!-- 4&#45;&gt;6 -->\n<g id=\"edge6\" class=\"edge\">\n<title>4&#45;&gt;6</title>\n<path fill=\"none\" stroke=\"black\" d=\"M422,-73.91C440.17,-64.01 460.82,-52.77 478.53,-43.12\"/>\n<polygon fill=\"black\" stroke=\"black\" points=\"480.4,-46.09 487.5,-38.24 477.05,-39.95 480.4,-46.09\"/>\n</g>\n</g>\n</svg>\n",
            "text/plain": [
              "<graphviz.sources.Source at 0x7f08a5c25d20>"
            ]
          },
          "metadata": {}
        },
        {
          "output_type": "display_data",
          "data": {
            "image/svg+xml": "<?xml version=\"1.0\" encoding=\"UTF-8\" standalone=\"no\"?>\n<!DOCTYPE svg PUBLIC \"-//W3C//DTD SVG 1.1//EN\"\n \"http://www.w3.org/Graphics/SVG/1.1/DTD/svg11.dtd\">\n<!-- Generated by graphviz version 2.43.0 (0)\n -->\n<!-- Title: Tree Pages: 1 -->\n<svg width=\"371pt\" height=\"224pt\"\n viewBox=\"0.00 0.00 370.50 224.00\" xmlns=\"http://www.w3.org/2000/svg\" xmlns:xlink=\"http://www.w3.org/1999/xlink\">\n<g id=\"graph0\" class=\"graph\" transform=\"scale(1 1) rotate(0) translate(4 220)\">\n<title>Tree</title>\n<polygon fill=\"white\" stroke=\"transparent\" points=\"-4,4 -4,-220 366.5,-220 366.5,4 -4,4\"/>\n<!-- 0 -->\n<g id=\"node1\" class=\"node\">\n<title>0</title>\n<polygon fill=\"#fdf6f1\" stroke=\"black\" points=\"210.5,-216 63.5,-216 63.5,-163 210.5,-163 210.5,-216\"/>\n<text text-anchor=\"middle\" x=\"137\" y=\"-200.8\" font-family=\"Helvetica,sans-Serif\" font-size=\"14.00\">x[13] &lt;= &#45;0.454</text>\n<text text-anchor=\"middle\" x=\"137\" y=\"-185.8\" font-family=\"Helvetica,sans-Serif\" font-size=\"14.00\">samples = 100.0%</text>\n<text text-anchor=\"middle\" x=\"137\" y=\"-170.8\" font-family=\"Helvetica,sans-Serif\" font-size=\"14.00\">value = [0.519, 0.481]</text>\n</g>\n<!-- 1 -->\n<g id=\"node2\" class=\"node\">\n<title>1</title>\n<polygon fill=\"#399de5\" stroke=\"black\" points=\"122,-119.5 0,-119.5 0,-81.5 122,-81.5 122,-119.5\"/>\n<text text-anchor=\"middle\" x=\"61\" y=\"-104.3\" font-family=\"Helvetica,sans-Serif\" font-size=\"14.00\">samples = 41.2%</text>\n<text text-anchor=\"middle\" x=\"61\" y=\"-89.3\" font-family=\"Helvetica,sans-Serif\" font-size=\"14.00\">value = [0.0, 1.0]</text>\n</g>\n<!-- 0&#45;&gt;1 -->\n<g id=\"edge1\" class=\"edge\">\n<title>0&#45;&gt;1</title>\n<path fill=\"none\" stroke=\"black\" d=\"M114.61,-162.87C104.81,-151.66 93.34,-138.53 83.53,-127.29\"/>\n<polygon fill=\"black\" stroke=\"black\" points=\"85.94,-124.74 76.73,-119.51 80.67,-129.34 85.94,-124.74\"/>\n<text text-anchor=\"middle\" x=\"75.05\" y=\"-140.75\" font-family=\"Helvetica,sans-Serif\" font-size=\"14.00\">True</text>\n</g>\n<!-- 2 -->\n<g id=\"node3\" class=\"node\">\n<title>2</title>\n<polygon fill=\"#e88f4e\" stroke=\"black\" points=\"287.5,-127 140.5,-127 140.5,-74 287.5,-74 287.5,-127\"/>\n<text text-anchor=\"middle\" x=\"214\" y=\"-111.8\" font-family=\"Helvetica,sans-Serif\" font-size=\"14.00\">x[21] &lt;= &#45;1.234</text>\n<text text-anchor=\"middle\" x=\"214\" y=\"-96.8\" font-family=\"Helvetica,sans-Serif\" font-size=\"14.00\">samples = 58.8%</text>\n<text text-anchor=\"middle\" x=\"214\" y=\"-81.8\" font-family=\"Helvetica,sans-Serif\" font-size=\"14.00\">value = [0.902, 0.098]</text>\n</g>\n<!-- 0&#45;&gt;2 -->\n<g id=\"edge2\" class=\"edge\">\n<title>0&#45;&gt;2</title>\n<path fill=\"none\" stroke=\"black\" d=\"M159.69,-162.87C167.45,-154.1 176.25,-144.15 184.47,-134.86\"/>\n<polygon fill=\"black\" stroke=\"black\" points=\"187.2,-137.06 191.21,-127.25 181.96,-132.42 187.2,-137.06\"/>\n<text text-anchor=\"middle\" x=\"192.73\" y=\"-148.5\" font-family=\"Helvetica,sans-Serif\" font-size=\"14.00\">False</text>\n</g>\n<!-- 3 -->\n<g id=\"node4\" class=\"node\">\n<title>3</title>\n<polygon fill=\"#399de5\" stroke=\"black\" points=\"197.5,-38 80.5,-38 80.5,0 197.5,0 197.5,-38\"/>\n<text text-anchor=\"middle\" x=\"139\" y=\"-22.8\" font-family=\"Helvetica,sans-Serif\" font-size=\"14.00\">samples = 2.9%</text>\n<text text-anchor=\"middle\" x=\"139\" y=\"-7.8\" font-family=\"Helvetica,sans-Serif\" font-size=\"14.00\">value = [0.0, 1.0]</text>\n</g>\n<!-- 2&#45;&gt;3 -->\n<g id=\"edge3\" class=\"edge\">\n<title>2&#45;&gt;3</title>\n<path fill=\"none\" stroke=\"black\" d=\"M189.86,-73.91C181.29,-64.83 171.66,-54.62 163.1,-45.54\"/>\n<polygon fill=\"black\" stroke=\"black\" points=\"165.61,-43.11 156.21,-38.24 160.52,-47.91 165.61,-43.11\"/>\n</g>\n<!-- 4 -->\n<g id=\"node5\" class=\"node\">\n<title>4</title>\n<polygon fill=\"#e68640\" stroke=\"black\" points=\"362.5,-38 215.5,-38 215.5,0 362.5,0 362.5,-38\"/>\n<text text-anchor=\"middle\" x=\"289\" y=\"-22.8\" font-family=\"Helvetica,sans-Serif\" font-size=\"14.00\">samples = 55.9%</text>\n<text text-anchor=\"middle\" x=\"289\" y=\"-7.8\" font-family=\"Helvetica,sans-Serif\" font-size=\"14.00\">value = [0.965, 0.035]</text>\n</g>\n<!-- 2&#45;&gt;4 -->\n<g id=\"edge4\" class=\"edge\">\n<title>2&#45;&gt;4</title>\n<path fill=\"none\" stroke=\"black\" d=\"M238.14,-73.91C246.71,-64.83 256.34,-54.62 264.9,-45.54\"/>\n<polygon fill=\"black\" stroke=\"black\" points=\"267.48,-47.91 271.79,-38.24 262.39,-43.11 267.48,-47.91\"/>\n</g>\n</g>\n</svg>\n",
            "text/plain": [
              "<graphviz.sources.Source at 0x7f08a9d8b340>"
            ]
          },
          "metadata": {}
        },
        {
          "output_type": "display_data",
          "data": {
            "image/svg+xml": "<?xml version=\"1.0\" encoding=\"UTF-8\" standalone=\"no\"?>\n<!DOCTYPE svg PUBLIC \"-//W3C//DTD SVG 1.1//EN\"\n \"http://www.w3.org/Graphics/SVG/1.1/DTD/svg11.dtd\">\n<!-- Generated by graphviz version 2.43.0 (0)\n -->\n<!-- Title: Tree Pages: 1 -->\n<svg width=\"597pt\" height=\"224pt\"\n viewBox=\"0.00 0.00 597.00 224.00\" xmlns=\"http://www.w3.org/2000/svg\" xmlns:xlink=\"http://www.w3.org/1999/xlink\">\n<g id=\"graph0\" class=\"graph\" transform=\"scale(1 1) rotate(0) translate(4 220)\">\n<title>Tree</title>\n<polygon fill=\"white\" stroke=\"transparent\" points=\"-4,4 -4,-220 593,-220 593,4 -4,4\"/>\n<!-- 0 -->\n<g id=\"node1\" class=\"node\">\n<title>0</title>\n<polygon fill=\"#f7d7c0\" stroke=\"black\" points=\"360,-216 213,-216 213,-163 360,-163 360,-216\"/>\n<text text-anchor=\"middle\" x=\"286.5\" y=\"-200.8\" font-family=\"Helvetica,sans-Serif\" font-size=\"14.00\">x[5] &lt;= &#45;0.466</text>\n<text text-anchor=\"middle\" x=\"286.5\" y=\"-185.8\" font-family=\"Helvetica,sans-Serif\" font-size=\"14.00\">samples = 100.0%</text>\n<text text-anchor=\"middle\" x=\"286.5\" y=\"-170.8\" font-family=\"Helvetica,sans-Serif\" font-size=\"14.00\">value = [0.594, 0.406]</text>\n</g>\n<!-- 1 -->\n<g id=\"node2\" class=\"node\">\n<title>1</title>\n<polygon fill=\"#63b2eb\" stroke=\"black\" points=\"278,-127 131,-127 131,-74 278,-74 278,-127\"/>\n<text text-anchor=\"middle\" x=\"204.5\" y=\"-111.8\" font-family=\"Helvetica,sans-Serif\" font-size=\"14.00\">x[41] &lt;= &#45;0.514</text>\n<text text-anchor=\"middle\" x=\"204.5\" y=\"-96.8\" font-family=\"Helvetica,sans-Serif\" font-size=\"14.00\">samples = 38.2%</text>\n<text text-anchor=\"middle\" x=\"204.5\" y=\"-81.8\" font-family=\"Helvetica,sans-Serif\" font-size=\"14.00\">value = [0.175, 0.825]</text>\n</g>\n<!-- 0&#45;&gt;1 -->\n<g id=\"edge1\" class=\"edge\">\n<title>0&#45;&gt;1</title>\n<path fill=\"none\" stroke=\"black\" d=\"M262.34,-162.87C253.99,-154.01 244.51,-143.95 235.68,-134.58\"/>\n<polygon fill=\"black\" stroke=\"black\" points=\"238.18,-132.13 228.77,-127.25 233.08,-136.93 238.18,-132.13\"/>\n<text text-anchor=\"middle\" x=\"228.03\" y=\"-148.54\" font-family=\"Helvetica,sans-Serif\" font-size=\"14.00\">True</text>\n</g>\n<!-- 4 -->\n<g id=\"node5\" class=\"node\">\n<title>4</title>\n<polygon fill=\"#eb9c63\" stroke=\"black\" points=\"443,-127 296,-127 296,-74 443,-74 443,-127\"/>\n<text text-anchor=\"middle\" x=\"369.5\" y=\"-111.8\" font-family=\"Helvetica,sans-Serif\" font-size=\"14.00\">x[15] &lt;= &#45;0.564</text>\n<text text-anchor=\"middle\" x=\"369.5\" y=\"-96.8\" font-family=\"Helvetica,sans-Serif\" font-size=\"14.00\">samples = 61.8%</text>\n<text text-anchor=\"middle\" x=\"369.5\" y=\"-81.8\" font-family=\"Helvetica,sans-Serif\" font-size=\"14.00\">value = [0.825, 0.175]</text>\n</g>\n<!-- 0&#45;&gt;4 -->\n<g id=\"edge4\" class=\"edge\">\n<title>0&#45;&gt;4</title>\n<path fill=\"none\" stroke=\"black\" d=\"M310.95,-162.87C319.41,-154.01 329,-143.95 337.94,-134.58\"/>\n<polygon fill=\"black\" stroke=\"black\" points=\"340.56,-136.9 344.93,-127.25 335.5,-132.07 340.56,-136.9\"/>\n<text text-anchor=\"middle\" x=\"345.52\" y=\"-148.54\" font-family=\"Helvetica,sans-Serif\" font-size=\"14.00\">False</text>\n</g>\n<!-- 2 -->\n<g id=\"node3\" class=\"node\">\n<title>2</title>\n<polygon fill=\"#e58139\" stroke=\"black\" points=\"117,-38 0,-38 0,0 117,0 117,-38\"/>\n<text text-anchor=\"middle\" x=\"58.5\" y=\"-22.8\" font-family=\"Helvetica,sans-Serif\" font-size=\"14.00\">samples = 3.6%</text>\n<text text-anchor=\"middle\" x=\"58.5\" y=\"-7.8\" font-family=\"Helvetica,sans-Serif\" font-size=\"14.00\">value = [1.0, 0.0]</text>\n</g>\n<!-- 1&#45;&gt;2 -->\n<g id=\"edge2\" class=\"edge\">\n<title>1&#45;&gt;2</title>\n<path fill=\"none\" stroke=\"black\" d=\"M157.5,-73.91C139.33,-64.01 118.68,-52.77 100.97,-43.12\"/>\n<polygon fill=\"black\" stroke=\"black\" points=\"102.45,-39.95 92,-38.24 99.1,-46.09 102.45,-39.95\"/>\n</g>\n<!-- 3 -->\n<g id=\"node4\" class=\"node\">\n<title>3</title>\n<polygon fill=\"#4aa5e7\" stroke=\"black\" points=\"282,-38 135,-38 135,0 282,0 282,-38\"/>\n<text text-anchor=\"middle\" x=\"208.5\" y=\"-22.8\" font-family=\"Helvetica,sans-Serif\" font-size=\"14.00\">samples = 34.5%</text>\n<text text-anchor=\"middle\" x=\"208.5\" y=\"-7.8\" font-family=\"Helvetica,sans-Serif\" font-size=\"14.00\">value = [0.078, 0.922]</text>\n</g>\n<!-- 1&#45;&gt;3 -->\n<g id=\"edge3\" class=\"edge\">\n<title>1&#45;&gt;3</title>\n<path fill=\"none\" stroke=\"black\" d=\"M205.79,-73.91C206.2,-65.74 206.66,-56.65 207.08,-48.3\"/>\n<polygon fill=\"black\" stroke=\"black\" points=\"210.58,-48.4 207.58,-38.24 203.58,-48.05 210.58,-48.4\"/>\n</g>\n<!-- 5 -->\n<g id=\"node6\" class=\"node\">\n<title>5</title>\n<polygon fill=\"#399de5\" stroke=\"black\" points=\"424,-38 307,-38 307,0 424,0 424,-38\"/>\n<text text-anchor=\"middle\" x=\"365.5\" y=\"-22.8\" font-family=\"Helvetica,sans-Serif\" font-size=\"14.00\">samples = 9.1%</text>\n<text text-anchor=\"middle\" x=\"365.5\" y=\"-7.8\" font-family=\"Helvetica,sans-Serif\" font-size=\"14.00\">value = [0.0, 1.0]</text>\n</g>\n<!-- 4&#45;&gt;5 -->\n<g id=\"edge5\" class=\"edge\">\n<title>4&#45;&gt;5</title>\n<path fill=\"none\" stroke=\"black\" d=\"M368.21,-73.91C367.8,-65.74 367.34,-56.65 366.92,-48.3\"/>\n<polygon fill=\"black\" stroke=\"black\" points=\"370.42,-48.05 366.42,-38.24 363.42,-48.4 370.42,-48.05\"/>\n</g>\n<!-- 6 -->\n<g id=\"node7\" class=\"node\">\n<title>6</title>\n<polygon fill=\"#e78845\" stroke=\"black\" points=\"589,-38 442,-38 442,0 589,0 589,-38\"/>\n<text text-anchor=\"middle\" x=\"515.5\" y=\"-22.8\" font-family=\"Helvetica,sans-Serif\" font-size=\"14.00\">samples = 52.7%</text>\n<text text-anchor=\"middle\" x=\"515.5\" y=\"-7.8\" font-family=\"Helvetica,sans-Serif\" font-size=\"14.00\">value = [0.944, 0.056]</text>\n</g>\n<!-- 4&#45;&gt;6 -->\n<g id=\"edge6\" class=\"edge\">\n<title>4&#45;&gt;6</title>\n<path fill=\"none\" stroke=\"black\" d=\"M416.5,-73.91C434.67,-64.01 455.32,-52.77 473.03,-43.12\"/>\n<polygon fill=\"black\" stroke=\"black\" points=\"474.9,-46.09 482,-38.24 471.55,-39.95 474.9,-46.09\"/>\n</g>\n</g>\n</svg>\n",
            "text/plain": [
              "<graphviz.sources.Source at 0x7f08a5c25d20>"
            ]
          },
          "metadata": {}
        },
        {
          "output_type": "display_data",
          "data": {
            "image/svg+xml": "<?xml version=\"1.0\" encoding=\"UTF-8\" standalone=\"no\"?>\n<!DOCTYPE svg PUBLIC \"-//W3C//DTD SVG 1.1//EN\"\n \"http://www.w3.org/Graphics/SVG/1.1/DTD/svg11.dtd\">\n<!-- Generated by graphviz version 2.43.0 (0)\n -->\n<!-- Title: Tree Pages: 1 -->\n<svg width=\"632pt\" height=\"224pt\"\n viewBox=\"0.00 0.00 632.00 224.00\" xmlns=\"http://www.w3.org/2000/svg\" xmlns:xlink=\"http://www.w3.org/1999/xlink\">\n<g id=\"graph0\" class=\"graph\" transform=\"scale(1 1) rotate(0) translate(4 220)\">\n<title>Tree</title>\n<polygon fill=\"white\" stroke=\"transparent\" points=\"-4,4 -4,-220 628,-220 628,4 -4,4\"/>\n<!-- 0 -->\n<g id=\"node1\" class=\"node\">\n<title>0</title>\n<polygon fill=\"#f9e3d3\" stroke=\"black\" points=\"391,-216 244,-216 244,-163 391,-163 391,-216\"/>\n<text text-anchor=\"middle\" x=\"317.5\" y=\"-200.8\" font-family=\"Helvetica,sans-Serif\" font-size=\"14.00\">x[23] &lt;= 0.182</text>\n<text text-anchor=\"middle\" x=\"317.5\" y=\"-185.8\" font-family=\"Helvetica,sans-Serif\" font-size=\"14.00\">samples = 100.0%</text>\n<text text-anchor=\"middle\" x=\"317.5\" y=\"-170.8\" font-family=\"Helvetica,sans-Serif\" font-size=\"14.00\">value = [0.562, 0.438]</text>\n</g>\n<!-- 1 -->\n<g id=\"node2\" class=\"node\">\n<title>1</title>\n<polygon fill=\"#89c5f0\" stroke=\"black\" points=\"309,-127 162,-127 162,-74 309,-74 309,-127\"/>\n<text text-anchor=\"middle\" x=\"235.5\" y=\"-111.8\" font-family=\"Helvetica,sans-Serif\" font-size=\"14.00\">x[27] &lt;= &#45;0.084</text>\n<text text-anchor=\"middle\" x=\"235.5\" y=\"-96.8\" font-family=\"Helvetica,sans-Serif\" font-size=\"14.00\">samples = 58.2%</text>\n<text text-anchor=\"middle\" x=\"235.5\" y=\"-81.8\" font-family=\"Helvetica,sans-Serif\" font-size=\"14.00\">value = [0.289, 0.711]</text>\n</g>\n<!-- 0&#45;&gt;1 -->\n<g id=\"edge1\" class=\"edge\">\n<title>0&#45;&gt;1</title>\n<path fill=\"none\" stroke=\"black\" d=\"M293.34,-162.87C284.99,-154.01 275.51,-143.95 266.68,-134.58\"/>\n<polygon fill=\"black\" stroke=\"black\" points=\"269.18,-132.13 259.77,-127.25 264.08,-136.93 269.18,-132.13\"/>\n<text text-anchor=\"middle\" x=\"259.03\" y=\"-148.54\" font-family=\"Helvetica,sans-Serif\" font-size=\"14.00\">True</text>\n</g>\n<!-- 4 -->\n<g id=\"node5\" class=\"node\">\n<title>4</title>\n<polygon fill=\"#e78d4c\" stroke=\"black\" points=\"474,-127 327,-127 327,-74 474,-74 474,-127\"/>\n<text text-anchor=\"middle\" x=\"400.5\" y=\"-111.8\" font-family=\"Helvetica,sans-Serif\" font-size=\"14.00\">x[42] &lt;= 0.382</text>\n<text text-anchor=\"middle\" x=\"400.5\" y=\"-96.8\" font-family=\"Helvetica,sans-Serif\" font-size=\"14.00\">samples = 41.8%</text>\n<text text-anchor=\"middle\" x=\"400.5\" y=\"-81.8\" font-family=\"Helvetica,sans-Serif\" font-size=\"14.00\">value = [0.914, 0.086]</text>\n</g>\n<!-- 0&#45;&gt;4 -->\n<g id=\"edge4\" class=\"edge\">\n<title>0&#45;&gt;4</title>\n<path fill=\"none\" stroke=\"black\" d=\"M341.95,-162.87C350.41,-154.01 360,-143.95 368.94,-134.58\"/>\n<polygon fill=\"black\" stroke=\"black\" points=\"371.56,-136.9 375.93,-127.25 366.5,-132.07 371.56,-136.9\"/>\n<text text-anchor=\"middle\" x=\"376.52\" y=\"-148.54\" font-family=\"Helvetica,sans-Serif\" font-size=\"14.00\">False</text>\n</g>\n<!-- 2 -->\n<g id=\"node3\" class=\"node\">\n<title>2</title>\n<polygon fill=\"#47a4e7\" stroke=\"black\" points=\"147,-38 0,-38 0,0 147,0 147,-38\"/>\n<text text-anchor=\"middle\" x=\"73.5\" y=\"-22.8\" font-family=\"Helvetica,sans-Serif\" font-size=\"14.00\">samples = 40.8%</text>\n<text text-anchor=\"middle\" x=\"73.5\" y=\"-7.8\" font-family=\"Helvetica,sans-Serif\" font-size=\"14.00\">value = [0.065, 0.935]</text>\n</g>\n<!-- 1&#45;&gt;2 -->\n<g id=\"edge2\" class=\"edge\">\n<title>1&#45;&gt;2</title>\n<path fill=\"none\" stroke=\"black\" d=\"M183.35,-73.91C162.83,-63.84 139.47,-52.37 119.58,-42.61\"/>\n<polygon fill=\"black\" stroke=\"black\" points=\"120.93,-39.38 110.41,-38.12 117.85,-45.66 120.93,-39.38\"/>\n</g>\n<!-- 3 -->\n<g id=\"node4\" class=\"node\">\n<title>3</title>\n<polygon fill=\"#eca36f\" stroke=\"black\" points=\"312,-38 165,-38 165,0 312,0 312,-38\"/>\n<text text-anchor=\"middle\" x=\"238.5\" y=\"-22.8\" font-family=\"Helvetica,sans-Serif\" font-size=\"14.00\">samples = 17.3%</text>\n<text text-anchor=\"middle\" x=\"238.5\" y=\"-7.8\" font-family=\"Helvetica,sans-Serif\" font-size=\"14.00\">value = [0.786, 0.214]</text>\n</g>\n<!-- 1&#45;&gt;3 -->\n<g id=\"edge3\" class=\"edge\">\n<title>1&#45;&gt;3</title>\n<path fill=\"none\" stroke=\"black\" d=\"M236.47,-73.91C236.77,-65.74 237.12,-56.65 237.43,-48.3\"/>\n<polygon fill=\"black\" stroke=\"black\" points=\"240.93,-48.36 237.81,-38.24 233.94,-48.1 240.93,-48.36\"/>\n</g>\n<!-- 5 -->\n<g id=\"node6\" class=\"node\">\n<title>5</title>\n<polygon fill=\"#e58139\" stroke=\"black\" points=\"458.5,-38 336.5,-38 336.5,0 458.5,0 458.5,-38\"/>\n<text text-anchor=\"middle\" x=\"397.5\" y=\"-22.8\" font-family=\"Helvetica,sans-Serif\" font-size=\"14.00\">samples = 37.8%</text>\n<text text-anchor=\"middle\" x=\"397.5\" y=\"-7.8\" font-family=\"Helvetica,sans-Serif\" font-size=\"14.00\">value = [1.0, 0.0]</text>\n</g>\n<!-- 4&#45;&gt;5 -->\n<g id=\"edge5\" class=\"edge\">\n<title>4&#45;&gt;5</title>\n<path fill=\"none\" stroke=\"black\" d=\"M399.53,-73.91C399.23,-65.74 398.88,-56.65 398.57,-48.3\"/>\n<polygon fill=\"black\" stroke=\"black\" points=\"402.06,-48.1 398.19,-38.24 395.07,-48.36 402.06,-48.1\"/>\n</g>\n<!-- 6 -->\n<g id=\"node7\" class=\"node\">\n<title>6</title>\n<polygon fill=\"#9ccef2\" stroke=\"black\" points=\"624,-38 477,-38 477,0 624,0 624,-38\"/>\n<text text-anchor=\"middle\" x=\"550.5\" y=\"-22.8\" font-family=\"Helvetica,sans-Serif\" font-size=\"14.00\">samples = 4.1%</text>\n<text text-anchor=\"middle\" x=\"550.5\" y=\"-7.8\" font-family=\"Helvetica,sans-Serif\" font-size=\"14.00\">value = [0.333, 0.667]</text>\n</g>\n<!-- 4&#45;&gt;6 -->\n<g id=\"edge6\" class=\"edge\">\n<title>4&#45;&gt;6</title>\n<path fill=\"none\" stroke=\"black\" d=\"M448.79,-73.91C467.54,-63.97 488.86,-52.67 507.12,-42.99\"/>\n<polygon fill=\"black\" stroke=\"black\" points=\"508.89,-46.01 516.09,-38.24 505.61,-39.83 508.89,-46.01\"/>\n</g>\n</g>\n</svg>\n",
            "text/plain": [
              "<graphviz.sources.Source at 0x7f08a9d8b340>"
            ]
          },
          "metadata": {}
        },
        {
          "output_type": "display_data",
          "data": {
            "image/svg+xml": "<?xml version=\"1.0\" encoding=\"UTF-8\" standalone=\"no\"?>\n<!DOCTYPE svg PUBLIC \"-//W3C//DTD SVG 1.1//EN\"\n \"http://www.w3.org/Graphics/SVG/1.1/DTD/svg11.dtd\">\n<!-- Generated by graphviz version 2.43.0 (0)\n -->\n<!-- Title: Tree Pages: 1 -->\n<svg width=\"591pt\" height=\"224pt\"\n viewBox=\"0.00 0.00 591.00 224.00\" xmlns=\"http://www.w3.org/2000/svg\" xmlns:xlink=\"http://www.w3.org/1999/xlink\">\n<g id=\"graph0\" class=\"graph\" transform=\"scale(1 1) rotate(0) translate(4 220)\">\n<title>Tree</title>\n<polygon fill=\"white\" stroke=\"transparent\" points=\"-4,4 -4,-220 587,-220 587,4 -4,4\"/>\n<!-- 0 -->\n<g id=\"node1\" class=\"node\">\n<title>0</title>\n<polygon fill=\"#fef9f5\" stroke=\"black\" points=\"352,-216 205,-216 205,-163 352,-163 352,-216\"/>\n<text text-anchor=\"middle\" x=\"278.5\" y=\"-200.8\" font-family=\"Helvetica,sans-Serif\" font-size=\"14.00\">x[49] &lt;= 0.244</text>\n<text text-anchor=\"middle\" x=\"278.5\" y=\"-185.8\" font-family=\"Helvetica,sans-Serif\" font-size=\"14.00\">samples = 100.0%</text>\n<text text-anchor=\"middle\" x=\"278.5\" y=\"-170.8\" font-family=\"Helvetica,sans-Serif\" font-size=\"14.00\">value = [0.512, 0.488]</text>\n</g>\n<!-- 1 -->\n<g id=\"node2\" class=\"node\">\n<title>1</title>\n<polygon fill=\"#ea995e\" stroke=\"black\" points=\"270,-127 123,-127 123,-74 270,-74 270,-127\"/>\n<text text-anchor=\"middle\" x=\"196.5\" y=\"-111.8\" font-family=\"Helvetica,sans-Serif\" font-size=\"14.00\">x[5] &lt;= &#45;0.682</text>\n<text text-anchor=\"middle\" x=\"196.5\" y=\"-96.8\" font-family=\"Helvetica,sans-Serif\" font-size=\"14.00\">samples = 58.3%</text>\n<text text-anchor=\"middle\" x=\"196.5\" y=\"-81.8\" font-family=\"Helvetica,sans-Serif\" font-size=\"14.00\">value = [0.842, 0.158]</text>\n</g>\n<!-- 0&#45;&gt;1 -->\n<g id=\"edge1\" class=\"edge\">\n<title>0&#45;&gt;1</title>\n<path fill=\"none\" stroke=\"black\" d=\"M254.34,-162.87C245.99,-154.01 236.51,-143.95 227.68,-134.58\"/>\n<polygon fill=\"black\" stroke=\"black\" points=\"230.18,-132.13 220.77,-127.25 225.08,-136.93 230.18,-132.13\"/>\n<text text-anchor=\"middle\" x=\"220.03\" y=\"-148.54\" font-family=\"Helvetica,sans-Serif\" font-size=\"14.00\">True</text>\n</g>\n<!-- 4 -->\n<g id=\"node5\" class=\"node\">\n<title>4</title>\n<polygon fill=\"#3fa0e6\" stroke=\"black\" points=\"435,-127 288,-127 288,-74 435,-74 435,-127\"/>\n<text text-anchor=\"middle\" x=\"361.5\" y=\"-111.8\" font-family=\"Helvetica,sans-Serif\" font-size=\"14.00\">x[30] &lt;= 0.218</text>\n<text text-anchor=\"middle\" x=\"361.5\" y=\"-96.8\" font-family=\"Helvetica,sans-Serif\" font-size=\"14.00\">samples = 41.7%</text>\n<text text-anchor=\"middle\" x=\"361.5\" y=\"-81.8\" font-family=\"Helvetica,sans-Serif\" font-size=\"14.00\">value = [0.031, 0.969]</text>\n</g>\n<!-- 0&#45;&gt;4 -->\n<g id=\"edge4\" class=\"edge\">\n<title>0&#45;&gt;4</title>\n<path fill=\"none\" stroke=\"black\" d=\"M302.95,-162.87C311.41,-154.01 321,-143.95 329.94,-134.58\"/>\n<polygon fill=\"black\" stroke=\"black\" points=\"332.56,-136.9 336.93,-127.25 327.5,-132.07 332.56,-136.9\"/>\n<text text-anchor=\"middle\" x=\"337.52\" y=\"-148.54\" font-family=\"Helvetica,sans-Serif\" font-size=\"14.00\">False</text>\n</g>\n<!-- 2 -->\n<g id=\"node3\" class=\"node\">\n<title>2</title>\n<polygon fill=\"#399de5\" stroke=\"black\" points=\"117,-38 0,-38 0,0 117,0 117,-38\"/>\n<text text-anchor=\"middle\" x=\"58.5\" y=\"-22.8\" font-family=\"Helvetica,sans-Serif\" font-size=\"14.00\">samples = 6.8%</text>\n<text text-anchor=\"middle\" x=\"58.5\" y=\"-7.8\" font-family=\"Helvetica,sans-Serif\" font-size=\"14.00\">value = [0.0, 1.0]</text>\n</g>\n<!-- 1&#45;&gt;2 -->\n<g id=\"edge2\" class=\"edge\">\n<title>1&#45;&gt;2</title>\n<path fill=\"none\" stroke=\"black\" d=\"M152.08,-73.91C135.06,-64.1 115.74,-52.98 99.1,-43.39\"/>\n<polygon fill=\"black\" stroke=\"black\" points=\"100.57,-40.2 90.16,-38.24 97.08,-46.26 100.57,-40.2\"/>\n</g>\n<!-- 3 -->\n<g id=\"node4\" class=\"node\">\n<title>3</title>\n<polygon fill=\"#e78a48\" stroke=\"black\" points=\"267.5,-38 135.5,-38 135.5,0 267.5,0 267.5,-38\"/>\n<text text-anchor=\"middle\" x=\"201.5\" y=\"-22.8\" font-family=\"Helvetica,sans-Serif\" font-size=\"14.00\">samples = 51.5%</text>\n<text text-anchor=\"middle\" x=\"201.5\" y=\"-7.8\" font-family=\"Helvetica,sans-Serif\" font-size=\"14.00\">value = [0.93, 0.07]</text>\n</g>\n<!-- 1&#45;&gt;3 -->\n<g id=\"edge3\" class=\"edge\">\n<title>1&#45;&gt;3</title>\n<path fill=\"none\" stroke=\"black\" d=\"M198.11,-73.91C198.62,-65.74 199.2,-56.65 199.72,-48.3\"/>\n<polygon fill=\"black\" stroke=\"black\" points=\"203.22,-48.44 200.35,-38.24 196.23,-48 203.22,-48.44\"/>\n</g>\n<!-- 5 -->\n<g id=\"node6\" class=\"node\">\n<title>5</title>\n<polygon fill=\"#399de5\" stroke=\"black\" points=\"417.5,-38 295.5,-38 295.5,0 417.5,0 417.5,-38\"/>\n<text text-anchor=\"middle\" x=\"356.5\" y=\"-22.8\" font-family=\"Helvetica,sans-Serif\" font-size=\"14.00\">samples = 33.0%</text>\n<text text-anchor=\"middle\" x=\"356.5\" y=\"-7.8\" font-family=\"Helvetica,sans-Serif\" font-size=\"14.00\">value = [0.0, 1.0]</text>\n</g>\n<!-- 4&#45;&gt;5 -->\n<g id=\"edge5\" class=\"edge\">\n<title>4&#45;&gt;5</title>\n<path fill=\"none\" stroke=\"black\" d=\"M359.89,-73.91C359.38,-65.74 358.8,-56.65 358.28,-48.3\"/>\n<polygon fill=\"black\" stroke=\"black\" points=\"361.77,-48 357.65,-38.24 354.78,-48.44 361.77,-48\"/>\n</g>\n<!-- 6 -->\n<g id=\"node7\" class=\"node\">\n<title>6</title>\n<polygon fill=\"#5dafea\" stroke=\"black\" points=\"583,-38 436,-38 436,0 583,0 583,-38\"/>\n<text text-anchor=\"middle\" x=\"509.5\" y=\"-22.8\" font-family=\"Helvetica,sans-Serif\" font-size=\"14.00\">samples = 8.7%</text>\n<text text-anchor=\"middle\" x=\"509.5\" y=\"-7.8\" font-family=\"Helvetica,sans-Serif\" font-size=\"14.00\">value = [0.154, 0.846]</text>\n</g>\n<!-- 4&#45;&gt;6 -->\n<g id=\"edge6\" class=\"edge\">\n<title>4&#45;&gt;6</title>\n<path fill=\"none\" stroke=\"black\" d=\"M409.14,-73.91C427.56,-64.01 448.49,-52.77 466.45,-43.12\"/>\n<polygon fill=\"black\" stroke=\"black\" points=\"468.39,-46.05 475.55,-38.24 465.08,-39.89 468.39,-46.05\"/>\n</g>\n</g>\n</svg>\n",
            "text/plain": [
              "<graphviz.sources.Source at 0x7f08a5c25d20>"
            ]
          },
          "metadata": {}
        },
        {
          "output_type": "display_data",
          "data": {
            "image/svg+xml": "<?xml version=\"1.0\" encoding=\"UTF-8\" standalone=\"no\"?>\n<!DOCTYPE svg PUBLIC \"-//W3C//DTD SVG 1.1//EN\"\n \"http://www.w3.org/Graphics/SVG/1.1/DTD/svg11.dtd\">\n<!-- Generated by graphviz version 2.43.0 (0)\n -->\n<!-- Title: Tree Pages: 1 -->\n<svg width=\"603pt\" height=\"224pt\"\n viewBox=\"0.00 0.00 602.50 224.00\" xmlns=\"http://www.w3.org/2000/svg\" xmlns:xlink=\"http://www.w3.org/1999/xlink\">\n<g id=\"graph0\" class=\"graph\" transform=\"scale(1 1) rotate(0) translate(4 220)\">\n<title>Tree</title>\n<polygon fill=\"white\" stroke=\"transparent\" points=\"-4,4 -4,-220 598.5,-220 598.5,4 -4,4\"/>\n<!-- 0 -->\n<g id=\"node1\" class=\"node\">\n<title>0</title>\n<polygon fill=\"#f5fafe\" stroke=\"black\" points=\"365.5,-216 218.5,-216 218.5,-163 365.5,-163 365.5,-216\"/>\n<text text-anchor=\"middle\" x=\"292\" y=\"-200.8\" font-family=\"Helvetica,sans-Serif\" font-size=\"14.00\">x[23] &lt;= 0.176</text>\n<text text-anchor=\"middle\" x=\"292\" y=\"-185.8\" font-family=\"Helvetica,sans-Serif\" font-size=\"14.00\">samples = 100.0%</text>\n<text text-anchor=\"middle\" x=\"292\" y=\"-170.8\" font-family=\"Helvetica,sans-Serif\" font-size=\"14.00\">value = [0.488, 0.512]</text>\n</g>\n<!-- 1 -->\n<g id=\"node2\" class=\"node\">\n<title>1</title>\n<polygon fill=\"#70b8ec\" stroke=\"black\" points=\"283.5,-127 136.5,-127 136.5,-74 283.5,-74 283.5,-127\"/>\n<text text-anchor=\"middle\" x=\"210\" y=\"-111.8\" font-family=\"Helvetica,sans-Serif\" font-size=\"14.00\">x[24] &lt;= 0.091</text>\n<text text-anchor=\"middle\" x=\"210\" y=\"-96.8\" font-family=\"Helvetica,sans-Serif\" font-size=\"14.00\">samples = 62.2%</text>\n<text text-anchor=\"middle\" x=\"210\" y=\"-81.8\" font-family=\"Helvetica,sans-Serif\" font-size=\"14.00\">value = [0.218, 0.782]</text>\n</g>\n<!-- 0&#45;&gt;1 -->\n<g id=\"edge1\" class=\"edge\">\n<title>0&#45;&gt;1</title>\n<path fill=\"none\" stroke=\"black\" d=\"M267.84,-162.87C259.49,-154.01 250.01,-143.95 241.18,-134.58\"/>\n<polygon fill=\"black\" stroke=\"black\" points=\"243.68,-132.13 234.27,-127.25 238.58,-136.93 243.68,-132.13\"/>\n<text text-anchor=\"middle\" x=\"233.53\" y=\"-148.54\" font-family=\"Helvetica,sans-Serif\" font-size=\"14.00\">True</text>\n</g>\n<!-- 4 -->\n<g id=\"node5\" class=\"node\">\n<title>4</title>\n<polygon fill=\"#e68844\" stroke=\"black\" points=\"448.5,-127 301.5,-127 301.5,-74 448.5,-74 448.5,-127\"/>\n<text text-anchor=\"middle\" x=\"375\" y=\"-111.8\" font-family=\"Helvetica,sans-Serif\" font-size=\"14.00\">x[24] &lt;= &#45;1.086</text>\n<text text-anchor=\"middle\" x=\"375\" y=\"-96.8\" font-family=\"Helvetica,sans-Serif\" font-size=\"14.00\">samples = 37.8%</text>\n<text text-anchor=\"middle\" x=\"375\" y=\"-81.8\" font-family=\"Helvetica,sans-Serif\" font-size=\"14.00\">value = [0.949, 0.051]</text>\n</g>\n<!-- 0&#45;&gt;4 -->\n<g id=\"edge4\" class=\"edge\">\n<title>0&#45;&gt;4</title>\n<path fill=\"none\" stroke=\"black\" d=\"M316.45,-162.87C324.91,-154.01 334.5,-143.95 343.44,-134.58\"/>\n<polygon fill=\"black\" stroke=\"black\" points=\"346.06,-136.9 350.43,-127.25 341,-132.07 346.06,-136.9\"/>\n<text text-anchor=\"middle\" x=\"351.02\" y=\"-148.54\" font-family=\"Helvetica,sans-Serif\" font-size=\"14.00\">False</text>\n</g>\n<!-- 2 -->\n<g id=\"node3\" class=\"node\">\n<title>2</title>\n<polygon fill=\"#399de5\" stroke=\"black\" points=\"122,-38 0,-38 0,0 122,0 122,-38\"/>\n<text text-anchor=\"middle\" x=\"61\" y=\"-22.8\" font-family=\"Helvetica,sans-Serif\" font-size=\"14.00\">samples = 44.9%</text>\n<text text-anchor=\"middle\" x=\"61\" y=\"-7.8\" font-family=\"Helvetica,sans-Serif\" font-size=\"14.00\">value = [0.0, 1.0]</text>\n</g>\n<!-- 1&#45;&gt;2 -->\n<g id=\"edge2\" class=\"edge\">\n<title>1&#45;&gt;2</title>\n<path fill=\"none\" stroke=\"black\" d=\"M162.04,-73.91C143.49,-64.01 122.42,-52.77 104.34,-43.12\"/>\n<polygon fill=\"black\" stroke=\"black\" points=\"105.65,-39.86 95.18,-38.24 102.36,-46.03 105.65,-39.86\"/>\n</g>\n<!-- 3 -->\n<g id=\"node4\" class=\"node\">\n<title>3</title>\n<polygon fill=\"#eda978\" stroke=\"black\" points=\"287.5,-38 140.5,-38 140.5,0 287.5,0 287.5,-38\"/>\n<text text-anchor=\"middle\" x=\"214\" y=\"-22.8\" font-family=\"Helvetica,sans-Serif\" font-size=\"14.00\">samples = 17.3%</text>\n<text text-anchor=\"middle\" x=\"214\" y=\"-7.8\" font-family=\"Helvetica,sans-Serif\" font-size=\"14.00\">value = [0.759, 0.241]</text>\n</g>\n<!-- 1&#45;&gt;3 -->\n<g id=\"edge3\" class=\"edge\">\n<title>1&#45;&gt;3</title>\n<path fill=\"none\" stroke=\"black\" d=\"M211.29,-73.91C211.7,-65.74 212.16,-56.65 212.58,-48.3\"/>\n<polygon fill=\"black\" stroke=\"black\" points=\"216.08,-48.4 213.08,-38.24 209.08,-48.05 216.08,-48.4\"/>\n</g>\n<!-- 5 -->\n<g id=\"node6\" class=\"node\">\n<title>5</title>\n<polygon fill=\"#399de5\" stroke=\"black\" points=\"429.5,-38 312.5,-38 312.5,0 429.5,0 429.5,-38\"/>\n<text text-anchor=\"middle\" x=\"371\" y=\"-22.8\" font-family=\"Helvetica,sans-Serif\" font-size=\"14.00\">samples = 2.0%</text>\n<text text-anchor=\"middle\" x=\"371\" y=\"-7.8\" font-family=\"Helvetica,sans-Serif\" font-size=\"14.00\">value = [0.0, 1.0]</text>\n</g>\n<!-- 4&#45;&gt;5 -->\n<g id=\"edge5\" class=\"edge\">\n<title>4&#45;&gt;5</title>\n<path fill=\"none\" stroke=\"black\" d=\"M373.71,-73.91C373.3,-65.74 372.84,-56.65 372.42,-48.3\"/>\n<polygon fill=\"black\" stroke=\"black\" points=\"375.92,-48.05 371.92,-38.24 368.92,-48.4 375.92,-48.05\"/>\n</g>\n<!-- 6 -->\n<g id=\"node7\" class=\"node\">\n<title>6</title>\n<polygon fill=\"#e5833d\" stroke=\"black\" points=\"594.5,-38 447.5,-38 447.5,0 594.5,0 594.5,-38\"/>\n<text text-anchor=\"middle\" x=\"521\" y=\"-22.8\" font-family=\"Helvetica,sans-Serif\" font-size=\"14.00\">samples = 35.7%</text>\n<text text-anchor=\"middle\" x=\"521\" y=\"-7.8\" font-family=\"Helvetica,sans-Serif\" font-size=\"14.00\">value = [0.982, 0.018]</text>\n</g>\n<!-- 4&#45;&gt;6 -->\n<g id=\"edge6\" class=\"edge\">\n<title>4&#45;&gt;6</title>\n<path fill=\"none\" stroke=\"black\" d=\"M422,-73.91C440.17,-64.01 460.82,-52.77 478.53,-43.12\"/>\n<polygon fill=\"black\" stroke=\"black\" points=\"480.4,-46.09 487.5,-38.24 477.05,-39.95 480.4,-46.09\"/>\n</g>\n</g>\n</svg>\n",
            "text/plain": [
              "<graphviz.sources.Source at 0x7f08a9d8b340>"
            ]
          },
          "metadata": {}
        },
        {
          "output_type": "display_data",
          "data": {
            "image/svg+xml": "<?xml version=\"1.0\" encoding=\"UTF-8\" standalone=\"no\"?>\n<!DOCTYPE svg PUBLIC \"-//W3C//DTD SVG 1.1//EN\"\n \"http://www.w3.org/Graphics/SVG/1.1/DTD/svg11.dtd\">\n<!-- Generated by graphviz version 2.43.0 (0)\n -->\n<!-- Title: Tree Pages: 1 -->\n<svg width=\"603pt\" height=\"224pt\"\n viewBox=\"0.00 0.00 602.50 224.00\" xmlns=\"http://www.w3.org/2000/svg\" xmlns:xlink=\"http://www.w3.org/1999/xlink\">\n<g id=\"graph0\" class=\"graph\" transform=\"scale(1 1) rotate(0) translate(4 220)\">\n<title>Tree</title>\n<polygon fill=\"white\" stroke=\"transparent\" points=\"-4,4 -4,-220 598.5,-220 598.5,4 -4,4\"/>\n<!-- 0 -->\n<g id=\"node1\" class=\"node\">\n<title>0</title>\n<polygon fill=\"#ffffff\" stroke=\"black\" points=\"342,-216 212,-216 212,-163 342,-163 342,-216\"/>\n<text text-anchor=\"middle\" x=\"277\" y=\"-200.8\" font-family=\"Helvetica,sans-Serif\" font-size=\"14.00\">x[27] &lt;= &#45;0.335</text>\n<text text-anchor=\"middle\" x=\"277\" y=\"-185.8\" font-family=\"Helvetica,sans-Serif\" font-size=\"14.00\">samples = 100.0%</text>\n<text text-anchor=\"middle\" x=\"277\" y=\"-170.8\" font-family=\"Helvetica,sans-Serif\" font-size=\"14.00\">value = [0.5, 0.5]</text>\n</g>\n<!-- 1 -->\n<g id=\"node2\" class=\"node\">\n<title>1</title>\n<polygon fill=\"#3fa0e6\" stroke=\"black\" points=\"268.5,-127 121.5,-127 121.5,-74 268.5,-74 268.5,-127\"/>\n<text text-anchor=\"middle\" x=\"195\" y=\"-111.8\" font-family=\"Helvetica,sans-Serif\" font-size=\"14.00\">x[26] &lt;= 4.468</text>\n<text text-anchor=\"middle\" x=\"195\" y=\"-96.8\" font-family=\"Helvetica,sans-Serif\" font-size=\"14.00\">samples = 44.4%</text>\n<text text-anchor=\"middle\" x=\"195\" y=\"-81.8\" font-family=\"Helvetica,sans-Serif\" font-size=\"14.00\">value = [0.029, 0.971]</text>\n</g>\n<!-- 0&#45;&gt;1 -->\n<g id=\"edge1\" class=\"edge\">\n<title>0&#45;&gt;1</title>\n<path fill=\"none\" stroke=\"black\" d=\"M252.84,-162.87C244.49,-154.01 235.01,-143.95 226.18,-134.58\"/>\n<polygon fill=\"black\" stroke=\"black\" points=\"228.68,-132.13 219.27,-127.25 223.58,-136.93 228.68,-132.13\"/>\n<text text-anchor=\"middle\" x=\"218.53\" y=\"-148.54\" font-family=\"Helvetica,sans-Serif\" font-size=\"14.00\">True</text>\n</g>\n<!-- 4 -->\n<g id=\"node5\" class=\"node\">\n<title>4</title>\n<polygon fill=\"#ea985d\" stroke=\"black\" points=\"433.5,-127 286.5,-127 286.5,-74 433.5,-74 433.5,-127\"/>\n<text text-anchor=\"middle\" x=\"360\" y=\"-111.8\" font-family=\"Helvetica,sans-Serif\" font-size=\"14.00\">x[17] &lt;= 0.112</text>\n<text text-anchor=\"middle\" x=\"360\" y=\"-96.8\" font-family=\"Helvetica,sans-Serif\" font-size=\"14.00\">samples = 55.6%</text>\n<text text-anchor=\"middle\" x=\"360\" y=\"-81.8\" font-family=\"Helvetica,sans-Serif\" font-size=\"14.00\">value = [0.848, 0.152]</text>\n</g>\n<!-- 0&#45;&gt;4 -->\n<g id=\"edge4\" class=\"edge\">\n<title>0&#45;&gt;4</title>\n<path fill=\"none\" stroke=\"black\" d=\"M301.45,-162.87C309.91,-154.01 319.5,-143.95 328.44,-134.58\"/>\n<polygon fill=\"black\" stroke=\"black\" points=\"331.06,-136.9 335.43,-127.25 326,-132.07 331.06,-136.9\"/>\n<text text-anchor=\"middle\" x=\"336.02\" y=\"-148.54\" font-family=\"Helvetica,sans-Serif\" font-size=\"14.00\">False</text>\n</g>\n<!-- 2 -->\n<g id=\"node3\" class=\"node\">\n<title>2</title>\n<polygon fill=\"#399de5\" stroke=\"black\" points=\"122,-38 0,-38 0,0 122,0 122,-38\"/>\n<text text-anchor=\"middle\" x=\"61\" y=\"-22.8\" font-family=\"Helvetica,sans-Serif\" font-size=\"14.00\">samples = 43.4%</text>\n<text text-anchor=\"middle\" x=\"61\" y=\"-7.8\" font-family=\"Helvetica,sans-Serif\" font-size=\"14.00\">value = [0.0, 1.0]</text>\n</g>\n<!-- 1&#45;&gt;2 -->\n<g id=\"edge2\" class=\"edge\">\n<title>1&#45;&gt;2</title>\n<path fill=\"none\" stroke=\"black\" d=\"M151.86,-73.91C135.34,-64.1 116.58,-52.98 100.42,-43.39\"/>\n<polygon fill=\"black\" stroke=\"black\" points=\"102.13,-40.33 91.74,-38.24 98.56,-46.35 102.13,-40.33\"/>\n</g>\n<!-- 3 -->\n<g id=\"node4\" class=\"node\">\n<title>3</title>\n<polygon fill=\"#e58139\" stroke=\"black\" points=\"257.5,-38 140.5,-38 140.5,0 257.5,0 257.5,-38\"/>\n<text text-anchor=\"middle\" x=\"199\" y=\"-22.8\" font-family=\"Helvetica,sans-Serif\" font-size=\"14.00\">samples = 1.0%</text>\n<text text-anchor=\"middle\" x=\"199\" y=\"-7.8\" font-family=\"Helvetica,sans-Serif\" font-size=\"14.00\">value = [1.0, 0.0]</text>\n</g>\n<!-- 1&#45;&gt;3 -->\n<g id=\"edge3\" class=\"edge\">\n<title>1&#45;&gt;3</title>\n<path fill=\"none\" stroke=\"black\" d=\"M196.29,-73.91C196.7,-65.74 197.16,-56.65 197.58,-48.3\"/>\n<polygon fill=\"black\" stroke=\"black\" points=\"201.08,-48.4 198.08,-38.24 194.08,-48.05 201.08,-48.4\"/>\n</g>\n<!-- 5 -->\n<g id=\"node6\" class=\"node\">\n<title>5</title>\n<polygon fill=\"#fae7da\" stroke=\"black\" points=\"429.5,-38 282.5,-38 282.5,0 429.5,0 429.5,-38\"/>\n<text text-anchor=\"middle\" x=\"356\" y=\"-22.8\" font-family=\"Helvetica,sans-Serif\" font-size=\"14.00\">samples = 19.2%</text>\n<text text-anchor=\"middle\" x=\"356\" y=\"-7.8\" font-family=\"Helvetica,sans-Serif\" font-size=\"14.00\">value = [0.552, 0.448]</text>\n</g>\n<!-- 4&#45;&gt;5 -->\n<g id=\"edge5\" class=\"edge\">\n<title>4&#45;&gt;5</title>\n<path fill=\"none\" stroke=\"black\" d=\"M358.71,-73.91C358.3,-65.74 357.84,-56.65 357.42,-48.3\"/>\n<polygon fill=\"black\" stroke=\"black\" points=\"360.92,-48.05 356.92,-38.24 353.92,-48.4 360.92,-48.05\"/>\n</g>\n<!-- 6 -->\n<g id=\"node7\" class=\"node\">\n<title>6</title>\n<polygon fill=\"#e5833c\" stroke=\"black\" points=\"594.5,-38 447.5,-38 447.5,0 594.5,0 594.5,-38\"/>\n<text text-anchor=\"middle\" x=\"521\" y=\"-22.8\" font-family=\"Helvetica,sans-Serif\" font-size=\"14.00\">samples = 36.4%</text>\n<text text-anchor=\"middle\" x=\"521\" y=\"-7.8\" font-family=\"Helvetica,sans-Serif\" font-size=\"14.00\">value = [0.984, 0.016]</text>\n</g>\n<!-- 4&#45;&gt;6 -->\n<g id=\"edge6\" class=\"edge\">\n<title>4&#45;&gt;6</title>\n<path fill=\"none\" stroke=\"black\" d=\"M411.83,-73.91C432.14,-63.88 455.26,-52.46 474.98,-42.73\"/>\n<polygon fill=\"black\" stroke=\"black\" points=\"476.65,-45.8 484.06,-38.24 473.55,-39.53 476.65,-45.8\"/>\n</g>\n</g>\n</svg>\n",
            "text/plain": [
              "<graphviz.sources.Source at 0x7f08a5c24b80>"
            ]
          },
          "metadata": {}
        },
        {
          "output_type": "display_data",
          "data": {
            "image/svg+xml": "<?xml version=\"1.0\" encoding=\"UTF-8\" standalone=\"no\"?>\n<!DOCTYPE svg PUBLIC \"-//W3C//DTD SVG 1.1//EN\"\n \"http://www.w3.org/Graphics/SVG/1.1/DTD/svg11.dtd\">\n<!-- Generated by graphviz version 2.43.0 (0)\n -->\n<!-- Title: Tree Pages: 1 -->\n<svg width=\"626pt\" height=\"224pt\"\n viewBox=\"0.00 0.00 625.50 224.00\" xmlns=\"http://www.w3.org/2000/svg\" xmlns:xlink=\"http://www.w3.org/1999/xlink\">\n<g id=\"graph0\" class=\"graph\" transform=\"scale(1 1) rotate(0) translate(4 220)\">\n<title>Tree</title>\n<polygon fill=\"white\" stroke=\"transparent\" points=\"-4,4 -4,-220 621.5,-220 621.5,4 -4,4\"/>\n<!-- 0 -->\n<g id=\"node1\" class=\"node\">\n<title>0</title>\n<polygon fill=\"#fdf6f1\" stroke=\"black\" points=\"369.5,-216 222.5,-216 222.5,-163 369.5,-163 369.5,-216\"/>\n<text text-anchor=\"middle\" x=\"296\" y=\"-200.8\" font-family=\"Helvetica,sans-Serif\" font-size=\"14.00\">x[2] &lt;= &#45;0.269</text>\n<text text-anchor=\"middle\" x=\"296\" y=\"-185.8\" font-family=\"Helvetica,sans-Serif\" font-size=\"14.00\">samples = 100.0%</text>\n<text text-anchor=\"middle\" x=\"296\" y=\"-170.8\" font-family=\"Helvetica,sans-Serif\" font-size=\"14.00\">value = [0.519, 0.481]</text>\n</g>\n<!-- 1 -->\n<g id=\"node2\" class=\"node\">\n<title>1</title>\n<polygon fill=\"#45a3e7\" stroke=\"black\" points=\"287.5,-127 140.5,-127 140.5,-74 287.5,-74 287.5,-127\"/>\n<text text-anchor=\"middle\" x=\"214\" y=\"-111.8\" font-family=\"Helvetica,sans-Serif\" font-size=\"14.00\">x[7] &lt;= 0.388</text>\n<text text-anchor=\"middle\" x=\"214\" y=\"-96.8\" font-family=\"Helvetica,sans-Serif\" font-size=\"14.00\">samples = 44.3%</text>\n<text text-anchor=\"middle\" x=\"214\" y=\"-81.8\" font-family=\"Helvetica,sans-Serif\" font-size=\"14.00\">value = [0.056, 0.944]</text>\n</g>\n<!-- 0&#45;&gt;1 -->\n<g id=\"edge1\" class=\"edge\">\n<title>0&#45;&gt;1</title>\n<path fill=\"none\" stroke=\"black\" d=\"M271.84,-162.87C263.49,-154.01 254.01,-143.95 245.18,-134.58\"/>\n<polygon fill=\"black\" stroke=\"black\" points=\"247.68,-132.13 238.27,-127.25 242.58,-136.93 247.68,-132.13\"/>\n<text text-anchor=\"middle\" x=\"237.53\" y=\"-148.54\" font-family=\"Helvetica,sans-Serif\" font-size=\"14.00\">True</text>\n</g>\n<!-- 4 -->\n<g id=\"node5\" class=\"node\">\n<title>4</title>\n<polygon fill=\"#e89152\" stroke=\"black\" points=\"452.5,-127 305.5,-127 305.5,-74 452.5,-74 452.5,-127\"/>\n<text text-anchor=\"middle\" x=\"379\" y=\"-111.8\" font-family=\"Helvetica,sans-Serif\" font-size=\"14.00\">x[12] &lt;= 0.06</text>\n<text text-anchor=\"middle\" x=\"379\" y=\"-96.8\" font-family=\"Helvetica,sans-Serif\" font-size=\"14.00\">samples = 55.7%</text>\n<text text-anchor=\"middle\" x=\"379\" y=\"-81.8\" font-family=\"Helvetica,sans-Serif\" font-size=\"14.00\">value = [0.888, 0.112]</text>\n</g>\n<!-- 0&#45;&gt;4 -->\n<g id=\"edge4\" class=\"edge\">\n<title>0&#45;&gt;4</title>\n<path fill=\"none\" stroke=\"black\" d=\"M320.45,-162.87C328.91,-154.01 338.5,-143.95 347.44,-134.58\"/>\n<polygon fill=\"black\" stroke=\"black\" points=\"350.06,-136.9 354.43,-127.25 345,-132.07 350.06,-136.9\"/>\n<text text-anchor=\"middle\" x=\"355.02\" y=\"-148.54\" font-family=\"Helvetica,sans-Serif\" font-size=\"14.00\">False</text>\n</g>\n<!-- 2 -->\n<g id=\"node3\" class=\"node\">\n<title>2</title>\n<polygon fill=\"#399de5\" stroke=\"black\" points=\"122,-38 0,-38 0,0 122,0 122,-38\"/>\n<text text-anchor=\"middle\" x=\"61\" y=\"-22.8\" font-family=\"Helvetica,sans-Serif\" font-size=\"14.00\">samples = 34.9%</text>\n<text text-anchor=\"middle\" x=\"61\" y=\"-7.8\" font-family=\"Helvetica,sans-Serif\" font-size=\"14.00\">value = [0.0, 1.0]</text>\n</g>\n<!-- 1&#45;&gt;2 -->\n<g id=\"edge2\" class=\"edge\">\n<title>1&#45;&gt;2</title>\n<path fill=\"none\" stroke=\"black\" d=\"M164.75,-73.91C145.53,-63.92 123.67,-52.56 104.99,-42.86\"/>\n<polygon fill=\"black\" stroke=\"black\" points=\"106.59,-39.74 96.1,-38.24 103.36,-45.96 106.59,-39.74\"/>\n</g>\n<!-- 3 -->\n<g id=\"node4\" class=\"node\">\n<title>3</title>\n<polygon fill=\"#91c9f1\" stroke=\"black\" points=\"287.5,-38 140.5,-38 140.5,0 287.5,0 287.5,-38\"/>\n<text text-anchor=\"middle\" x=\"214\" y=\"-22.8\" font-family=\"Helvetica,sans-Serif\" font-size=\"14.00\">samples = 9.4%</text>\n<text text-anchor=\"middle\" x=\"214\" y=\"-7.8\" font-family=\"Helvetica,sans-Serif\" font-size=\"14.00\">value = [0.308, 0.692]</text>\n</g>\n<!-- 1&#45;&gt;3 -->\n<g id=\"edge3\" class=\"edge\">\n<title>1&#45;&gt;3</title>\n<path fill=\"none\" stroke=\"black\" d=\"M214,-73.91C214,-65.74 214,-56.65 214,-48.3\"/>\n<polygon fill=\"black\" stroke=\"black\" points=\"217.5,-48.24 214,-38.24 210.5,-48.24 217.5,-48.24\"/>\n</g>\n<!-- 5 -->\n<g id=\"node6\" class=\"node\">\n<title>5</title>\n<polygon fill=\"#fcf2eb\" stroke=\"black\" points=\"452.5,-38 305.5,-38 305.5,0 452.5,0 452.5,-38\"/>\n<text text-anchor=\"middle\" x=\"379\" y=\"-22.8\" font-family=\"Helvetica,sans-Serif\" font-size=\"14.00\">samples = 13.2%</text>\n<text text-anchor=\"middle\" x=\"379\" y=\"-7.8\" font-family=\"Helvetica,sans-Serif\" font-size=\"14.00\">value = [0.526, 0.474]</text>\n</g>\n<!-- 4&#45;&gt;5 -->\n<g id=\"edge5\" class=\"edge\">\n<title>4&#45;&gt;5</title>\n<path fill=\"none\" stroke=\"black\" d=\"M379,-73.91C379,-65.74 379,-56.65 379,-48.3\"/>\n<polygon fill=\"black\" stroke=\"black\" points=\"382.5,-48.24 379,-38.24 375.5,-48.24 382.5,-48.24\"/>\n</g>\n<!-- 6 -->\n<g id=\"node7\" class=\"node\">\n<title>6</title>\n<polygon fill=\"#e5833c\" stroke=\"black\" points=\"617.5,-38 470.5,-38 470.5,0 617.5,0 617.5,-38\"/>\n<text text-anchor=\"middle\" x=\"544\" y=\"-22.8\" font-family=\"Helvetica,sans-Serif\" font-size=\"14.00\">samples = 42.5%</text>\n<text text-anchor=\"middle\" x=\"544\" y=\"-7.8\" font-family=\"Helvetica,sans-Serif\" font-size=\"14.00\">value = [0.986, 0.014]</text>\n</g>\n<!-- 4&#45;&gt;6 -->\n<g id=\"edge6\" class=\"edge\">\n<title>4&#45;&gt;6</title>\n<path fill=\"none\" stroke=\"black\" d=\"M432.12,-73.91C453.11,-63.79 477.03,-52.27 497.34,-42.48\"/>\n<polygon fill=\"black\" stroke=\"black\" points=\"498.91,-45.61 506.4,-38.12 495.87,-39.3 498.91,-45.61\"/>\n</g>\n</g>\n</svg>\n",
            "text/plain": [
              "<graphviz.sources.Source at 0x7f08a9d8b340>"
            ]
          },
          "metadata": {}
        },
        {
          "output_type": "display_data",
          "data": {
            "image/svg+xml": "<?xml version=\"1.0\" encoding=\"UTF-8\" standalone=\"no\"?>\n<!DOCTYPE svg PUBLIC \"-//W3C//DTD SVG 1.1//EN\"\n \"http://www.w3.org/Graphics/SVG/1.1/DTD/svg11.dtd\">\n<!-- Generated by graphviz version 2.43.0 (0)\n -->\n<!-- Title: Tree Pages: 1 -->\n<svg width=\"602pt\" height=\"224pt\"\n viewBox=\"0.00 0.00 602.00 224.00\" xmlns=\"http://www.w3.org/2000/svg\" xmlns:xlink=\"http://www.w3.org/1999/xlink\">\n<g id=\"graph0\" class=\"graph\" transform=\"scale(1 1) rotate(0) translate(4 220)\">\n<title>Tree</title>\n<polygon fill=\"white\" stroke=\"transparent\" points=\"-4,4 -4,-220 598,-220 598,4 -4,4\"/>\n<!-- 0 -->\n<g id=\"node1\" class=\"node\">\n<title>0</title>\n<polygon fill=\"#fbede3\" stroke=\"black\" points=\"349,-216 202,-216 202,-163 349,-163 349,-216\"/>\n<text text-anchor=\"middle\" x=\"275.5\" y=\"-200.8\" font-family=\"Helvetica,sans-Serif\" font-size=\"14.00\">x[9] &lt;= &#45;0.498</text>\n<text text-anchor=\"middle\" x=\"275.5\" y=\"-185.8\" font-family=\"Helvetica,sans-Serif\" font-size=\"14.00\">samples = 100.0%</text>\n<text text-anchor=\"middle\" x=\"275.5\" y=\"-170.8\" font-family=\"Helvetica,sans-Serif\" font-size=\"14.00\">value = [0.538, 0.462]</text>\n</g>\n<!-- 1 -->\n<g id=\"node2\" class=\"node\">\n<title>1</title>\n<polygon fill=\"#53aae8\" stroke=\"black\" points=\"267,-127 120,-127 120,-74 267,-74 267,-127\"/>\n<text text-anchor=\"middle\" x=\"193.5\" y=\"-111.8\" font-family=\"Helvetica,sans-Serif\" font-size=\"14.00\">x[25] &lt;= &#45;1.329</text>\n<text text-anchor=\"middle\" x=\"193.5\" y=\"-96.8\" font-family=\"Helvetica,sans-Serif\" font-size=\"14.00\">samples = 33.7%</text>\n<text text-anchor=\"middle\" x=\"193.5\" y=\"-81.8\" font-family=\"Helvetica,sans-Serif\" font-size=\"14.00\">value = [0.118, 0.882]</text>\n</g>\n<!-- 0&#45;&gt;1 -->\n<g id=\"edge1\" class=\"edge\">\n<title>0&#45;&gt;1</title>\n<path fill=\"none\" stroke=\"black\" d=\"M251.34,-162.87C242.99,-154.01 233.51,-143.95 224.68,-134.58\"/>\n<polygon fill=\"black\" stroke=\"black\" points=\"227.18,-132.13 217.77,-127.25 222.08,-136.93 227.18,-132.13\"/>\n<text text-anchor=\"middle\" x=\"217.03\" y=\"-148.54\" font-family=\"Helvetica,sans-Serif\" font-size=\"14.00\">True</text>\n</g>\n<!-- 4 -->\n<g id=\"node5\" class=\"node\">\n<title>4</title>\n<polygon fill=\"#eeaf81\" stroke=\"black\" points=\"432,-127 285,-127 285,-74 432,-74 432,-127\"/>\n<text text-anchor=\"middle\" x=\"358.5\" y=\"-111.8\" font-family=\"Helvetica,sans-Serif\" font-size=\"14.00\">x[31] &lt;= &#45;0.569</text>\n<text text-anchor=\"middle\" x=\"358.5\" y=\"-96.8\" font-family=\"Helvetica,sans-Serif\" font-size=\"14.00\">samples = 66.3%</text>\n<text text-anchor=\"middle\" x=\"358.5\" y=\"-81.8\" font-family=\"Helvetica,sans-Serif\" font-size=\"14.00\">value = [0.734, 0.266]</text>\n</g>\n<!-- 0&#45;&gt;4 -->\n<g id=\"edge4\" class=\"edge\">\n<title>0&#45;&gt;4</title>\n<path fill=\"none\" stroke=\"black\" d=\"M299.95,-162.87C308.41,-154.01 318,-143.95 326.94,-134.58\"/>\n<polygon fill=\"black\" stroke=\"black\" points=\"329.56,-136.9 333.93,-127.25 324.5,-132.07 329.56,-136.9\"/>\n<text text-anchor=\"middle\" x=\"334.52\" y=\"-148.54\" font-family=\"Helvetica,sans-Serif\" font-size=\"14.00\">False</text>\n</g>\n<!-- 2 -->\n<g id=\"node3\" class=\"node\">\n<title>2</title>\n<polygon fill=\"#e58139\" stroke=\"black\" points=\"117,-38 0,-38 0,0 117,0 117,-38\"/>\n<text text-anchor=\"middle\" x=\"58.5\" y=\"-22.8\" font-family=\"Helvetica,sans-Serif\" font-size=\"14.00\">samples = 3.8%</text>\n<text text-anchor=\"middle\" x=\"58.5\" y=\"-7.8\" font-family=\"Helvetica,sans-Serif\" font-size=\"14.00\">value = [1.0, 0.0]</text>\n</g>\n<!-- 1&#45;&gt;2 -->\n<g id=\"edge2\" class=\"edge\">\n<title>1&#45;&gt;2</title>\n<path fill=\"none\" stroke=\"black\" d=\"M150.04,-73.91C133.39,-64.1 114.5,-52.98 98.22,-43.39\"/>\n<polygon fill=\"black\" stroke=\"black\" points=\"99.86,-40.3 89.47,-38.24 96.31,-46.33 99.86,-40.3\"/>\n</g>\n<!-- 3 -->\n<g id=\"node4\" class=\"node\">\n<title>3</title>\n<polygon fill=\"#399de5\" stroke=\"black\" points=\"257.5,-38 135.5,-38 135.5,0 257.5,0 257.5,-38\"/>\n<text text-anchor=\"middle\" x=\"196.5\" y=\"-22.8\" font-family=\"Helvetica,sans-Serif\" font-size=\"14.00\">samples = 29.8%</text>\n<text text-anchor=\"middle\" x=\"196.5\" y=\"-7.8\" font-family=\"Helvetica,sans-Serif\" font-size=\"14.00\">value = [0.0, 1.0]</text>\n</g>\n<!-- 1&#45;&gt;3 -->\n<g id=\"edge3\" class=\"edge\">\n<title>1&#45;&gt;3</title>\n<path fill=\"none\" stroke=\"black\" d=\"M194.47,-73.91C194.77,-65.74 195.12,-56.65 195.43,-48.3\"/>\n<polygon fill=\"black\" stroke=\"black\" points=\"198.93,-48.36 195.81,-38.24 191.94,-48.1 198.93,-48.36\"/>\n</g>\n<!-- 5 -->\n<g id=\"node6\" class=\"node\">\n<title>5</title>\n<polygon fill=\"#5baeea\" stroke=\"black\" points=\"429,-38 282,-38 282,0 429,0 429,-38\"/>\n<text text-anchor=\"middle\" x=\"355.5\" y=\"-22.8\" font-family=\"Helvetica,sans-Serif\" font-size=\"14.00\">samples = 15.4%</text>\n<text text-anchor=\"middle\" x=\"355.5\" y=\"-7.8\" font-family=\"Helvetica,sans-Serif\" font-size=\"14.00\">value = [0.148, 0.852]</text>\n</g>\n<!-- 4&#45;&gt;5 -->\n<g id=\"edge5\" class=\"edge\">\n<title>4&#45;&gt;5</title>\n<path fill=\"none\" stroke=\"black\" d=\"M357.53,-73.91C357.23,-65.74 356.88,-56.65 356.57,-48.3\"/>\n<polygon fill=\"black\" stroke=\"black\" points=\"360.06,-48.1 356.19,-38.24 353.07,-48.36 360.06,-48.1\"/>\n</g>\n<!-- 6 -->\n<g id=\"node7\" class=\"node\">\n<title>6</title>\n<polygon fill=\"#e78b49\" stroke=\"black\" points=\"594,-38 447,-38 447,0 594,0 594,-38\"/>\n<text text-anchor=\"middle\" x=\"520.5\" y=\"-22.8\" font-family=\"Helvetica,sans-Serif\" font-size=\"14.00\">samples = 51.0%</text>\n<text text-anchor=\"middle\" x=\"520.5\" y=\"-7.8\" font-family=\"Helvetica,sans-Serif\" font-size=\"14.00\">value = [0.927, 0.073]</text>\n</g>\n<!-- 4&#45;&gt;6 -->\n<g id=\"edge6\" class=\"edge\">\n<title>4&#45;&gt;6</title>\n<path fill=\"none\" stroke=\"black\" d=\"M410.65,-73.91C431.17,-63.84 454.53,-52.37 474.42,-42.61\"/>\n<polygon fill=\"black\" stroke=\"black\" points=\"476.15,-45.66 483.59,-38.12 473.07,-39.38 476.15,-45.66\"/>\n</g>\n</g>\n</svg>\n",
            "text/plain": [
              "<graphviz.sources.Source at 0x7f08a5c24b80>"
            ]
          },
          "metadata": {}
        },
        {
          "output_type": "display_data",
          "data": {
            "image/svg+xml": "<?xml version=\"1.0\" encoding=\"UTF-8\" standalone=\"no\"?>\n<!DOCTYPE svg PUBLIC \"-//W3C//DTD SVG 1.1//EN\"\n \"http://www.w3.org/Graphics/SVG/1.1/DTD/svg11.dtd\">\n<!-- Generated by graphviz version 2.43.0 (0)\n -->\n<!-- Title: Tree Pages: 1 -->\n<svg width=\"603pt\" height=\"224pt\"\n viewBox=\"0.00 0.00 602.50 224.00\" xmlns=\"http://www.w3.org/2000/svg\" xmlns:xlink=\"http://www.w3.org/1999/xlink\">\n<g id=\"graph0\" class=\"graph\" transform=\"scale(1 1) rotate(0) translate(4 220)\">\n<title>Tree</title>\n<polygon fill=\"white\" stroke=\"transparent\" points=\"-4,4 -4,-220 598.5,-220 598.5,4 -4,4\"/>\n<!-- 0 -->\n<g id=\"node1\" class=\"node\">\n<title>0</title>\n<polygon fill=\"#fae8db\" stroke=\"black\" points=\"358,-216 226,-216 226,-163 358,-163 358,-216\"/>\n<text text-anchor=\"middle\" x=\"292\" y=\"-200.8\" font-family=\"Helvetica,sans-Serif\" font-size=\"14.00\">x[17] &lt;= 0.068</text>\n<text text-anchor=\"middle\" x=\"292\" y=\"-185.8\" font-family=\"Helvetica,sans-Serif\" font-size=\"14.00\">samples = 100.0%</text>\n<text text-anchor=\"middle\" x=\"292\" y=\"-170.8\" font-family=\"Helvetica,sans-Serif\" font-size=\"14.00\">value = [0.55, 0.45]</text>\n</g>\n<!-- 1 -->\n<g id=\"node2\" class=\"node\">\n<title>1</title>\n<polygon fill=\"#60b0ea\" stroke=\"black\" points=\"283.5,-127 136.5,-127 136.5,-74 283.5,-74 283.5,-127\"/>\n<text text-anchor=\"middle\" x=\"210\" y=\"-111.8\" font-family=\"Helvetica,sans-Serif\" font-size=\"14.00\">x[15] &lt;= &#45;0.565</text>\n<text text-anchor=\"middle\" x=\"210\" y=\"-96.8\" font-family=\"Helvetica,sans-Serif\" font-size=\"14.00\">samples = 48.1%</text>\n<text text-anchor=\"middle\" x=\"210\" y=\"-81.8\" font-family=\"Helvetica,sans-Serif\" font-size=\"14.00\">value = [0.164, 0.836]</text>\n</g>\n<!-- 0&#45;&gt;1 -->\n<g id=\"edge1\" class=\"edge\">\n<title>0&#45;&gt;1</title>\n<path fill=\"none\" stroke=\"black\" d=\"M267.84,-162.87C259.49,-154.01 250.01,-143.95 241.18,-134.58\"/>\n<polygon fill=\"black\" stroke=\"black\" points=\"243.68,-132.13 234.27,-127.25 238.58,-136.93 243.68,-132.13\"/>\n<text text-anchor=\"middle\" x=\"233.53\" y=\"-148.54\" font-family=\"Helvetica,sans-Serif\" font-size=\"14.00\">True</text>\n</g>\n<!-- 4 -->\n<g id=\"node5\" class=\"node\">\n<title>4</title>\n<polygon fill=\"#e99356\" stroke=\"black\" points=\"448.5,-127 301.5,-127 301.5,-74 448.5,-74 448.5,-127\"/>\n<text text-anchor=\"middle\" x=\"375\" y=\"-111.8\" font-family=\"Helvetica,sans-Serif\" font-size=\"14.00\">x[23] &lt;= &#45;0.85</text>\n<text text-anchor=\"middle\" x=\"375\" y=\"-96.8\" font-family=\"Helvetica,sans-Serif\" font-size=\"14.00\">samples = 51.9%</text>\n<text text-anchor=\"middle\" x=\"375\" y=\"-81.8\" font-family=\"Helvetica,sans-Serif\" font-size=\"14.00\">value = [0.874, 0.126]</text>\n</g>\n<!-- 0&#45;&gt;4 -->\n<g id=\"edge4\" class=\"edge\">\n<title>0&#45;&gt;4</title>\n<path fill=\"none\" stroke=\"black\" d=\"M316.45,-162.87C324.91,-154.01 334.5,-143.95 343.44,-134.58\"/>\n<polygon fill=\"black\" stroke=\"black\" points=\"346.06,-136.9 350.43,-127.25 341,-132.07 346.06,-136.9\"/>\n<text text-anchor=\"middle\" x=\"351.02\" y=\"-148.54\" font-family=\"Helvetica,sans-Serif\" font-size=\"14.00\">False</text>\n</g>\n<!-- 2 -->\n<g id=\"node3\" class=\"node\">\n<title>2</title>\n<polygon fill=\"#399de5\" stroke=\"black\" points=\"122,-38 0,-38 0,0 122,0 122,-38\"/>\n<text text-anchor=\"middle\" x=\"61\" y=\"-22.8\" font-family=\"Helvetica,sans-Serif\" font-size=\"14.00\">samples = 36.5%</text>\n<text text-anchor=\"middle\" x=\"61\" y=\"-7.8\" font-family=\"Helvetica,sans-Serif\" font-size=\"14.00\">value = [0.0, 1.0]</text>\n</g>\n<!-- 1&#45;&gt;2 -->\n<g id=\"edge2\" class=\"edge\">\n<title>1&#45;&gt;2</title>\n<path fill=\"none\" stroke=\"black\" d=\"M162.04,-73.91C143.49,-64.01 122.42,-52.77 104.34,-43.12\"/>\n<polygon fill=\"black\" stroke=\"black\" points=\"105.65,-39.86 95.18,-38.24 102.36,-46.03 105.65,-39.86\"/>\n</g>\n<!-- 3 -->\n<g id=\"node4\" class=\"node\">\n<title>3</title>\n<polygon fill=\"#e9965a\" stroke=\"black\" points=\"287.5,-38 140.5,-38 140.5,0 287.5,0 287.5,-38\"/>\n<text text-anchor=\"middle\" x=\"214\" y=\"-22.8\" font-family=\"Helvetica,sans-Serif\" font-size=\"14.00\">samples = 11.5%</text>\n<text text-anchor=\"middle\" x=\"214\" y=\"-7.8\" font-family=\"Helvetica,sans-Serif\" font-size=\"14.00\">value = [0.857, 0.143]</text>\n</g>\n<!-- 1&#45;&gt;3 -->\n<g id=\"edge3\" class=\"edge\">\n<title>1&#45;&gt;3</title>\n<path fill=\"none\" stroke=\"black\" d=\"M211.29,-73.91C211.7,-65.74 212.16,-56.65 212.58,-48.3\"/>\n<polygon fill=\"black\" stroke=\"black\" points=\"216.08,-48.4 213.08,-38.24 209.08,-48.05 216.08,-48.4\"/>\n</g>\n<!-- 5 -->\n<g id=\"node6\" class=\"node\">\n<title>5</title>\n<polygon fill=\"#399de5\" stroke=\"black\" points=\"429.5,-38 312.5,-38 312.5,0 429.5,0 429.5,-38\"/>\n<text text-anchor=\"middle\" x=\"371\" y=\"-22.8\" font-family=\"Helvetica,sans-Serif\" font-size=\"14.00\">samples = 3.8%</text>\n<text text-anchor=\"middle\" x=\"371\" y=\"-7.8\" font-family=\"Helvetica,sans-Serif\" font-size=\"14.00\">value = [0.0, 1.0]</text>\n</g>\n<!-- 4&#45;&gt;5 -->\n<g id=\"edge5\" class=\"edge\">\n<title>4&#45;&gt;5</title>\n<path fill=\"none\" stroke=\"black\" d=\"M373.71,-73.91C373.3,-65.74 372.84,-56.65 372.42,-48.3\"/>\n<polygon fill=\"black\" stroke=\"black\" points=\"375.92,-48.05 371.92,-38.24 368.92,-48.4 375.92,-48.05\"/>\n</g>\n<!-- 6 -->\n<g id=\"node7\" class=\"node\">\n<title>6</title>\n<polygon fill=\"#e68641\" stroke=\"black\" points=\"594.5,-38 447.5,-38 447.5,0 594.5,0 594.5,-38\"/>\n<text text-anchor=\"middle\" x=\"521\" y=\"-22.8\" font-family=\"Helvetica,sans-Serif\" font-size=\"14.00\">samples = 48.1%</text>\n<text text-anchor=\"middle\" x=\"521\" y=\"-7.8\" font-family=\"Helvetica,sans-Serif\" font-size=\"14.00\">value = [0.962, 0.038]</text>\n</g>\n<!-- 4&#45;&gt;6 -->\n<g id=\"edge6\" class=\"edge\">\n<title>4&#45;&gt;6</title>\n<path fill=\"none\" stroke=\"black\" d=\"M422,-73.91C440.17,-64.01 460.82,-52.77 478.53,-43.12\"/>\n<polygon fill=\"black\" stroke=\"black\" points=\"480.4,-46.09 487.5,-38.24 477.05,-39.95 480.4,-46.09\"/>\n</g>\n</g>\n</svg>\n",
            "text/plain": [
              "<graphviz.sources.Source at 0x7f08a9d8b340>"
            ]
          },
          "metadata": {}
        },
        {
          "output_type": "display_data",
          "data": {
            "image/svg+xml": "<?xml version=\"1.0\" encoding=\"UTF-8\" standalone=\"no\"?>\n<!DOCTYPE svg PUBLIC \"-//W3C//DTD SVG 1.1//EN\"\n \"http://www.w3.org/Graphics/SVG/1.1/DTD/svg11.dtd\">\n<!-- Generated by graphviz version 2.43.0 (0)\n -->\n<!-- Title: Tree Pages: 1 -->\n<svg width=\"602pt\" height=\"224pt\"\n viewBox=\"0.00 0.00 602.00 224.00\" xmlns=\"http://www.w3.org/2000/svg\" xmlns:xlink=\"http://www.w3.org/1999/xlink\">\n<g id=\"graph0\" class=\"graph\" transform=\"scale(1 1) rotate(0) translate(4 220)\">\n<title>Tree</title>\n<polygon fill=\"white\" stroke=\"transparent\" points=\"-4,4 -4,-220 598,-220 598,4 -4,4\"/>\n<!-- 0 -->\n<g id=\"node1\" class=\"node\">\n<title>0</title>\n<polygon fill=\"#fdf6f1\" stroke=\"black\" points=\"349,-216 202,-216 202,-163 349,-163 349,-216\"/>\n<text text-anchor=\"middle\" x=\"275.5\" y=\"-200.8\" font-family=\"Helvetica,sans-Serif\" font-size=\"14.00\">x[3] &lt;= &#45;0.784</text>\n<text text-anchor=\"middle\" x=\"275.5\" y=\"-185.8\" font-family=\"Helvetica,sans-Serif\" font-size=\"14.00\">samples = 100.0%</text>\n<text text-anchor=\"middle\" x=\"275.5\" y=\"-170.8\" font-family=\"Helvetica,sans-Serif\" font-size=\"14.00\">value = [0.519, 0.481]</text>\n</g>\n<!-- 1 -->\n<g id=\"node2\" class=\"node\">\n<title>1</title>\n<polygon fill=\"#3ea0e6\" stroke=\"black\" points=\"267,-127 120,-127 120,-74 267,-74 267,-127\"/>\n<text text-anchor=\"middle\" x=\"193.5\" y=\"-111.8\" font-family=\"Helvetica,sans-Serif\" font-size=\"14.00\">x[14] &lt;= 0.008</text>\n<text text-anchor=\"middle\" x=\"193.5\" y=\"-96.8\" font-family=\"Helvetica,sans-Serif\" font-size=\"14.00\">samples = 23.3%</text>\n<text text-anchor=\"middle\" x=\"193.5\" y=\"-81.8\" font-family=\"Helvetica,sans-Serif\" font-size=\"14.00\">value = [0.026, 0.974]</text>\n</g>\n<!-- 0&#45;&gt;1 -->\n<g id=\"edge1\" class=\"edge\">\n<title>0&#45;&gt;1</title>\n<path fill=\"none\" stroke=\"black\" d=\"M251.34,-162.87C242.99,-154.01 233.51,-143.95 224.68,-134.58\"/>\n<polygon fill=\"black\" stroke=\"black\" points=\"227.18,-132.13 217.77,-127.25 222.08,-136.93 227.18,-132.13\"/>\n<text text-anchor=\"middle\" x=\"217.03\" y=\"-148.54\" font-family=\"Helvetica,sans-Serif\" font-size=\"14.00\">True</text>\n</g>\n<!-- 4 -->\n<g id=\"node5\" class=\"node\">\n<title>4</title>\n<polygon fill=\"#f2be9a\" stroke=\"black\" points=\"432,-127 285,-127 285,-74 432,-74 432,-127\"/>\n<text text-anchor=\"middle\" x=\"358.5\" y=\"-111.8\" font-family=\"Helvetica,sans-Serif\" font-size=\"14.00\">x[31] &lt;= &#45;0.024</text>\n<text text-anchor=\"middle\" x=\"358.5\" y=\"-96.8\" font-family=\"Helvetica,sans-Serif\" font-size=\"14.00\">samples = 76.7%</text>\n<text text-anchor=\"middle\" x=\"358.5\" y=\"-81.8\" font-family=\"Helvetica,sans-Serif\" font-size=\"14.00\">value = [0.672, 0.328]</text>\n</g>\n<!-- 0&#45;&gt;4 -->\n<g id=\"edge4\" class=\"edge\">\n<title>0&#45;&gt;4</title>\n<path fill=\"none\" stroke=\"black\" d=\"M299.95,-162.87C308.41,-154.01 318,-143.95 326.94,-134.58\"/>\n<polygon fill=\"black\" stroke=\"black\" points=\"329.56,-136.9 333.93,-127.25 324.5,-132.07 329.56,-136.9\"/>\n<text text-anchor=\"middle\" x=\"334.52\" y=\"-148.54\" font-family=\"Helvetica,sans-Serif\" font-size=\"14.00\">False</text>\n</g>\n<!-- 2 -->\n<g id=\"node3\" class=\"node\">\n<title>2</title>\n<polygon fill=\"#e58139\" stroke=\"black\" points=\"117,-38 0,-38 0,0 117,0 117,-38\"/>\n<text text-anchor=\"middle\" x=\"58.5\" y=\"-22.8\" font-family=\"Helvetica,sans-Serif\" font-size=\"14.00\">samples = 1.0%</text>\n<text text-anchor=\"middle\" x=\"58.5\" y=\"-7.8\" font-family=\"Helvetica,sans-Serif\" font-size=\"14.00\">value = [1.0, 0.0]</text>\n</g>\n<!-- 1&#45;&gt;2 -->\n<g id=\"edge2\" class=\"edge\">\n<title>1&#45;&gt;2</title>\n<path fill=\"none\" stroke=\"black\" d=\"M150.04,-73.91C133.39,-64.1 114.5,-52.98 98.22,-43.39\"/>\n<polygon fill=\"black\" stroke=\"black\" points=\"99.86,-40.3 89.47,-38.24 96.31,-46.33 99.86,-40.3\"/>\n</g>\n<!-- 3 -->\n<g id=\"node4\" class=\"node\">\n<title>3</title>\n<polygon fill=\"#399de5\" stroke=\"black\" points=\"257.5,-38 135.5,-38 135.5,0 257.5,0 257.5,-38\"/>\n<text text-anchor=\"middle\" x=\"196.5\" y=\"-22.8\" font-family=\"Helvetica,sans-Serif\" font-size=\"14.00\">samples = 22.3%</text>\n<text text-anchor=\"middle\" x=\"196.5\" y=\"-7.8\" font-family=\"Helvetica,sans-Serif\" font-size=\"14.00\">value = [0.0, 1.0]</text>\n</g>\n<!-- 1&#45;&gt;3 -->\n<g id=\"edge3\" class=\"edge\">\n<title>1&#45;&gt;3</title>\n<path fill=\"none\" stroke=\"black\" d=\"M194.47,-73.91C194.77,-65.74 195.12,-56.65 195.43,-48.3\"/>\n<polygon fill=\"black\" stroke=\"black\" points=\"198.93,-48.36 195.81,-38.24 191.94,-48.1 198.93,-48.36\"/>\n</g>\n<!-- 5 -->\n<g id=\"node6\" class=\"node\">\n<title>5</title>\n<polygon fill=\"#6db7ec\" stroke=\"black\" points=\"429,-38 282,-38 282,0 429,0 429,-38\"/>\n<text text-anchor=\"middle\" x=\"355.5\" y=\"-22.8\" font-family=\"Helvetica,sans-Serif\" font-size=\"14.00\">samples = 33.0%</text>\n<text text-anchor=\"middle\" x=\"355.5\" y=\"-7.8\" font-family=\"Helvetica,sans-Serif\" font-size=\"14.00\">value = [0.208, 0.792]</text>\n</g>\n<!-- 4&#45;&gt;5 -->\n<g id=\"edge5\" class=\"edge\">\n<title>4&#45;&gt;5</title>\n<path fill=\"none\" stroke=\"black\" d=\"M357.53,-73.91C357.23,-65.74 356.88,-56.65 356.57,-48.3\"/>\n<polygon fill=\"black\" stroke=\"black\" points=\"360.06,-48.1 356.19,-38.24 353.07,-48.36 360.06,-48.1\"/>\n</g>\n<!-- 6 -->\n<g id=\"node7\" class=\"node\">\n<title>6</title>\n<polygon fill=\"#e6843e\" stroke=\"black\" points=\"594,-38 447,-38 447,0 594,0 594,-38\"/>\n<text text-anchor=\"middle\" x=\"520.5\" y=\"-22.8\" font-family=\"Helvetica,sans-Serif\" font-size=\"14.00\">samples = 43.7%</text>\n<text text-anchor=\"middle\" x=\"520.5\" y=\"-7.8\" font-family=\"Helvetica,sans-Serif\" font-size=\"14.00\">value = [0.973, 0.027]</text>\n</g>\n<!-- 4&#45;&gt;6 -->\n<g id=\"edge6\" class=\"edge\">\n<title>4&#45;&gt;6</title>\n<path fill=\"none\" stroke=\"black\" d=\"M410.65,-73.91C431.17,-63.84 454.53,-52.37 474.42,-42.61\"/>\n<polygon fill=\"black\" stroke=\"black\" points=\"476.15,-45.66 483.59,-38.12 473.07,-39.38 476.15,-45.66\"/>\n</g>\n</g>\n</svg>\n",
            "text/plain": [
              "<graphviz.sources.Source at 0x7f08a5c24b80>"
            ]
          },
          "metadata": {}
        },
        {
          "output_type": "display_data",
          "data": {
            "image/svg+xml": "<?xml version=\"1.0\" encoding=\"UTF-8\" standalone=\"no\"?>\n<!DOCTYPE svg PUBLIC \"-//W3C//DTD SVG 1.1//EN\"\n \"http://www.w3.org/Graphics/SVG/1.1/DTD/svg11.dtd\">\n<!-- Generated by graphviz version 2.43.0 (0)\n -->\n<!-- Title: Tree Pages: 1 -->\n<svg width=\"636pt\" height=\"224pt\"\n viewBox=\"0.00 0.00 635.50 224.00\" xmlns=\"http://www.w3.org/2000/svg\" xmlns:xlink=\"http://www.w3.org/1999/xlink\">\n<g id=\"graph0\" class=\"graph\" transform=\"scale(1 1) rotate(0) translate(4 220)\">\n<title>Tree</title>\n<polygon fill=\"white\" stroke=\"transparent\" points=\"-4,4 -4,-220 631.5,-220 631.5,4 -4,4\"/>\n<!-- 0 -->\n<g id=\"node1\" class=\"node\">\n<title>0</title>\n<polygon fill=\"#fae8db\" stroke=\"black\" points=\"372,-216 240,-216 240,-163 372,-163 372,-216\"/>\n<text text-anchor=\"middle\" x=\"306\" y=\"-200.8\" font-family=\"Helvetica,sans-Serif\" font-size=\"14.00\">x[0] &lt;= &#45;0.422</text>\n<text text-anchor=\"middle\" x=\"306\" y=\"-185.8\" font-family=\"Helvetica,sans-Serif\" font-size=\"14.00\">samples = 100.0%</text>\n<text text-anchor=\"middle\" x=\"306\" y=\"-170.8\" font-family=\"Helvetica,sans-Serif\" font-size=\"14.00\">value = [0.55, 0.45]</text>\n</g>\n<!-- 1 -->\n<g id=\"node2\" class=\"node\">\n<title>1</title>\n<polygon fill=\"#63b2ea\" stroke=\"black\" points=\"297.5,-127 150.5,-127 150.5,-74 297.5,-74 297.5,-127\"/>\n<text text-anchor=\"middle\" x=\"224\" y=\"-111.8\" font-family=\"Helvetica,sans-Serif\" font-size=\"14.00\">x[26] &lt;= 0.106</text>\n<text text-anchor=\"middle\" x=\"224\" y=\"-96.8\" font-family=\"Helvetica,sans-Serif\" font-size=\"14.00\">samples = 44.9%</text>\n<text text-anchor=\"middle\" x=\"224\" y=\"-81.8\" font-family=\"Helvetica,sans-Serif\" font-size=\"14.00\">value = [0.175, 0.825]</text>\n</g>\n<!-- 0&#45;&gt;1 -->\n<g id=\"edge1\" class=\"edge\">\n<title>0&#45;&gt;1</title>\n<path fill=\"none\" stroke=\"black\" d=\"M281.84,-162.87C273.49,-154.01 264.01,-143.95 255.18,-134.58\"/>\n<polygon fill=\"black\" stroke=\"black\" points=\"257.68,-132.13 248.27,-127.25 252.58,-136.93 257.68,-132.13\"/>\n<text text-anchor=\"middle\" x=\"247.53\" y=\"-148.54\" font-family=\"Helvetica,sans-Serif\" font-size=\"14.00\">True</text>\n</g>\n<!-- 4 -->\n<g id=\"node5\" class=\"node\">\n<title>4</title>\n<polygon fill=\"#eca26c\" stroke=\"black\" points=\"462.5,-127 315.5,-127 315.5,-74 462.5,-74 462.5,-127\"/>\n<text text-anchor=\"middle\" x=\"389\" y=\"-111.8\" font-family=\"Helvetica,sans-Serif\" font-size=\"14.00\">x[49] &lt;= 0.128</text>\n<text text-anchor=\"middle\" x=\"389\" y=\"-96.8\" font-family=\"Helvetica,sans-Serif\" font-size=\"14.00\">samples = 55.1%</text>\n<text text-anchor=\"middle\" x=\"389\" y=\"-81.8\" font-family=\"Helvetica,sans-Serif\" font-size=\"14.00\">value = [0.794, 0.206]</text>\n</g>\n<!-- 0&#45;&gt;4 -->\n<g id=\"edge4\" class=\"edge\">\n<title>0&#45;&gt;4</title>\n<path fill=\"none\" stroke=\"black\" d=\"M330.45,-162.87C338.91,-154.01 348.5,-143.95 357.44,-134.58\"/>\n<polygon fill=\"black\" stroke=\"black\" points=\"360.06,-136.9 364.43,-127.25 355,-132.07 360.06,-136.9\"/>\n<text text-anchor=\"middle\" x=\"365.02\" y=\"-148.54\" font-family=\"Helvetica,sans-Serif\" font-size=\"14.00\">False</text>\n</g>\n<!-- 2 -->\n<g id=\"node3\" class=\"node\">\n<title>2</title>\n<polygon fill=\"#3d9fe6\" stroke=\"black\" points=\"132,-38 0,-38 0,0 132,0 132,-38\"/>\n<text text-anchor=\"middle\" x=\"66\" y=\"-22.8\" font-family=\"Helvetica,sans-Serif\" font-size=\"14.00\">samples = 35.5%</text>\n<text text-anchor=\"middle\" x=\"66\" y=\"-7.8\" font-family=\"Helvetica,sans-Serif\" font-size=\"14.00\">value = [0.02, 0.98]</text>\n</g>\n<!-- 1&#45;&gt;2 -->\n<g id=\"edge2\" class=\"edge\">\n<title>1&#45;&gt;2</title>\n<path fill=\"none\" stroke=\"black\" d=\"M173.14,-73.91C153.29,-63.92 130.72,-52.56 111.43,-42.86\"/>\n<polygon fill=\"black\" stroke=\"black\" points=\"112.75,-39.61 102.25,-38.24 109.61,-45.86 112.75,-39.61\"/>\n</g>\n<!-- 3 -->\n<g id=\"node4\" class=\"node\">\n<title>3</title>\n<polygon fill=\"#eda774\" stroke=\"black\" points=\"297.5,-38 150.5,-38 150.5,0 297.5,0 297.5,-38\"/>\n<text text-anchor=\"middle\" x=\"224\" y=\"-22.8\" font-family=\"Helvetica,sans-Serif\" font-size=\"14.00\">samples = 9.3%</text>\n<text text-anchor=\"middle\" x=\"224\" y=\"-7.8\" font-family=\"Helvetica,sans-Serif\" font-size=\"14.00\">value = [0.769, 0.231]</text>\n</g>\n<!-- 1&#45;&gt;3 -->\n<g id=\"edge3\" class=\"edge\">\n<title>1&#45;&gt;3</title>\n<path fill=\"none\" stroke=\"black\" d=\"M224,-73.91C224,-65.74 224,-56.65 224,-48.3\"/>\n<polygon fill=\"black\" stroke=\"black\" points=\"227.5,-48.24 224,-38.24 220.5,-48.24 227.5,-48.24\"/>\n</g>\n<!-- 5 -->\n<g id=\"node6\" class=\"node\">\n<title>5</title>\n<polygon fill=\"#e68641\" stroke=\"black\" points=\"462.5,-38 315.5,-38 315.5,0 462.5,0 462.5,-38\"/>\n<text text-anchor=\"middle\" x=\"389\" y=\"-22.8\" font-family=\"Helvetica,sans-Serif\" font-size=\"14.00\">samples = 41.1%</text>\n<text text-anchor=\"middle\" x=\"389\" y=\"-7.8\" font-family=\"Helvetica,sans-Serif\" font-size=\"14.00\">value = [0.959, 0.041]</text>\n</g>\n<!-- 4&#45;&gt;5 -->\n<g id=\"edge5\" class=\"edge\">\n<title>4&#45;&gt;5</title>\n<path fill=\"none\" stroke=\"black\" d=\"M389,-73.91C389,-65.74 389,-56.65 389,-48.3\"/>\n<polygon fill=\"black\" stroke=\"black\" points=\"392.5,-48.24 389,-38.24 385.5,-48.24 392.5,-48.24\"/>\n</g>\n<!-- 6 -->\n<g id=\"node7\" class=\"node\">\n<title>6</title>\n<polygon fill=\"#8bc5f0\" stroke=\"black\" points=\"627.5,-38 480.5,-38 480.5,0 627.5,0 627.5,-38\"/>\n<text text-anchor=\"middle\" x=\"554\" y=\"-22.8\" font-family=\"Helvetica,sans-Serif\" font-size=\"14.00\">samples = 14.0%</text>\n<text text-anchor=\"middle\" x=\"554\" y=\"-7.8\" font-family=\"Helvetica,sans-Serif\" font-size=\"14.00\">value = [0.292, 0.708]</text>\n</g>\n<!-- 4&#45;&gt;6 -->\n<g id=\"edge6\" class=\"edge\">\n<title>4&#45;&gt;6</title>\n<path fill=\"none\" stroke=\"black\" d=\"M442.12,-73.91C463.11,-63.79 487.03,-52.27 507.34,-42.48\"/>\n<polygon fill=\"black\" stroke=\"black\" points=\"508.91,-45.61 516.4,-38.12 505.87,-39.3 508.91,-45.61\"/>\n</g>\n</g>\n</svg>\n",
            "text/plain": [
              "<graphviz.sources.Source at 0x7f08a9d8b340>"
            ]
          },
          "metadata": {}
        },
        {
          "output_type": "display_data",
          "data": {
            "image/svg+xml": "<?xml version=\"1.0\" encoding=\"UTF-8\" standalone=\"no\"?>\n<!DOCTYPE svg PUBLIC \"-//W3C//DTD SVG 1.1//EN\"\n \"http://www.w3.org/Graphics/SVG/1.1/DTD/svg11.dtd\">\n<!-- Generated by graphviz version 2.43.0 (0)\n -->\n<!-- Title: Tree Pages: 1 -->\n<svg width=\"605pt\" height=\"224pt\"\n viewBox=\"0.00 0.00 605.00 224.00\" xmlns=\"http://www.w3.org/2000/svg\" xmlns:xlink=\"http://www.w3.org/1999/xlink\">\n<g id=\"graph0\" class=\"graph\" transform=\"scale(1 1) rotate(0) translate(4 220)\">\n<title>Tree</title>\n<polygon fill=\"white\" stroke=\"transparent\" points=\"-4,4 -4,-220 601,-220 601,4 -4,4\"/>\n<!-- 0 -->\n<g id=\"node1\" class=\"node\">\n<title>0</title>\n<polygon fill=\"#f8decb\" stroke=\"black\" points=\"371,-216 224,-216 224,-163 371,-163 371,-216\"/>\n<text text-anchor=\"middle\" x=\"297.5\" y=\"-200.8\" font-family=\"Helvetica,sans-Serif\" font-size=\"14.00\">x[31] &lt;= &#45;0.428</text>\n<text text-anchor=\"middle\" x=\"297.5\" y=\"-185.8\" font-family=\"Helvetica,sans-Serif\" font-size=\"14.00\">samples = 100.0%</text>\n<text text-anchor=\"middle\" x=\"297.5\" y=\"-170.8\" font-family=\"Helvetica,sans-Serif\" font-size=\"14.00\">value = [0.575, 0.425]</text>\n</g>\n<!-- 1 -->\n<g id=\"node2\" class=\"node\">\n<title>1</title>\n<polygon fill=\"#58ace9\" stroke=\"black\" points=\"289,-127 142,-127 142,-74 289,-74 289,-127\"/>\n<text text-anchor=\"middle\" x=\"215.5\" y=\"-111.8\" font-family=\"Helvetica,sans-Serif\" font-size=\"14.00\">x[37] &lt;= 1.571</text>\n<text text-anchor=\"middle\" x=\"215.5\" y=\"-96.8\" font-family=\"Helvetica,sans-Serif\" font-size=\"14.00\">samples = 35.8%</text>\n<text text-anchor=\"middle\" x=\"215.5\" y=\"-81.8\" font-family=\"Helvetica,sans-Serif\" font-size=\"14.00\">value = [0.136, 0.864]</text>\n</g>\n<!-- 0&#45;&gt;1 -->\n<g id=\"edge1\" class=\"edge\">\n<title>0&#45;&gt;1</title>\n<path fill=\"none\" stroke=\"black\" d=\"M273.34,-162.87C264.99,-154.01 255.51,-143.95 246.68,-134.58\"/>\n<polygon fill=\"black\" stroke=\"black\" points=\"249.18,-132.13 239.77,-127.25 244.08,-136.93 249.18,-132.13\"/>\n<text text-anchor=\"middle\" x=\"239.03\" y=\"-148.54\" font-family=\"Helvetica,sans-Serif\" font-size=\"14.00\">True</text>\n</g>\n<!-- 4 -->\n<g id=\"node5\" class=\"node\">\n<title>4</title>\n<polygon fill=\"#ea9a61\" stroke=\"black\" points=\"454,-127 307,-127 307,-74 454,-74 454,-127\"/>\n<text text-anchor=\"middle\" x=\"380.5\" y=\"-111.8\" font-family=\"Helvetica,sans-Serif\" font-size=\"14.00\">x[24] &lt;= &#45;1.015</text>\n<text text-anchor=\"middle\" x=\"380.5\" y=\"-96.8\" font-family=\"Helvetica,sans-Serif\" font-size=\"14.00\">samples = 64.2%</text>\n<text text-anchor=\"middle\" x=\"380.5\" y=\"-81.8\" font-family=\"Helvetica,sans-Serif\" font-size=\"14.00\">value = [0.832, 0.168]</text>\n</g>\n<!-- 0&#45;&gt;4 -->\n<g id=\"edge4\" class=\"edge\">\n<title>0&#45;&gt;4</title>\n<path fill=\"none\" stroke=\"black\" d=\"M321.95,-162.87C330.41,-154.01 340,-143.95 348.94,-134.58\"/>\n<polygon fill=\"black\" stroke=\"black\" points=\"351.56,-136.9 355.93,-127.25 346.5,-132.07 351.56,-136.9\"/>\n<text text-anchor=\"middle\" x=\"356.52\" y=\"-148.54\" font-family=\"Helvetica,sans-Serif\" font-size=\"14.00\">False</text>\n</g>\n<!-- 2 -->\n<g id=\"node3\" class=\"node\">\n<title>2</title>\n<polygon fill=\"#41a1e6\" stroke=\"black\" points=\"147,-38 0,-38 0,0 147,0 147,-38\"/>\n<text text-anchor=\"middle\" x=\"73.5\" y=\"-22.8\" font-family=\"Helvetica,sans-Serif\" font-size=\"14.00\">samples = 33.7%</text>\n<text text-anchor=\"middle\" x=\"73.5\" y=\"-7.8\" font-family=\"Helvetica,sans-Serif\" font-size=\"14.00\">value = [0.038, 0.962]</text>\n</g>\n<!-- 1&#45;&gt;2 -->\n<g id=\"edge2\" class=\"edge\">\n<title>1&#45;&gt;2</title>\n<path fill=\"none\" stroke=\"black\" d=\"M169.79,-73.91C152.28,-64.1 132.4,-52.98 115.28,-43.39\"/>\n<polygon fill=\"black\" stroke=\"black\" points=\"116.51,-40.07 106.08,-38.24 113.09,-46.18 116.51,-40.07\"/>\n</g>\n<!-- 3 -->\n<g id=\"node4\" class=\"node\">\n<title>3</title>\n<polygon fill=\"#e58139\" stroke=\"black\" points=\"282,-38 165,-38 165,0 282,0 282,-38\"/>\n<text text-anchor=\"middle\" x=\"223.5\" y=\"-22.8\" font-family=\"Helvetica,sans-Serif\" font-size=\"14.00\">samples = 2.1%</text>\n<text text-anchor=\"middle\" x=\"223.5\" y=\"-7.8\" font-family=\"Helvetica,sans-Serif\" font-size=\"14.00\">value = [1.0, 0.0]</text>\n</g>\n<!-- 1&#45;&gt;3 -->\n<g id=\"edge3\" class=\"edge\">\n<title>1&#45;&gt;3</title>\n<path fill=\"none\" stroke=\"black\" d=\"M218.08,-73.91C218.9,-65.74 219.81,-56.65 220.65,-48.3\"/>\n<polygon fill=\"black\" stroke=\"black\" points=\"224.15,-48.54 221.66,-38.24 217.18,-47.84 224.15,-48.54\"/>\n</g>\n<!-- 5 -->\n<g id=\"node6\" class=\"node\">\n<title>5</title>\n<polygon fill=\"#399de5\" stroke=\"black\" points=\"432,-38 315,-38 315,0 432,0 432,-38\"/>\n<text text-anchor=\"middle\" x=\"373.5\" y=\"-22.8\" font-family=\"Helvetica,sans-Serif\" font-size=\"14.00\">samples = 7.4%</text>\n<text text-anchor=\"middle\" x=\"373.5\" y=\"-7.8\" font-family=\"Helvetica,sans-Serif\" font-size=\"14.00\">value = [0.0, 1.0]</text>\n</g>\n<!-- 4&#45;&gt;5 -->\n<g id=\"edge5\" class=\"edge\">\n<title>4&#45;&gt;5</title>\n<path fill=\"none\" stroke=\"black\" d=\"M378.25,-73.91C377.53,-65.74 376.73,-56.65 375.99,-48.3\"/>\n<polygon fill=\"black\" stroke=\"black\" points=\"379.47,-47.89 375.11,-38.24 372.5,-48.51 379.47,-47.89\"/>\n</g>\n<!-- 6 -->\n<g id=\"node7\" class=\"node\">\n<title>6</title>\n<polygon fill=\"#e78c49\" stroke=\"black\" points=\"597,-38 450,-38 450,0 597,0 597,-38\"/>\n<text text-anchor=\"middle\" x=\"523.5\" y=\"-22.8\" font-family=\"Helvetica,sans-Serif\" font-size=\"14.00\">samples = 56.8%</text>\n<text text-anchor=\"middle\" x=\"523.5\" y=\"-7.8\" font-family=\"Helvetica,sans-Serif\" font-size=\"14.00\">value = [0.923, 0.077]</text>\n</g>\n<!-- 4&#45;&gt;6 -->\n<g id=\"edge6\" class=\"edge\">\n<title>4&#45;&gt;6</title>\n<path fill=\"none\" stroke=\"black\" d=\"M426.53,-73.91C444.33,-64.01 464.55,-52.77 481.91,-43.12\"/>\n<polygon fill=\"black\" stroke=\"black\" points=\"483.65,-46.16 490.69,-38.24 480.25,-40.04 483.65,-46.16\"/>\n</g>\n</g>\n</svg>\n",
            "text/plain": [
              "<graphviz.sources.Source at 0x7f08a5c24b80>"
            ]
          },
          "metadata": {}
        },
        {
          "output_type": "display_data",
          "data": {
            "image/svg+xml": "<?xml version=\"1.0\" encoding=\"UTF-8\" standalone=\"no\"?>\n<!DOCTYPE svg PUBLIC \"-//W3C//DTD SVG 1.1//EN\"\n \"http://www.w3.org/Graphics/SVG/1.1/DTD/svg11.dtd\">\n<!-- Generated by graphviz version 2.43.0 (0)\n -->\n<!-- Title: Tree Pages: 1 -->\n<svg width=\"624pt\" height=\"224pt\"\n viewBox=\"0.00 0.00 624.00 224.00\" xmlns=\"http://www.w3.org/2000/svg\" xmlns:xlink=\"http://www.w3.org/1999/xlink\">\n<g id=\"graph0\" class=\"graph\" transform=\"scale(1 1) rotate(0) translate(4 220)\">\n<title>Tree</title>\n<polygon fill=\"white\" stroke=\"transparent\" points=\"-4,4 -4,-220 620,-220 620,4 -4,4\"/>\n<!-- 0 -->\n<g id=\"node1\" class=\"node\">\n<title>0</title>\n<polygon fill=\"#f8decb\" stroke=\"black\" points=\"389,-216 242,-216 242,-163 389,-163 389,-216\"/>\n<text text-anchor=\"middle\" x=\"315.5\" y=\"-200.8\" font-family=\"Helvetica,sans-Serif\" font-size=\"14.00\">x[6] &lt;= 0.468</text>\n<text text-anchor=\"middle\" x=\"315.5\" y=\"-185.8\" font-family=\"Helvetica,sans-Serif\" font-size=\"14.00\">samples = 100.0%</text>\n<text text-anchor=\"middle\" x=\"315.5\" y=\"-170.8\" font-family=\"Helvetica,sans-Serif\" font-size=\"14.00\">value = [0.575, 0.425]</text>\n</g>\n<!-- 1 -->\n<g id=\"node2\" class=\"node\">\n<title>1</title>\n<polygon fill=\"#96cbf1\" stroke=\"black\" points=\"302.5,-127 170.5,-127 170.5,-74 302.5,-74 302.5,-127\"/>\n<text text-anchor=\"middle\" x=\"236.5\" y=\"-111.8\" font-family=\"Helvetica,sans-Serif\" font-size=\"14.00\">x[2] &lt;= &#45;0.42</text>\n<text text-anchor=\"middle\" x=\"236.5\" y=\"-96.8\" font-family=\"Helvetica,sans-Serif\" font-size=\"14.00\">samples = 64.9%</text>\n<text text-anchor=\"middle\" x=\"236.5\" y=\"-81.8\" font-family=\"Helvetica,sans-Serif\" font-size=\"14.00\">value = [0.32, 0.68]</text>\n</g>\n<!-- 0&#45;&gt;1 -->\n<g id=\"edge1\" class=\"edge\">\n<title>0&#45;&gt;1</title>\n<path fill=\"none\" stroke=\"black\" d=\"M292.22,-162.87C284.26,-154.1 275.23,-144.15 266.79,-134.86\"/>\n<polygon fill=\"black\" stroke=\"black\" points=\"269.2,-132.3 259.88,-127.25 264.01,-137.01 269.2,-132.3\"/>\n<text text-anchor=\"middle\" x=\"258.68\" y=\"-148.52\" font-family=\"Helvetica,sans-Serif\" font-size=\"14.00\">True</text>\n</g>\n<!-- 4 -->\n<g id=\"node5\" class=\"node\">\n<title>4</title>\n<polygon fill=\"#e6853f\" stroke=\"black\" points=\"468,-127 321,-127 321,-74 468,-74 468,-127\"/>\n<text text-anchor=\"middle\" x=\"394.5\" y=\"-111.8\" font-family=\"Helvetica,sans-Serif\" font-size=\"14.00\">x[27] &lt;= &#45;0.282</text>\n<text text-anchor=\"middle\" x=\"394.5\" y=\"-96.8\" font-family=\"Helvetica,sans-Serif\" font-size=\"14.00\">samples = 35.1%</text>\n<text text-anchor=\"middle\" x=\"394.5\" y=\"-81.8\" font-family=\"Helvetica,sans-Serif\" font-size=\"14.00\">value = [0.968, 0.032]</text>\n</g>\n<!-- 0&#45;&gt;4 -->\n<g id=\"edge4\" class=\"edge\">\n<title>0&#45;&gt;4</title>\n<path fill=\"none\" stroke=\"black\" d=\"M338.78,-162.87C346.74,-154.1 355.77,-144.15 364.21,-134.86\"/>\n<polygon fill=\"black\" stroke=\"black\" points=\"366.99,-137.01 371.12,-127.25 361.8,-132.3 366.99,-137.01\"/>\n<text text-anchor=\"middle\" x=\"372.32\" y=\"-148.52\" font-family=\"Helvetica,sans-Serif\" font-size=\"14.00\">False</text>\n</g>\n<!-- 2 -->\n<g id=\"node3\" class=\"node\">\n<title>2</title>\n<polygon fill=\"#43a2e6\" stroke=\"black\" points=\"147,-38 0,-38 0,0 147,0 147,-38\"/>\n<text text-anchor=\"middle\" x=\"73.5\" y=\"-22.8\" font-family=\"Helvetica,sans-Serif\" font-size=\"14.00\">samples = 43.6%</text>\n<text text-anchor=\"middle\" x=\"73.5\" y=\"-7.8\" font-family=\"Helvetica,sans-Serif\" font-size=\"14.00\">value = [0.047, 0.953]</text>\n</g>\n<!-- 1&#45;&gt;2 -->\n<g id=\"edge2\" class=\"edge\">\n<title>1&#45;&gt;2</title>\n<path fill=\"none\" stroke=\"black\" d=\"M184.03,-73.91C163.38,-63.84 139.87,-52.37 119.86,-42.61\"/>\n<polygon fill=\"black\" stroke=\"black\" points=\"121.16,-39.35 110.64,-38.12 118.1,-45.64 121.16,-39.35\"/>\n</g>\n<!-- 3 -->\n<g id=\"node4\" class=\"node\">\n<title>3</title>\n<polygon fill=\"#ea985c\" stroke=\"black\" points=\"312,-38 165,-38 165,0 312,0 312,-38\"/>\n<text text-anchor=\"middle\" x=\"238.5\" y=\"-22.8\" font-family=\"Helvetica,sans-Serif\" font-size=\"14.00\">samples = 21.3%</text>\n<text text-anchor=\"middle\" x=\"238.5\" y=\"-7.8\" font-family=\"Helvetica,sans-Serif\" font-size=\"14.00\">value = [0.848, 0.152]</text>\n</g>\n<!-- 1&#45;&gt;3 -->\n<g id=\"edge3\" class=\"edge\">\n<title>1&#45;&gt;3</title>\n<path fill=\"none\" stroke=\"black\" d=\"M237.14,-73.91C237.35,-65.74 237.58,-56.65 237.79,-48.3\"/>\n<polygon fill=\"black\" stroke=\"black\" points=\"241.29,-48.32 238.04,-38.24 234.29,-48.15 241.29,-48.32\"/>\n</g>\n<!-- 5 -->\n<g id=\"node6\" class=\"node\">\n<title>5</title>\n<polygon fill=\"#399de5\" stroke=\"black\" points=\"451,-38 334,-38 334,0 451,0 451,-38\"/>\n<text text-anchor=\"middle\" x=\"392.5\" y=\"-22.8\" font-family=\"Helvetica,sans-Serif\" font-size=\"14.00\">samples = 1.1%</text>\n<text text-anchor=\"middle\" x=\"392.5\" y=\"-7.8\" font-family=\"Helvetica,sans-Serif\" font-size=\"14.00\">value = [0.0, 1.0]</text>\n</g>\n<!-- 4&#45;&gt;5 -->\n<g id=\"edge5\" class=\"edge\">\n<title>4&#45;&gt;5</title>\n<path fill=\"none\" stroke=\"black\" d=\"M393.86,-73.91C393.65,-65.74 393.42,-56.65 393.21,-48.3\"/>\n<polygon fill=\"black\" stroke=\"black\" points=\"396.71,-48.15 392.96,-38.24 389.71,-48.32 396.71,-48.15\"/>\n</g>\n<!-- 6 -->\n<g id=\"node7\" class=\"node\">\n<title>6</title>\n<polygon fill=\"#e5833c\" stroke=\"black\" points=\"616,-38 469,-38 469,0 616,0 616,-38\"/>\n<text text-anchor=\"middle\" x=\"542.5\" y=\"-22.8\" font-family=\"Helvetica,sans-Serif\" font-size=\"14.00\">samples = 34.0%</text>\n<text text-anchor=\"middle\" x=\"542.5\" y=\"-7.8\" font-family=\"Helvetica,sans-Serif\" font-size=\"14.00\">value = [0.984, 0.016]</text>\n</g>\n<!-- 4&#45;&gt;6 -->\n<g id=\"edge6\" class=\"edge\">\n<title>4&#45;&gt;6</title>\n<path fill=\"none\" stroke=\"black\" d=\"M442.14,-73.91C460.56,-64.01 481.49,-52.77 499.45,-43.12\"/>\n<polygon fill=\"black\" stroke=\"black\" points=\"501.39,-46.05 508.55,-38.24 498.08,-39.89 501.39,-46.05\"/>\n</g>\n</g>\n</svg>\n",
            "text/plain": [
              "<graphviz.sources.Source at 0x7f08a9d8b340>"
            ]
          },
          "metadata": {}
        },
        {
          "output_type": "display_data",
          "data": {
            "image/svg+xml": "<?xml version=\"1.0\" encoding=\"UTF-8\" standalone=\"no\"?>\n<!DOCTYPE svg PUBLIC \"-//W3C//DTD SVG 1.1//EN\"\n \"http://www.w3.org/Graphics/SVG/1.1/DTD/svg11.dtd\">\n<!-- Generated by graphviz version 2.43.0 (0)\n -->\n<!-- Title: Tree Pages: 1 -->\n<svg width=\"609pt\" height=\"224pt\"\n viewBox=\"0.00 0.00 609.00 224.00\" xmlns=\"http://www.w3.org/2000/svg\" xmlns:xlink=\"http://www.w3.org/1999/xlink\">\n<g id=\"graph0\" class=\"graph\" transform=\"scale(1 1) rotate(0) translate(4 220)\">\n<title>Tree</title>\n<polygon fill=\"white\" stroke=\"transparent\" points=\"-4,4 -4,-220 605,-220 605,4 -4,4\"/>\n<!-- 0 -->\n<g id=\"node1\" class=\"node\">\n<title>0</title>\n<polygon fill=\"#f1f8fd\" stroke=\"black\" points=\"362,-216 215,-216 215,-163 362,-163 362,-216\"/>\n<text text-anchor=\"middle\" x=\"288.5\" y=\"-200.8\" font-family=\"Helvetica,sans-Serif\" font-size=\"14.00\">x[13] &lt;= &#45;0.454</text>\n<text text-anchor=\"middle\" x=\"288.5\" y=\"-185.8\" font-family=\"Helvetica,sans-Serif\" font-size=\"14.00\">samples = 100.0%</text>\n<text text-anchor=\"middle\" x=\"288.5\" y=\"-170.8\" font-family=\"Helvetica,sans-Serif\" font-size=\"14.00\">value = [0.481, 0.519]</text>\n</g>\n<!-- 1 -->\n<g id=\"node2\" class=\"node\">\n<title>1</title>\n<polygon fill=\"#42a1e6\" stroke=\"black\" points=\"280,-127 133,-127 133,-74 280,-74 280,-127\"/>\n<text text-anchor=\"middle\" x=\"206.5\" y=\"-111.8\" font-family=\"Helvetica,sans-Serif\" font-size=\"14.00\">x[55] &lt;= &#45;1.197</text>\n<text text-anchor=\"middle\" x=\"206.5\" y=\"-96.8\" font-family=\"Helvetica,sans-Serif\" font-size=\"14.00\">samples = 46.7%</text>\n<text text-anchor=\"middle\" x=\"206.5\" y=\"-81.8\" font-family=\"Helvetica,sans-Serif\" font-size=\"14.00\">value = [0.042, 0.958]</text>\n</g>\n<!-- 0&#45;&gt;1 -->\n<g id=\"edge1\" class=\"edge\">\n<title>0&#45;&gt;1</title>\n<path fill=\"none\" stroke=\"black\" d=\"M264.34,-162.87C255.99,-154.01 246.51,-143.95 237.68,-134.58\"/>\n<polygon fill=\"black\" stroke=\"black\" points=\"240.18,-132.13 230.77,-127.25 235.08,-136.93 240.18,-132.13\"/>\n<text text-anchor=\"middle\" x=\"230.03\" y=\"-148.54\" font-family=\"Helvetica,sans-Serif\" font-size=\"14.00\">True</text>\n</g>\n<!-- 4 -->\n<g id=\"node5\" class=\"node\">\n<title>4</title>\n<polygon fill=\"#ea995e\" stroke=\"black\" points=\"445,-127 298,-127 298,-74 445,-74 445,-127\"/>\n<text text-anchor=\"middle\" x=\"371.5\" y=\"-111.8\" font-family=\"Helvetica,sans-Serif\" font-size=\"14.00\">x[26] &lt;= &#45;0.429</text>\n<text text-anchor=\"middle\" x=\"371.5\" y=\"-96.8\" font-family=\"Helvetica,sans-Serif\" font-size=\"14.00\">samples = 53.3%</text>\n<text text-anchor=\"middle\" x=\"371.5\" y=\"-81.8\" font-family=\"Helvetica,sans-Serif\" font-size=\"14.00\">value = [0.841, 0.159]</text>\n</g>\n<!-- 0&#45;&gt;4 -->\n<g id=\"edge4\" class=\"edge\">\n<title>0&#45;&gt;4</title>\n<path fill=\"none\" stroke=\"black\" d=\"M312.95,-162.87C321.41,-154.01 331,-143.95 339.94,-134.58\"/>\n<polygon fill=\"black\" stroke=\"black\" points=\"342.56,-136.9 346.93,-127.25 337.5,-132.07 342.56,-136.9\"/>\n<text text-anchor=\"middle\" x=\"347.52\" y=\"-148.54\" font-family=\"Helvetica,sans-Serif\" font-size=\"14.00\">False</text>\n</g>\n<!-- 2 -->\n<g id=\"node3\" class=\"node\">\n<title>2</title>\n<polygon fill=\"#e58139\" stroke=\"black\" points=\"117,-38 0,-38 0,0 117,0 117,-38\"/>\n<text text-anchor=\"middle\" x=\"58.5\" y=\"-22.8\" font-family=\"Helvetica,sans-Serif\" font-size=\"14.00\">samples = 1.0%</text>\n<text text-anchor=\"middle\" x=\"58.5\" y=\"-7.8\" font-family=\"Helvetica,sans-Serif\" font-size=\"14.00\">value = [1.0, 0.0]</text>\n</g>\n<!-- 1&#45;&gt;2 -->\n<g id=\"edge2\" class=\"edge\">\n<title>1&#45;&gt;2</title>\n<path fill=\"none\" stroke=\"black\" d=\"M158.86,-73.91C140.44,-64.01 119.51,-52.77 101.55,-43.12\"/>\n<polygon fill=\"black\" stroke=\"black\" points=\"102.92,-39.89 92.45,-38.24 99.61,-46.05 102.92,-39.89\"/>\n</g>\n<!-- 3 -->\n<g id=\"node4\" class=\"node\">\n<title>3</title>\n<polygon fill=\"#3c9ee5\" stroke=\"black\" points=\"282,-38 135,-38 135,0 282,0 282,-38\"/>\n<text text-anchor=\"middle\" x=\"208.5\" y=\"-22.8\" font-family=\"Helvetica,sans-Serif\" font-size=\"14.00\">samples = 45.7%</text>\n<text text-anchor=\"middle\" x=\"208.5\" y=\"-7.8\" font-family=\"Helvetica,sans-Serif\" font-size=\"14.00\">value = [0.014, 0.986]</text>\n</g>\n<!-- 1&#45;&gt;3 -->\n<g id=\"edge3\" class=\"edge\">\n<title>1&#45;&gt;3</title>\n<path fill=\"none\" stroke=\"black\" d=\"M207.14,-73.91C207.35,-65.74 207.58,-56.65 207.79,-48.3\"/>\n<polygon fill=\"black\" stroke=\"black\" points=\"211.29,-48.32 208.04,-38.24 204.29,-48.15 211.29,-48.32\"/>\n</g>\n<!-- 5 -->\n<g id=\"node6\" class=\"node\">\n<title>5</title>\n<polygon fill=\"#f9e4d5\" stroke=\"black\" points=\"435.5,-38 303.5,-38 303.5,0 435.5,0 435.5,-38\"/>\n<text text-anchor=\"middle\" x=\"369.5\" y=\"-22.8\" font-family=\"Helvetica,sans-Serif\" font-size=\"14.00\">samples = 11.4%</text>\n<text text-anchor=\"middle\" x=\"369.5\" y=\"-7.8\" font-family=\"Helvetica,sans-Serif\" font-size=\"14.00\">value = [0.56, 0.44]</text>\n</g>\n<!-- 4&#45;&gt;5 -->\n<g id=\"edge5\" class=\"edge\">\n<title>4&#45;&gt;5</title>\n<path fill=\"none\" stroke=\"black\" d=\"M370.86,-73.91C370.65,-65.74 370.42,-56.65 370.21,-48.3\"/>\n<polygon fill=\"black\" stroke=\"black\" points=\"373.71,-48.15 369.96,-38.24 366.71,-48.32 373.71,-48.15\"/>\n</g>\n<!-- 6 -->\n<g id=\"node7\" class=\"node\">\n<title>6</title>\n<polygon fill=\"#e68743\" stroke=\"black\" points=\"601,-38 454,-38 454,0 601,0 601,-38\"/>\n<text text-anchor=\"middle\" x=\"527.5\" y=\"-22.8\" font-family=\"Helvetica,sans-Serif\" font-size=\"14.00\">samples = 41.9%</text>\n<text text-anchor=\"middle\" x=\"527.5\" y=\"-7.8\" font-family=\"Helvetica,sans-Serif\" font-size=\"14.00\">value = [0.952, 0.048]</text>\n</g>\n<!-- 4&#45;&gt;6 -->\n<g id=\"edge6\" class=\"edge\">\n<title>4&#45;&gt;6</title>\n<path fill=\"none\" stroke=\"black\" d=\"M421.72,-73.91C441.31,-63.92 463.6,-52.56 482.65,-42.86\"/>\n<polygon fill=\"black\" stroke=\"black\" points=\"484.39,-45.9 491.71,-38.24 481.21,-39.66 484.39,-45.9\"/>\n</g>\n</g>\n</svg>\n",
            "text/plain": [
              "<graphviz.sources.Source at 0x7f08a9d8b0a0>"
            ]
          },
          "metadata": {}
        }
      ]
    },
    {
      "cell_type": "code",
      "source": [
        "accuracy_score(y_test,rf_result)"
      ],
      "metadata": {
        "id": "al_vs9wezfLn",
        "outputId": "bd3d9855-913e-471d-9619-46b71805814e",
        "colab": {
          "base_uri": "https://localhost:8080/"
        }
      },
      "execution_count": 80,
      "outputs": [
        {
          "output_type": "execute_result",
          "data": {
            "text/plain": [
              "0.975"
            ]
          },
          "metadata": {},
          "execution_count": 80
        }
      ]
    },
    {
      "cell_type": "code",
      "source": [
        "rf_accuracy = accuracy_score(y_test, rf_result)\n",
        "print(\"Accuracy:\", rf_accuracy)"
      ],
      "metadata": {
        "id": "SYV_7aSS2lwF",
        "outputId": "30cad1c6-ac52-439b-fa08-a1ead92bbb97",
        "colab": {
          "base_uri": "https://localhost:8080/"
        }
      },
      "execution_count": 82,
      "outputs": [
        {
          "output_type": "stream",
          "name": "stdout",
          "text": [
            "Accuracy: 0.975\n"
          ]
        }
      ]
    },
    {
      "cell_type": "code",
      "source": [
        "cm_rf = confusion_matrix(y_test,rf_result)\n",
        "cm_rf"
      ],
      "metadata": {
        "id": "MXAxyKcx22X-",
        "outputId": "3302914a-e14e-489d-ac14-3cb1de39a2bd",
        "colab": {
          "base_uri": "https://localhost:8080/"
        }
      },
      "execution_count": 83,
      "outputs": [
        {
          "output_type": "execute_result",
          "data": {
            "text/plain": [
              "array([[18,  0],\n",
              "       [ 1, 21]])"
            ]
          },
          "metadata": {},
          "execution_count": 83
        }
      ]
    },
    {
      "cell_type": "code",
      "source": [
        "print(classification_report(rf_result, y_test))"
      ],
      "metadata": {
        "id": "nunS5CTX3IjP",
        "outputId": "55a59bd4-2fea-4ce7-f7e7-4cb916483664",
        "colab": {
          "base_uri": "https://localhost:8080/"
        }
      },
      "execution_count": 84,
      "outputs": [
        {
          "output_type": "stream",
          "name": "stdout",
          "text": [
            "              precision    recall  f1-score   support\n",
            "\n",
            "           0       1.00      0.95      0.97        19\n",
            "           1       0.95      1.00      0.98        21\n",
            "\n",
            "    accuracy                           0.97        40\n",
            "   macro avg       0.98      0.97      0.97        40\n",
            "weighted avg       0.98      0.97      0.97        40\n",
            "\n"
          ]
        }
      ]
    },
    {
      "cell_type": "markdown",
      "source": [
        "##ANN  Artificial Neural Network  "
      ],
      "metadata": {
        "id": "0wvKXnBEvKMV"
      }
    },
    {
      "cell_type": "code",
      "source": [
        "from sklearn.neural_network import MLPClassifier\n",
        "ann = MLPClassifier(solver='lbfgs', alpha=1e-5,\n",
        "                    hidden_layer_sizes=(3, ), random_state=1)"
      ],
      "metadata": {
        "id": "2Wv9dAEp3b1y"
      },
      "execution_count": 85,
      "outputs": []
    },
    {
      "cell_type": "code",
      "source": [
        "ann.fit(X_train, y_train)\n",
        "MLPClassifier(alpha=1e-05, hidden_layer_sizes=(3,), random_state=1,\n",
        "              solver='lbfgs')"
      ],
      "metadata": {
        "id": "UCn5rNh8p78Q",
        "outputId": "fd59aaa5-ce5e-4a6d-ed58-26ea05b46db3",
        "colab": {
          "base_uri": "https://localhost:8080/",
          "height": 92
        }
      },
      "execution_count": 86,
      "outputs": [
        {
          "output_type": "execute_result",
          "data": {
            "text/plain": [
              "MLPClassifier(alpha=1e-05, hidden_layer_sizes=(3,), random_state=1,\n",
              "              solver='lbfgs')"
            ],
            "text/html": [
              "<style>#sk-container-id-5 {color: black;background-color: white;}#sk-container-id-5 pre{padding: 0;}#sk-container-id-5 div.sk-toggleable {background-color: white;}#sk-container-id-5 label.sk-toggleable__label {cursor: pointer;display: block;width: 100%;margin-bottom: 0;padding: 0.3em;box-sizing: border-box;text-align: center;}#sk-container-id-5 label.sk-toggleable__label-arrow:before {content: \"▸\";float: left;margin-right: 0.25em;color: #696969;}#sk-container-id-5 label.sk-toggleable__label-arrow:hover:before {color: black;}#sk-container-id-5 div.sk-estimator:hover label.sk-toggleable__label-arrow:before {color: black;}#sk-container-id-5 div.sk-toggleable__content {max-height: 0;max-width: 0;overflow: hidden;text-align: left;background-color: #f0f8ff;}#sk-container-id-5 div.sk-toggleable__content pre {margin: 0.2em;color: black;border-radius: 0.25em;background-color: #f0f8ff;}#sk-container-id-5 input.sk-toggleable__control:checked~div.sk-toggleable__content {max-height: 200px;max-width: 100%;overflow: auto;}#sk-container-id-5 input.sk-toggleable__control:checked~label.sk-toggleable__label-arrow:before {content: \"▾\";}#sk-container-id-5 div.sk-estimator input.sk-toggleable__control:checked~label.sk-toggleable__label {background-color: #d4ebff;}#sk-container-id-5 div.sk-label input.sk-toggleable__control:checked~label.sk-toggleable__label {background-color: #d4ebff;}#sk-container-id-5 input.sk-hidden--visually {border: 0;clip: rect(1px 1px 1px 1px);clip: rect(1px, 1px, 1px, 1px);height: 1px;margin: -1px;overflow: hidden;padding: 0;position: absolute;width: 1px;}#sk-container-id-5 div.sk-estimator {font-family: monospace;background-color: #f0f8ff;border: 1px dotted black;border-radius: 0.25em;box-sizing: border-box;margin-bottom: 0.5em;}#sk-container-id-5 div.sk-estimator:hover {background-color: #d4ebff;}#sk-container-id-5 div.sk-parallel-item::after {content: \"\";width: 100%;border-bottom: 1px solid gray;flex-grow: 1;}#sk-container-id-5 div.sk-label:hover label.sk-toggleable__label {background-color: #d4ebff;}#sk-container-id-5 div.sk-serial::before {content: \"\";position: absolute;border-left: 1px solid gray;box-sizing: border-box;top: 0;bottom: 0;left: 50%;z-index: 0;}#sk-container-id-5 div.sk-serial {display: flex;flex-direction: column;align-items: center;background-color: white;padding-right: 0.2em;padding-left: 0.2em;position: relative;}#sk-container-id-5 div.sk-item {position: relative;z-index: 1;}#sk-container-id-5 div.sk-parallel {display: flex;align-items: stretch;justify-content: center;background-color: white;position: relative;}#sk-container-id-5 div.sk-item::before, #sk-container-id-5 div.sk-parallel-item::before {content: \"\";position: absolute;border-left: 1px solid gray;box-sizing: border-box;top: 0;bottom: 0;left: 50%;z-index: -1;}#sk-container-id-5 div.sk-parallel-item {display: flex;flex-direction: column;z-index: 1;position: relative;background-color: white;}#sk-container-id-5 div.sk-parallel-item:first-child::after {align-self: flex-end;width: 50%;}#sk-container-id-5 div.sk-parallel-item:last-child::after {align-self: flex-start;width: 50%;}#sk-container-id-5 div.sk-parallel-item:only-child::after {width: 0;}#sk-container-id-5 div.sk-dashed-wrapped {border: 1px dashed gray;margin: 0 0.4em 0.5em 0.4em;box-sizing: border-box;padding-bottom: 0.4em;background-color: white;}#sk-container-id-5 div.sk-label label {font-family: monospace;font-weight: bold;display: inline-block;line-height: 1.2em;}#sk-container-id-5 div.sk-label-container {text-align: center;}#sk-container-id-5 div.sk-container {/* jupyter's `normalize.less` sets `[hidden] { display: none; }` but bootstrap.min.css set `[hidden] { display: none !important; }` so we also need the `!important` here to be able to override the default hidden behavior on the sphinx rendered scikit-learn.org. See: https://github.com/scikit-learn/scikit-learn/issues/21755 */display: inline-block !important;position: relative;}#sk-container-id-5 div.sk-text-repr-fallback {display: none;}</style><div id=\"sk-container-id-5\" class=\"sk-top-container\"><div class=\"sk-text-repr-fallback\"><pre>MLPClassifier(alpha=1e-05, hidden_layer_sizes=(3,), random_state=1,\n",
              "              solver=&#x27;lbfgs&#x27;)</pre><b>In a Jupyter environment, please rerun this cell to show the HTML representation or trust the notebook. <br />On GitHub, the HTML representation is unable to render, please try loading this page with nbviewer.org.</b></div><div class=\"sk-container\" hidden><div class=\"sk-item\"><div class=\"sk-estimator sk-toggleable\"><input class=\"sk-toggleable__control sk-hidden--visually\" id=\"sk-estimator-id-5\" type=\"checkbox\" checked><label for=\"sk-estimator-id-5\" class=\"sk-toggleable__label sk-toggleable__label-arrow\">MLPClassifier</label><div class=\"sk-toggleable__content\"><pre>MLPClassifier(alpha=1e-05, hidden_layer_sizes=(3,), random_state=1,\n",
              "              solver=&#x27;lbfgs&#x27;)</pre></div></div></div></div></div>"
            ]
          },
          "metadata": {},
          "execution_count": 86
        }
      ]
    },
    {
      "cell_type": "code",
      "source": [
        "ann_result = ann.predict(X_test)"
      ],
      "metadata": {
        "id": "uWasVryprWG-"
      },
      "execution_count": 87,
      "outputs": []
    },
    {
      "cell_type": "code",
      "source": [
        "ann_accuracy = accuracy_score(y_test, ann_result)\n",
        "print(\"Accuracy:\", ann_accuracy)"
      ],
      "metadata": {
        "id": "pWE6h0WutRyc",
        "outputId": "364a4c5c-7f3e-4a07-e90b-b5b63e125f46",
        "colab": {
          "base_uri": "https://localhost:8080/"
        }
      },
      "execution_count": 88,
      "outputs": [
        {
          "output_type": "stream",
          "name": "stdout",
          "text": [
            "Accuracy: 1.0\n"
          ]
        }
      ]
    },
    {
      "cell_type": "code",
      "source": [
        "cm_ann = confusion_matrix(y_test,ann_result)\n",
        "cm_ann"
      ],
      "metadata": {
        "id": "p9j3glM-tl95",
        "outputId": "ef415d51-9f1a-4a44-8774-5c8f0fef1f94",
        "colab": {
          "base_uri": "https://localhost:8080/"
        }
      },
      "execution_count": 89,
      "outputs": [
        {
          "output_type": "execute_result",
          "data": {
            "text/plain": [
              "array([[18,  0],\n",
              "       [ 0, 22]])"
            ]
          },
          "metadata": {},
          "execution_count": 89
        }
      ]
    },
    {
      "cell_type": "code",
      "source": [
        "print(classification_report(ann_result, y_test))"
      ],
      "metadata": {
        "id": "lWr0h0UbtyUH",
        "outputId": "12b74b03-50a2-4ae7-8833-9feb9dd783bd",
        "colab": {
          "base_uri": "https://localhost:8080/"
        }
      },
      "execution_count": 90,
      "outputs": [
        {
          "output_type": "stream",
          "name": "stdout",
          "text": [
            "              precision    recall  f1-score   support\n",
            "\n",
            "           0       1.00      1.00      1.00        18\n",
            "           1       1.00      1.00      1.00        22\n",
            "\n",
            "    accuracy                           1.00        40\n",
            "   macro avg       1.00      1.00      1.00        40\n",
            "weighted avg       1.00      1.00      1.00        40\n",
            "\n"
          ]
        }
      ]
    },
    {
      "cell_type": "code",
      "source": [],
      "metadata": {
        "id": "6Hmopw1_vofd"
      },
      "execution_count": null,
      "outputs": []
    }
  ]
}